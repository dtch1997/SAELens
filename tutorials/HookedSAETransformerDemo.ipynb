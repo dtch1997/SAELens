{
  "cells": [
    {
      "cell_type": "markdown",
      "metadata": {
        "id": "21PsETcSvih8"
      },
      "source": [
        "# HookedSAETransformer Demo"
      ]
    },
    {
      "cell_type": "markdown",
      "metadata": {
        "id": "czfp0vG8vih-"
      },
      "source": [
        "This tutorial is based on a tutorial written by [Connor Kissane](https://github.com/ckkissane) but contains edits reflecting changes to the code which was submitted as a [PR](https://github.com/neelnanda-io/TransformerLens/pull/536) to [TransformerLens](https://github.com/neelnanda-io/TransformerLens). The functionality for HookedSAETransformer is implemented in TransformerLens but we have duplicated / adapted this code so that the same functionality exists in SAE Lens (for easier adaptation alongside SAE analysis code).\n",
        "\n",
        "----\n",
        "\n",
        "HookedSAETransformer is a lightweight extension of HookedTransformer that allows you to attach Sparse Autoencoders to activations. This makes it easy to do exploratory analysis such as running inference with SAEs attached, caching SAE feature activations, and intervening on SAE activations with hooks.\n",
        "\n",
        "I (Connor Kissane) implemented this to accelerate research on [Attention SAEs](https://www.lesswrong.com/posts/DtdzGwFh9dCfsekZZ/sparse-autoencoders-work-on-attention-layer-outputs) based on helpful suggestions from Neel Nanda and Arthur Conmy, and found that it was well worth the time and effort. With research on dictionary learning progressing rapidly, I'm not confident that this is the ultimate design, but I hope other researchers will find the library useful. This notebook demonstrates how it works and how to use it."
      ]
    },
    {
      "cell_type": "markdown",
      "metadata": {
        "id": "ChwzGP1Hvih-"
      },
      "source": [
        "# Setup"
      ]
    },
    {
      "cell_type": "code",
      "execution_count": 1,
      "metadata": {
        "id": "86U2aSmCvih-",
        "outputId": "edb0828f-0de0-4ee6-8d59-e62eeb153d73"
      },
      "outputs": [
        {
          "name": "stdout",
          "output_type": "stream",
          "text": [
            "Running as a Jupyter notebook - intended for development only!\n"
          ]
        },
        {
          "name": "stderr",
          "output_type": "stream",
          "text": [
            "/var/folders/qd/04zj2h4n2pvc87x_7w1z97_r0000gn/T/ipykernel_32396/1624699167.py:16: DeprecationWarning: `magic(...)` is deprecated since IPython 0.13 (warning added in 8.1), use run_line_magic(magic_name, parameter_s).\n",
            "  ipython.magic(\"load_ext autoreload\")\n",
            "/var/folders/qd/04zj2h4n2pvc87x_7w1z97_r0000gn/T/ipykernel_32396/1624699167.py:17: DeprecationWarning: `magic(...)` is deprecated since IPython 0.13 (warning added in 8.1), use run_line_magic(magic_name, parameter_s).\n",
            "  ipython.magic(\"autoreload 2\")\n"
          ]
        }
      ],
      "source": [
        "# Janky code to do different setup when run in a Colab notebook vs VSCode\n",
        "DEVELOPMENT_MODE = False\n",
        "try:\n",
        "    import google.colab\n",
        "    IN_COLAB = True\n",
        "    print(\"Running as a Colab notebook\")\n",
        "    %pip install saelens\n",
        "\n",
        "except:\n",
        "    IN_COLAB = False\n",
        "    print(\"Running as a Jupyter notebook - intended for development only!\")\n",
        "    from IPython import get_ipython\n",
        "\n",
        "    ipython = get_ipython()\n",
        "    # Code to automatically update the HookedTransformer code as its edited without restarting the kernel\n",
        "    ipython.magic(\"load_ext autoreload\")\n",
        "    ipython.magic(\"autoreload 2\")"
      ]
    },
    {
      "cell_type": "code",
      "execution_count": 2,
      "metadata": {
        "id": "sdNTxZJxvih_"
      },
      "outputs": [
        {
          "data": {
            "text/plain": [
              "<torch.autograd.grad_mode.set_grad_enabled at 0x2af7b0f50>"
            ]
          },
          "execution_count": 2,
          "metadata": {},
          "output_type": "execute_result"
        }
      ],
      "source": [
        "import torch\n",
        "import transformer_lens.utils as utils\n",
        "\n",
        "import plotly.express as px\n",
        "import tqdm\n",
        "from functools import partial\n",
        "import einops\n",
        "\n",
        "if torch.cuda.is_available():\n",
        "    device = \"cuda\"\n",
        "elif torch.backends.mps.is_available():\n",
        "    device = \"mps\"\n",
        "else:\n",
        "    device = \"cpu\"\n",
        "    \n",
        "torch.set_grad_enabled(False)"
      ]
    },
    {
      "cell_type": "markdown",
      "metadata": {
        "id": "EqUYjl6jviiA"
      },
      "source": [
        "# Loading and Running Models"
      ]
    },
    {
      "cell_type": "markdown",
      "metadata": {
        "id": "gHiRDPykviiA"
      },
      "source": [
        "Just like a [HookedTransformer](https://neelnanda-io.github.io/TransformerLens/generated/demos/Main_Demo.html#Loading-and-Running-Models), we can load in any model that's supported in TransformerLens with the `HookedSAETransformer.from_pretrained(MODEL_NAME)`. In this demo we'll use GPT-2 small."
      ]
    },
    {
      "cell_type": "code",
      "execution_count": 3,
      "metadata": {
        "id": "PtkUguSNviiA",
        "outputId": "bd6ff8cd-c386-4bdc-e70b-259f83d104fe"
      },
      "outputs": [
        {
          "name": "stdout",
          "output_type": "stream",
          "text": [
            "Loaded pretrained model gpt2-small into HookedTransformer\n",
            "Moving model to device:  mps\n"
          ]
        }
      ],
      "source": [
        "from sae_lens.analysis.hooked_sae_transformer import HookedSAETransformer\n",
        "model: HookedSAETransformer = HookedSAETransformer.from_pretrained(\"gpt2-small\").to(device)"
      ]
    },
    {
      "cell_type": "markdown",
      "metadata": {
        "id": "EwmLaVHxviiA"
      },
      "source": [
        "We haven't attached any SAEs, so the model will behave exactly like a HookedTransformer. We'll explore the main features of HookedSAETransformer on the classic IOI task, so let's first sanity check that GPT2-small can do the IOI task without any SAEs attached:"
      ]
    },
    {
      "cell_type": "code",
      "execution_count": 4,
      "metadata": {
        "id": "OluB5iCtviiA",
        "outputId": "512ef995-317e-48bd-d149-5d28bb8fd9b7"
      },
      "outputs": [
        {
          "name": "stdout",
          "output_type": "stream",
          "text": [
            "['When John and Mary went to the shops, Mary gave the bag to', 'When John and Mary went to the shops, John gave the bag to', 'When Tom and James went to the park, James gave the ball to', 'When Tom and James went to the park, Tom gave the ball to', 'When Dan and Sid went to the shops, Sid gave an apple to', 'When Dan and Sid went to the shops, Dan gave an apple to', 'After Martin and Amy went to the park, Amy gave a drink to', 'After Martin and Amy went to the park, Martin gave a drink to']\n",
            "[(' John', ' Mary'), (' Mary', ' John'), (' Tom', ' James'), (' James', ' Tom'), (' Dan', ' Sid'), (' Sid', ' Dan'), (' Martin', ' Amy'), (' Amy', ' Martin')]\n"
          ]
        }
      ],
      "source": [
        "prompt_format = [\n",
        "    \"When John and Mary went to the shops,{} gave the bag to\",\n",
        "    \"When Tom and James went to the park,{} gave the ball to\",\n",
        "    \"When Dan and Sid went to the shops,{} gave an apple to\",\n",
        "    \"After Martin and Amy went to the park,{} gave a drink to\",\n",
        "]\n",
        "names = [\n",
        "    (\" John\", \" Mary\",),\n",
        "    (\" Tom\", \" James\"),\n",
        "    (\" Dan\", \" Sid\"),\n",
        "    (\" Martin\", \" Amy\"),\n",
        "]\n",
        "# List of prompts\n",
        "prompts = []\n",
        "# List of answers, in the format (correct, incorrect)\n",
        "answers = []\n",
        "# List of the token (ie an integer) corresponding to each answer, in the format (correct_token, incorrect_token)\n",
        "answer_tokens = []\n",
        "for i in range(len(prompt_format)):\n",
        "    for j in range(2):\n",
        "        answers.append((names[i][j], names[i][1 - j]))\n",
        "        answer_tokens.append(\n",
        "            (\n",
        "                model.to_single_token(answers[-1][0]),\n",
        "                model.to_single_token(answers[-1][1]),\n",
        "            )\n",
        "        )\n",
        "        # Insert the *incorrect* answer to the prompt, making the correct answer the indirect object.\n",
        "        prompts.append(prompt_format[i].format(answers[-1][1]))\n",
        "answer_tokens = torch.tensor(answer_tokens).to(device)\n",
        "print(prompts)\n",
        "print(answers)"
      ]
    },
    {
      "cell_type": "code",
      "execution_count": 5,
      "metadata": {
        "id": "8neGU356viiA",
        "outputId": "9ff3af5e-a972-4727-c7c7-f0deb816f9c6"
      },
      "outputs": [
        {
          "name": "stdout",
          "output_type": "stream",
          "text": [
            "Original average logit diff: 3.5518882274627686\n",
            "Original per prompt logit diff: tensor([3.2016, 3.3367, 2.7095, 3.7975, 1.7204, 5.2812, 2.6008, 5.7674],\n",
            "       device='mps:0')\n"
          ]
        }
      ],
      "source": [
        "def logits_to_ave_logit_diff(logits, answer_tokens, per_prompt=False):\n",
        "    # Only the final logits are relevant for the answer\n",
        "    final_logits = logits[:, -1, :]\n",
        "    answer_logits = final_logits.gather(dim=-1, index=answer_tokens)\n",
        "    answer_logit_diff = answer_logits[:, 0] - answer_logits[:, 1]\n",
        "    if per_prompt:\n",
        "        return answer_logit_diff\n",
        "    else:\n",
        "        return answer_logit_diff.mean()\n",
        "\n",
        "tokens = model.to_tokens(prompts, prepend_bos=True)\n",
        "original_logits, cache = model.run_with_cache(tokens)\n",
        "original_average_logit_diff = logits_to_ave_logit_diff(original_logits, answer_tokens)\n",
        "print(f\"Original average logit diff: {original_average_logit_diff}\")\n",
        "original_per_prompt_logit_diff = logits_to_ave_logit_diff(original_logits, answer_tokens, per_prompt=True)\n",
        "print(f\"Original per prompt logit diff: {original_per_prompt_logit_diff}\")"
      ]
    },
    {
      "cell_type": "markdown",
      "metadata": {},
      "source": [
        "# Attach SAEs\n",
        "\n",
        "The key feature of HookedSAETransformer is being able to attach an SAEs to any activation with `model.attach_sae(sae)`, where sae is a HookedSAE.\n",
        "\n",
        "Let's load in a set of GPT-small residual stream SAEs and attach them to the model."
      ]
    },
    {
      "cell_type": "code",
      "execution_count": 6,
      "metadata": {},
      "outputs": [
        {
          "name": "stderr",
          "output_type": "stream",
          "text": [
            "huggingface/tokenizers: The current process just got forked, after parallelism has already been used. Disabling parallelism to avoid deadlocks...\n",
            "To disable this warning, you can either:\n",
            "\t- Avoid using `tokenizers` before the fork if possible\n",
            "\t- Explicitly set the environment variable TOKENIZERS_PARALLELISM=(true | false)\n",
            "  0%|          | 0/1 [00:00<?, ?it/s]"
          ]
        },
        {
          "name": "stderr",
          "output_type": "stream",
          "text": [
            "100%|██████████| 1/1 [00:00<00:00,  1.69it/s]\n"
          ]
        }
      ],
      "source": [
        "from sae_lens.toolkit.pretrained_saes import get_gpt2_res_jb_saes\n",
        "\n",
        "# We'll download all of them since we'll use them later.\n",
        "sparse_autoencoders, sparsities = get_gpt2_res_jb_saes(\"blocks.7.hook_resid_pre\", device =\"mps\")\n",
        "specific_hook_point = \"blocks.7.hook_resid_pre\"\n",
        "sparse_autoencoder = sparse_autoencoders[specific_hook_point]\n",
        "model.attach_sae(sparse_autoencoder)"
      ]
    },
    {
      "cell_type": "markdown",
      "metadata": {
        "id": "glPrLBZWviiB"
      },
      "source": [
        "When you attach an SAE, it gets stored in `model.acts_to_saes`, a dictionary that maps the activation name to the HookedSAE that is attached. Now that these SAEs are attached, we can just run the model like a normal HookedTransformer, but the activations will be replaced with the reconstructed activations from the corresponding SAEs!\n",
        "\n",
        "This is useful for testing how good SAEs are on different tasks: here let's check the IOI logit diff with the L5+L6 attn SAEs attached, and see that we still recover >93% of the logit diff relative to zero ablation."
      ]
    },
    {
      "cell_type": "code",
      "execution_count": 7,
      "metadata": {
        "id": "S41Qdp4hviiB",
        "outputId": "3137a123-d39e-4865-f4f7-1650227a4421"
      },
      "outputs": [
        {
          "name": "stdout",
          "output_type": "stream",
          "text": [
            "Average logit diff with SAEs: 3.4094748497009277\n"
          ]
        }
      ],
      "source": [
        "logits_with_saes, cache = model.run_with_cache(tokens)\n",
        "average_logit_diff_with_saes = logits_to_ave_logit_diff(logits_with_saes, answer_tokens)\n",
        "print(f\"Average logit diff with SAEs: {average_logit_diff_with_saes}\")\n",
        "per_prompt_diff_with_saes = logits_to_ave_logit_diff(logits_with_saes, answer_tokens, per_prompt=True)"
      ]
    },
    {
      "cell_type": "code",
      "execution_count": 8,
      "metadata": {},
      "outputs": [
        {
          "data": {
            "text/plain": [
              "['blocks.7.hook_resid_pre.hook_sae_input',\n",
              " 'blocks.7.hook_resid_pre.hook_sae_acts_pre',\n",
              " 'blocks.7.hook_resid_pre.hook_sae_acts_post',\n",
              " 'blocks.7.hook_resid_pre.hook_sae_output']"
            ]
          },
          "metadata": {},
          "output_type": "display_data"
        }
      ],
      "source": [
        "# you can see the hooks that are now part of the cache here:\n",
        "display([k for k in cache.keys() if \"blocks.7.hook_resid_pre\" in k])"
      ]
    },
    {
      "cell_type": "code",
      "execution_count": 9,
      "metadata": {
        "id": "6JbBqbp5viiB",
        "outputId": "d2123e25-72bd-4d51-be80-85a16b28234d"
      },
      "outputs": [
        {
          "name": "stdout",
          "output_type": "stream",
          "text": [
            "Zero ablated logit diff: 0.0\n"
          ]
        }
      ],
      "source": [
        "def zero_ablate_resid(resid, hook, pos=None):\n",
        "    if pos is None:\n",
        "        resid[:] = 0.\n",
        "    else:\n",
        "        resid[:, pos, :] = 0.\n",
        "    return resid\n",
        "\n",
        "layers = [7]\n",
        "act_names = [utils.get_act_name('resid_pre', layer) + \".hook_sae_output\" for layer in layers]\n",
        "zero_abl_logits = model.run_with_hooks(\n",
        "    tokens,\n",
        "    return_type=\"logits\",\n",
        "    fwd_hooks=[\n",
        "        (act_name, zero_ablate_resid) for act_name in act_names\n",
        "    ]\n",
        ")\n",
        "\n",
        "per_prompt_zero_abl_logit_diff = logits_to_ave_logit_diff(zero_abl_logits, answer_tokens, per_prompt=True)\n",
        "avg_zero_abl_logit_diff = logits_to_ave_logit_diff(zero_abl_logits, answer_tokens)\n",
        "print(f\"Zero ablated logit diff: {avg_zero_abl_logit_diff}\")"
      ]
    },
    {
      "cell_type": "code",
      "execution_count": 10,
      "metadata": {
        "id": "ZCrGYx4_viiB",
        "outputId": "45734d28-3fe2-492a-fd22-129d45a646f5"
      },
      "outputs": [
        {
          "name": "stdout",
          "output_type": "stream",
          "text": [
            "average_logit_diff_recovered 0.9599049091339111\n"
          ]
        }
      ],
      "source": [
        "average_logit_diff_recovered = (average_logit_diff_with_saes - avg_zero_abl_logit_diff) / (original_average_logit_diff - avg_zero_abl_logit_diff)\n",
        "print(f\"average_logit_diff_recovered\", average_logit_diff_recovered.item())"
      ]
    },
    {
      "cell_type": "code",
      "execution_count": 11,
      "metadata": {
        "id": "22hgynGjviiB",
        "outputId": "68d8528c-cabd-4af7-adda-2239b4218618"
      },
      "outputs": [
        {
          "data": {
            "application/vnd.plotly.v1+json": {
              "config": {
                "plotlyServerURL": "https://plotly.com"
              },
              "data": [
                {
                  "error_y": {
                    "array": [
                      1.3678250312805176,
                      5.904354572296143,
                      2.0034966468811035
                    ],
                    "type": "data",
                    "visible": true
                  },
                  "type": "bar",
                  "x": [
                    "Clean Baseline",
                    "Zero Abl [L5 L6]",
                    "With SAEs [L7]"
                  ],
                  "y": [
                    3.5518882274627686,
                    0,
                    3.4094748497009277
                  ]
                }
              ],
              "layout": {
                "plot_bgcolor": "white",
                "template": {
                  "data": {
                    "bar": [
                      {
                        "error_x": {
                          "color": "#2a3f5f"
                        },
                        "error_y": {
                          "color": "#2a3f5f"
                        },
                        "marker": {
                          "line": {
                            "color": "#E5ECF6",
                            "width": 0.5
                          },
                          "pattern": {
                            "fillmode": "overlay",
                            "size": 10,
                            "solidity": 0.2
                          }
                        },
                        "type": "bar"
                      }
                    ],
                    "barpolar": [
                      {
                        "marker": {
                          "line": {
                            "color": "#E5ECF6",
                            "width": 0.5
                          },
                          "pattern": {
                            "fillmode": "overlay",
                            "size": 10,
                            "solidity": 0.2
                          }
                        },
                        "type": "barpolar"
                      }
                    ],
                    "carpet": [
                      {
                        "aaxis": {
                          "endlinecolor": "#2a3f5f",
                          "gridcolor": "white",
                          "linecolor": "white",
                          "minorgridcolor": "white",
                          "startlinecolor": "#2a3f5f"
                        },
                        "baxis": {
                          "endlinecolor": "#2a3f5f",
                          "gridcolor": "white",
                          "linecolor": "white",
                          "minorgridcolor": "white",
                          "startlinecolor": "#2a3f5f"
                        },
                        "type": "carpet"
                      }
                    ],
                    "choropleth": [
                      {
                        "colorbar": {
                          "outlinewidth": 0,
                          "ticks": ""
                        },
                        "type": "choropleth"
                      }
                    ],
                    "contour": [
                      {
                        "colorbar": {
                          "outlinewidth": 0,
                          "ticks": ""
                        },
                        "colorscale": [
                          [
                            0,
                            "#0d0887"
                          ],
                          [
                            0.1111111111111111,
                            "#46039f"
                          ],
                          [
                            0.2222222222222222,
                            "#7201a8"
                          ],
                          [
                            0.3333333333333333,
                            "#9c179e"
                          ],
                          [
                            0.4444444444444444,
                            "#bd3786"
                          ],
                          [
                            0.5555555555555556,
                            "#d8576b"
                          ],
                          [
                            0.6666666666666666,
                            "#ed7953"
                          ],
                          [
                            0.7777777777777778,
                            "#fb9f3a"
                          ],
                          [
                            0.8888888888888888,
                            "#fdca26"
                          ],
                          [
                            1,
                            "#f0f921"
                          ]
                        ],
                        "type": "contour"
                      }
                    ],
                    "contourcarpet": [
                      {
                        "colorbar": {
                          "outlinewidth": 0,
                          "ticks": ""
                        },
                        "type": "contourcarpet"
                      }
                    ],
                    "heatmap": [
                      {
                        "colorbar": {
                          "outlinewidth": 0,
                          "ticks": ""
                        },
                        "colorscale": [
                          [
                            0,
                            "#0d0887"
                          ],
                          [
                            0.1111111111111111,
                            "#46039f"
                          ],
                          [
                            0.2222222222222222,
                            "#7201a8"
                          ],
                          [
                            0.3333333333333333,
                            "#9c179e"
                          ],
                          [
                            0.4444444444444444,
                            "#bd3786"
                          ],
                          [
                            0.5555555555555556,
                            "#d8576b"
                          ],
                          [
                            0.6666666666666666,
                            "#ed7953"
                          ],
                          [
                            0.7777777777777778,
                            "#fb9f3a"
                          ],
                          [
                            0.8888888888888888,
                            "#fdca26"
                          ],
                          [
                            1,
                            "#f0f921"
                          ]
                        ],
                        "type": "heatmap"
                      }
                    ],
                    "heatmapgl": [
                      {
                        "colorbar": {
                          "outlinewidth": 0,
                          "ticks": ""
                        },
                        "colorscale": [
                          [
                            0,
                            "#0d0887"
                          ],
                          [
                            0.1111111111111111,
                            "#46039f"
                          ],
                          [
                            0.2222222222222222,
                            "#7201a8"
                          ],
                          [
                            0.3333333333333333,
                            "#9c179e"
                          ],
                          [
                            0.4444444444444444,
                            "#bd3786"
                          ],
                          [
                            0.5555555555555556,
                            "#d8576b"
                          ],
                          [
                            0.6666666666666666,
                            "#ed7953"
                          ],
                          [
                            0.7777777777777778,
                            "#fb9f3a"
                          ],
                          [
                            0.8888888888888888,
                            "#fdca26"
                          ],
                          [
                            1,
                            "#f0f921"
                          ]
                        ],
                        "type": "heatmapgl"
                      }
                    ],
                    "histogram": [
                      {
                        "marker": {
                          "pattern": {
                            "fillmode": "overlay",
                            "size": 10,
                            "solidity": 0.2
                          }
                        },
                        "type": "histogram"
                      }
                    ],
                    "histogram2d": [
                      {
                        "colorbar": {
                          "outlinewidth": 0,
                          "ticks": ""
                        },
                        "colorscale": [
                          [
                            0,
                            "#0d0887"
                          ],
                          [
                            0.1111111111111111,
                            "#46039f"
                          ],
                          [
                            0.2222222222222222,
                            "#7201a8"
                          ],
                          [
                            0.3333333333333333,
                            "#9c179e"
                          ],
                          [
                            0.4444444444444444,
                            "#bd3786"
                          ],
                          [
                            0.5555555555555556,
                            "#d8576b"
                          ],
                          [
                            0.6666666666666666,
                            "#ed7953"
                          ],
                          [
                            0.7777777777777778,
                            "#fb9f3a"
                          ],
                          [
                            0.8888888888888888,
                            "#fdca26"
                          ],
                          [
                            1,
                            "#f0f921"
                          ]
                        ],
                        "type": "histogram2d"
                      }
                    ],
                    "histogram2dcontour": [
                      {
                        "colorbar": {
                          "outlinewidth": 0,
                          "ticks": ""
                        },
                        "colorscale": [
                          [
                            0,
                            "#0d0887"
                          ],
                          [
                            0.1111111111111111,
                            "#46039f"
                          ],
                          [
                            0.2222222222222222,
                            "#7201a8"
                          ],
                          [
                            0.3333333333333333,
                            "#9c179e"
                          ],
                          [
                            0.4444444444444444,
                            "#bd3786"
                          ],
                          [
                            0.5555555555555556,
                            "#d8576b"
                          ],
                          [
                            0.6666666666666666,
                            "#ed7953"
                          ],
                          [
                            0.7777777777777778,
                            "#fb9f3a"
                          ],
                          [
                            0.8888888888888888,
                            "#fdca26"
                          ],
                          [
                            1,
                            "#f0f921"
                          ]
                        ],
                        "type": "histogram2dcontour"
                      }
                    ],
                    "mesh3d": [
                      {
                        "colorbar": {
                          "outlinewidth": 0,
                          "ticks": ""
                        },
                        "type": "mesh3d"
                      }
                    ],
                    "parcoords": [
                      {
                        "line": {
                          "colorbar": {
                            "outlinewidth": 0,
                            "ticks": ""
                          }
                        },
                        "type": "parcoords"
                      }
                    ],
                    "pie": [
                      {
                        "automargin": true,
                        "type": "pie"
                      }
                    ],
                    "scatter": [
                      {
                        "fillpattern": {
                          "fillmode": "overlay",
                          "size": 10,
                          "solidity": 0.2
                        },
                        "type": "scatter"
                      }
                    ],
                    "scatter3d": [
                      {
                        "line": {
                          "colorbar": {
                            "outlinewidth": 0,
                            "ticks": ""
                          }
                        },
                        "marker": {
                          "colorbar": {
                            "outlinewidth": 0,
                            "ticks": ""
                          }
                        },
                        "type": "scatter3d"
                      }
                    ],
                    "scattercarpet": [
                      {
                        "marker": {
                          "colorbar": {
                            "outlinewidth": 0,
                            "ticks": ""
                          }
                        },
                        "type": "scattercarpet"
                      }
                    ],
                    "scattergeo": [
                      {
                        "marker": {
                          "colorbar": {
                            "outlinewidth": 0,
                            "ticks": ""
                          }
                        },
                        "type": "scattergeo"
                      }
                    ],
                    "scattergl": [
                      {
                        "marker": {
                          "colorbar": {
                            "outlinewidth": 0,
                            "ticks": ""
                          }
                        },
                        "type": "scattergl"
                      }
                    ],
                    "scattermapbox": [
                      {
                        "marker": {
                          "colorbar": {
                            "outlinewidth": 0,
                            "ticks": ""
                          }
                        },
                        "type": "scattermapbox"
                      }
                    ],
                    "scatterpolar": [
                      {
                        "marker": {
                          "colorbar": {
                            "outlinewidth": 0,
                            "ticks": ""
                          }
                        },
                        "type": "scatterpolar"
                      }
                    ],
                    "scatterpolargl": [
                      {
                        "marker": {
                          "colorbar": {
                            "outlinewidth": 0,
                            "ticks": ""
                          }
                        },
                        "type": "scatterpolargl"
                      }
                    ],
                    "scatterternary": [
                      {
                        "marker": {
                          "colorbar": {
                            "outlinewidth": 0,
                            "ticks": ""
                          }
                        },
                        "type": "scatterternary"
                      }
                    ],
                    "surface": [
                      {
                        "colorbar": {
                          "outlinewidth": 0,
                          "ticks": ""
                        },
                        "colorscale": [
                          [
                            0,
                            "#0d0887"
                          ],
                          [
                            0.1111111111111111,
                            "#46039f"
                          ],
                          [
                            0.2222222222222222,
                            "#7201a8"
                          ],
                          [
                            0.3333333333333333,
                            "#9c179e"
                          ],
                          [
                            0.4444444444444444,
                            "#bd3786"
                          ],
                          [
                            0.5555555555555556,
                            "#d8576b"
                          ],
                          [
                            0.6666666666666666,
                            "#ed7953"
                          ],
                          [
                            0.7777777777777778,
                            "#fb9f3a"
                          ],
                          [
                            0.8888888888888888,
                            "#fdca26"
                          ],
                          [
                            1,
                            "#f0f921"
                          ]
                        ],
                        "type": "surface"
                      }
                    ],
                    "table": [
                      {
                        "cells": {
                          "fill": {
                            "color": "#EBF0F8"
                          },
                          "line": {
                            "color": "white"
                          }
                        },
                        "header": {
                          "fill": {
                            "color": "#C8D4E3"
                          },
                          "line": {
                            "color": "white"
                          }
                        },
                        "type": "table"
                      }
                    ]
                  },
                  "layout": {
                    "annotationdefaults": {
                      "arrowcolor": "#2a3f5f",
                      "arrowhead": 0,
                      "arrowwidth": 1
                    },
                    "autotypenumbers": "strict",
                    "coloraxis": {
                      "colorbar": {
                        "outlinewidth": 0,
                        "ticks": ""
                      }
                    },
                    "colorscale": {
                      "diverging": [
                        [
                          0,
                          "#8e0152"
                        ],
                        [
                          0.1,
                          "#c51b7d"
                        ],
                        [
                          0.2,
                          "#de77ae"
                        ],
                        [
                          0.3,
                          "#f1b6da"
                        ],
                        [
                          0.4,
                          "#fde0ef"
                        ],
                        [
                          0.5,
                          "#f7f7f7"
                        ],
                        [
                          0.6,
                          "#e6f5d0"
                        ],
                        [
                          0.7,
                          "#b8e186"
                        ],
                        [
                          0.8,
                          "#7fbc41"
                        ],
                        [
                          0.9,
                          "#4d9221"
                        ],
                        [
                          1,
                          "#276419"
                        ]
                      ],
                      "sequential": [
                        [
                          0,
                          "#0d0887"
                        ],
                        [
                          0.1111111111111111,
                          "#46039f"
                        ],
                        [
                          0.2222222222222222,
                          "#7201a8"
                        ],
                        [
                          0.3333333333333333,
                          "#9c179e"
                        ],
                        [
                          0.4444444444444444,
                          "#bd3786"
                        ],
                        [
                          0.5555555555555556,
                          "#d8576b"
                        ],
                        [
                          0.6666666666666666,
                          "#ed7953"
                        ],
                        [
                          0.7777777777777778,
                          "#fb9f3a"
                        ],
                        [
                          0.8888888888888888,
                          "#fdca26"
                        ],
                        [
                          1,
                          "#f0f921"
                        ]
                      ],
                      "sequentialminus": [
                        [
                          0,
                          "#0d0887"
                        ],
                        [
                          0.1111111111111111,
                          "#46039f"
                        ],
                        [
                          0.2222222222222222,
                          "#7201a8"
                        ],
                        [
                          0.3333333333333333,
                          "#9c179e"
                        ],
                        [
                          0.4444444444444444,
                          "#bd3786"
                        ],
                        [
                          0.5555555555555556,
                          "#d8576b"
                        ],
                        [
                          0.6666666666666666,
                          "#ed7953"
                        ],
                        [
                          0.7777777777777778,
                          "#fb9f3a"
                        ],
                        [
                          0.8888888888888888,
                          "#fdca26"
                        ],
                        [
                          1,
                          "#f0f921"
                        ]
                      ]
                    },
                    "colorway": [
                      "#636efa",
                      "#EF553B",
                      "#00cc96",
                      "#ab63fa",
                      "#FFA15A",
                      "#19d3f3",
                      "#FF6692",
                      "#B6E880",
                      "#FF97FF",
                      "#FECB52"
                    ],
                    "font": {
                      "color": "#2a3f5f"
                    },
                    "geo": {
                      "bgcolor": "white",
                      "lakecolor": "white",
                      "landcolor": "#E5ECF6",
                      "showlakes": true,
                      "showland": true,
                      "subunitcolor": "white"
                    },
                    "hoverlabel": {
                      "align": "left"
                    },
                    "hovermode": "closest",
                    "mapbox": {
                      "style": "light"
                    },
                    "paper_bgcolor": "white",
                    "plot_bgcolor": "#E5ECF6",
                    "polar": {
                      "angularaxis": {
                        "gridcolor": "white",
                        "linecolor": "white",
                        "ticks": ""
                      },
                      "bgcolor": "#E5ECF6",
                      "radialaxis": {
                        "gridcolor": "white",
                        "linecolor": "white",
                        "ticks": ""
                      }
                    },
                    "scene": {
                      "xaxis": {
                        "backgroundcolor": "#E5ECF6",
                        "gridcolor": "white",
                        "gridwidth": 2,
                        "linecolor": "white",
                        "showbackground": true,
                        "ticks": "",
                        "zerolinecolor": "white"
                      },
                      "yaxis": {
                        "backgroundcolor": "#E5ECF6",
                        "gridcolor": "white",
                        "gridwidth": 2,
                        "linecolor": "white",
                        "showbackground": true,
                        "ticks": "",
                        "zerolinecolor": "white"
                      },
                      "zaxis": {
                        "backgroundcolor": "#E5ECF6",
                        "gridcolor": "white",
                        "gridwidth": 2,
                        "linecolor": "white",
                        "showbackground": true,
                        "ticks": "",
                        "zerolinecolor": "white"
                      }
                    },
                    "shapedefaults": {
                      "line": {
                        "color": "#2a3f5f"
                      }
                    },
                    "ternary": {
                      "aaxis": {
                        "gridcolor": "white",
                        "linecolor": "white",
                        "ticks": ""
                      },
                      "baxis": {
                        "gridcolor": "white",
                        "linecolor": "white",
                        "ticks": ""
                      },
                      "bgcolor": "#E5ECF6",
                      "caxis": {
                        "gridcolor": "white",
                        "linecolor": "white",
                        "ticks": ""
                      }
                    },
                    "title": {
                      "x": 0.05
                    },
                    "xaxis": {
                      "automargin": true,
                      "gridcolor": "white",
                      "linecolor": "white",
                      "ticks": "",
                      "title": {
                        "standoff": 15
                      },
                      "zerolinecolor": "white",
                      "zerolinewidth": 2
                    },
                    "yaxis": {
                      "automargin": true,
                      "gridcolor": "white",
                      "linecolor": "white",
                      "ticks": "",
                      "title": {
                        "standoff": 15
                      },
                      "zerolinecolor": "white",
                      "zerolinewidth": 2
                    }
                  }
                },
                "title": {
                  "text": "Logit Diff after Interventions"
                },
                "xaxis": {
                  "title": {
                    "text": "Intervention"
                  }
                },
                "yaxis": {
                  "title": {
                    "text": "Logit diff"
                  }
                }
              }
            }
          },
          "metadata": {},
          "output_type": "display_data"
        }
      ],
      "source": [
        "from typing import List\n",
        "import plotly.graph_objects as go\n",
        "def show_avg_logit_diffs(x_axis: List[str], per_prompt_logit_diffs: List[torch.tensor]):\n",
        "\n",
        "\n",
        "    y_data = [per_prompt_logit_diff.mean().item() for per_prompt_logit_diff in per_prompt_logit_diffs]\n",
        "    error_y_data = [per_prompt_logit_diff.std().item() for per_prompt_logit_diff in per_prompt_logit_diffs]\n",
        "\n",
        "    fig = go.Figure(data=[go.Bar(\n",
        "        x=x_axis,\n",
        "        y=y_data,\n",
        "        error_y=dict(\n",
        "            type='data',  # specifies that the actual values are given\n",
        "            array=error_y_data,  # the magnitudes of the errors\n",
        "            visible=True  # make error bars visible\n",
        "        ),\n",
        "    )])\n",
        "\n",
        "    # Customize layout\n",
        "    fig.update_layout(title_text=f'Logit Diff after Interventions',\n",
        "                    xaxis_title_text='Intervention',\n",
        "                    yaxis_title_text='Logit diff',\n",
        "                    plot_bgcolor='white')\n",
        "\n",
        "    # Show the figure\n",
        "    fig.show()\n",
        "\n",
        "x_axis = ['Clean Baseline', \"Zero Abl [L5 L6]\", \"With SAEs [L7]\"]\n",
        "per_prompt_logit_diffs = [\n",
        "    original_per_prompt_logit_diff,\n",
        "    per_prompt_zero_abl_logit_diff,\n",
        "    per_prompt_diff_with_saes]\n",
        "\n",
        "show_avg_logit_diffs(x_axis, per_prompt_logit_diffs)"
      ]
    },
    {
      "cell_type": "markdown",
      "metadata": {
        "id": "o0eWSNTGviiB"
      },
      "source": [
        "## \"Attach\" vs \"Turn on\" SAEs"
      ]
    },
    {
      "cell_type": "markdown",
      "metadata": {
        "id": "_CTrp-sFviiB"
      },
      "source": [
        "Eventually you may want not want to run with SAEs that you previously attached. You can deactivate them with `model.turn_saes_off(act_names)`, where act_names is the list of activations where you want to deactivate the corresponding SAE. You can also just turn all of them off with the `model.turn_saes_off()`, which is often simpler in practice:"
      ]
    },
    {
      "cell_type": "code",
      "execution_count": 12,
      "metadata": {
        "id": "6YxuWlfKviiB",
        "outputId": "a3da1f0b-e874-4858-fc4e-4625eb0cf623"
      },
      "outputs": [
        {
          "name": "stdout",
          "output_type": "stream",
          "text": [
            "SAEs turned on before: {'blocks.7.hook_resid_pre': True}\n",
            "SAEs turned on after: {'blocks.7.hook_resid_pre': False}\n"
          ]
        }
      ],
      "source": [
        "print(\"SAEs turned on before:\", model.get_saes_status())\n",
        "model.turn_saes_off()\n",
        "print(\"SAEs turned on after:\", model.get_saes_status())"
      ]
    },
    {
      "cell_type": "markdown",
      "metadata": {
        "id": "W87gZM58viiB"
      },
      "source": [
        "When you turn off an SAE it is still 'attached', so you can turn it back on with `model.turn_saes_on(act_names)`. You can also just turn on all of the SAEs you've attached with `model.turn_saes_on()`.\n",
        "\n",
        "When you attach an SAE with `model.attach_sae(sae)`, it automatically gets turned on by default. You can also attach SAEs without turning them on with `model.attach_sae(sae, turn_on=False)`. This is useful if you want to attach a bunch of SAEs upfront and turn on different ones later. Let's attach GPT-2 small attention SAEs on every layer, but without turning any on, so we can easily use them later."
      ]
    },
    {
      "cell_type": "code",
      "execution_count": 13,
      "metadata": {
        "id": "JPfxIkQQviiB",
        "outputId": "8fdc77b7-2a89-43cc-99b5-3f518d0c2005"
      },
      "outputs": [
        {
          "name": "stderr",
          "output_type": "stream",
          "text": [
            "  0%|          | 0/13 [00:00<?, ?it/s]"
          ]
        },
        {
          "name": "stderr",
          "output_type": "stream",
          "text": [
            "100%|██████████| 13/13 [00:07<00:00,  1.68it/s]\n",
            "WARNING:root:SAE already attached to blocks.7.hook_resid_pre. This will be replaced.\n"
          ]
        },
        {
          "name": "stdout",
          "output_type": "stream",
          "text": [
            "Attached SAEs before: dict_keys(['blocks.7.hook_resid_pre'])\n",
            "Attached SAEs after: dict_keys(['blocks.7.hook_resid_pre', 'blocks.0.hook_resid_pre', 'blocks.1.hook_resid_pre', 'blocks.2.hook_resid_pre', 'blocks.3.hook_resid_pre', 'blocks.4.hook_resid_pre', 'blocks.5.hook_resid_pre', 'blocks.6.hook_resid_pre', 'blocks.8.hook_resid_pre', 'blocks.9.hook_resid_pre', 'blocks.10.hook_resid_pre', 'blocks.11.hook_resid_pre', 'blocks.11.hook_resid_post'])\n"
          ]
        }
      ],
      "source": [
        "sparse_autoencoders, sparsities = get_gpt2_res_jb_saes(device =\"mps\")\n",
        "print(\"Attached SAEs before:\", model.acts_to_saes.keys())\n",
        "for sae in sparse_autoencoders.values():\n",
        "    model.attach_sae(sae)\n",
        "print(\"Attached SAEs after:\", model.acts_to_saes.keys())"
      ]
    },
    {
      "cell_type": "markdown",
      "metadata": {
        "id": "9CokkkWQviiB"
      },
      "source": [
        "# Run with SAEs"
      ]
    },
    {
      "cell_type": "markdown",
      "metadata": {
        "id": "rJtx0iENviiB"
      },
      "source": [
        "Sometimes we want to rapidly run with different combinations of SAEs, in which case keeping track of what SAEs are on / off can be a hassle.\n",
        "\n",
        "If you know that you only want to temporarily run with some SAEs turned on for one forward pass, you can use `model.run_with_saes(tokens, act_names=act_names)`. You should pass in a list of strings for the activations corresponding to the SAEs that you want to turn on for this forward pass. Note if you already have some SAEs turned on, this will turn them off. It will also turn off all attached SAEs after running, creating a clean slate.\n",
        "\n",
        "To demonstrate, let's use `run_with_saes` evaluate many combinations of SAEs on different cross sections of the IOI circuit."
      ]
    },
    {
      "cell_type": "code",
      "execution_count": 14,
      "metadata": {
        "id": "Z0VOMx5hviiB",
        "outputId": "8b8e4852-696b-48c0-9c95-05f652bd0934"
      },
      "outputs": [
        {
          "data": {
            "application/vnd.plotly.v1+json": {
              "config": {
                "plotlyServerURL": "https://plotly.com"
              },
              "data": [
                {
                  "error_y": {
                    "array": [
                      1.3678250312805176,
                      0.9449405670166016,
                      1.270774006843567,
                      1.1608237028121948,
                      1.4035496711730957,
                      0.9901193380355835,
                      1.0244791507720947,
                      0.9156167507171631,
                      2.0034966468811035,
                      0.7384688258171082,
                      1.2830265760421753,
                      2.864776611328125,
                      1.235366702079773
                    ],
                    "type": "data",
                    "visible": true
                  },
                  "type": "bar",
                  "x": [
                    "Clean Baseline",
                    "With SAEs L[0]",
                    "With SAEs L[1]",
                    "With SAEs L[2]",
                    "With SAEs L[3]",
                    "With SAEs L[4]",
                    "With SAEs L[5]",
                    "With SAEs L[6]",
                    "With SAEs L[7]",
                    "With SAEs L[8]",
                    "With SAEs L[9]",
                    "With SAEs L[10]",
                    "With SAEs L[11]"
                  ],
                  "y": [
                    3.5518882274627686,
                    3.585047721862793,
                    3.497498035430908,
                    2.9534406661987305,
                    3.1799230575561523,
                    3.047185182571411,
                    1.6513559818267822,
                    2.400789737701416,
                    3.4094748497009277,
                    2.087542772293091,
                    2.6714096069335938,
                    2.0439839363098145,
                    2.002330780029297
                  ]
                }
              ],
              "layout": {
                "plot_bgcolor": "white",
                "template": {
                  "data": {
                    "bar": [
                      {
                        "error_x": {
                          "color": "#2a3f5f"
                        },
                        "error_y": {
                          "color": "#2a3f5f"
                        },
                        "marker": {
                          "line": {
                            "color": "#E5ECF6",
                            "width": 0.5
                          },
                          "pattern": {
                            "fillmode": "overlay",
                            "size": 10,
                            "solidity": 0.2
                          }
                        },
                        "type": "bar"
                      }
                    ],
                    "barpolar": [
                      {
                        "marker": {
                          "line": {
                            "color": "#E5ECF6",
                            "width": 0.5
                          },
                          "pattern": {
                            "fillmode": "overlay",
                            "size": 10,
                            "solidity": 0.2
                          }
                        },
                        "type": "barpolar"
                      }
                    ],
                    "carpet": [
                      {
                        "aaxis": {
                          "endlinecolor": "#2a3f5f",
                          "gridcolor": "white",
                          "linecolor": "white",
                          "minorgridcolor": "white",
                          "startlinecolor": "#2a3f5f"
                        },
                        "baxis": {
                          "endlinecolor": "#2a3f5f",
                          "gridcolor": "white",
                          "linecolor": "white",
                          "minorgridcolor": "white",
                          "startlinecolor": "#2a3f5f"
                        },
                        "type": "carpet"
                      }
                    ],
                    "choropleth": [
                      {
                        "colorbar": {
                          "outlinewidth": 0,
                          "ticks": ""
                        },
                        "type": "choropleth"
                      }
                    ],
                    "contour": [
                      {
                        "colorbar": {
                          "outlinewidth": 0,
                          "ticks": ""
                        },
                        "colorscale": [
                          [
                            0,
                            "#0d0887"
                          ],
                          [
                            0.1111111111111111,
                            "#46039f"
                          ],
                          [
                            0.2222222222222222,
                            "#7201a8"
                          ],
                          [
                            0.3333333333333333,
                            "#9c179e"
                          ],
                          [
                            0.4444444444444444,
                            "#bd3786"
                          ],
                          [
                            0.5555555555555556,
                            "#d8576b"
                          ],
                          [
                            0.6666666666666666,
                            "#ed7953"
                          ],
                          [
                            0.7777777777777778,
                            "#fb9f3a"
                          ],
                          [
                            0.8888888888888888,
                            "#fdca26"
                          ],
                          [
                            1,
                            "#f0f921"
                          ]
                        ],
                        "type": "contour"
                      }
                    ],
                    "contourcarpet": [
                      {
                        "colorbar": {
                          "outlinewidth": 0,
                          "ticks": ""
                        },
                        "type": "contourcarpet"
                      }
                    ],
                    "heatmap": [
                      {
                        "colorbar": {
                          "outlinewidth": 0,
                          "ticks": ""
                        },
                        "colorscale": [
                          [
                            0,
                            "#0d0887"
                          ],
                          [
                            0.1111111111111111,
                            "#46039f"
                          ],
                          [
                            0.2222222222222222,
                            "#7201a8"
                          ],
                          [
                            0.3333333333333333,
                            "#9c179e"
                          ],
                          [
                            0.4444444444444444,
                            "#bd3786"
                          ],
                          [
                            0.5555555555555556,
                            "#d8576b"
                          ],
                          [
                            0.6666666666666666,
                            "#ed7953"
                          ],
                          [
                            0.7777777777777778,
                            "#fb9f3a"
                          ],
                          [
                            0.8888888888888888,
                            "#fdca26"
                          ],
                          [
                            1,
                            "#f0f921"
                          ]
                        ],
                        "type": "heatmap"
                      }
                    ],
                    "heatmapgl": [
                      {
                        "colorbar": {
                          "outlinewidth": 0,
                          "ticks": ""
                        },
                        "colorscale": [
                          [
                            0,
                            "#0d0887"
                          ],
                          [
                            0.1111111111111111,
                            "#46039f"
                          ],
                          [
                            0.2222222222222222,
                            "#7201a8"
                          ],
                          [
                            0.3333333333333333,
                            "#9c179e"
                          ],
                          [
                            0.4444444444444444,
                            "#bd3786"
                          ],
                          [
                            0.5555555555555556,
                            "#d8576b"
                          ],
                          [
                            0.6666666666666666,
                            "#ed7953"
                          ],
                          [
                            0.7777777777777778,
                            "#fb9f3a"
                          ],
                          [
                            0.8888888888888888,
                            "#fdca26"
                          ],
                          [
                            1,
                            "#f0f921"
                          ]
                        ],
                        "type": "heatmapgl"
                      }
                    ],
                    "histogram": [
                      {
                        "marker": {
                          "pattern": {
                            "fillmode": "overlay",
                            "size": 10,
                            "solidity": 0.2
                          }
                        },
                        "type": "histogram"
                      }
                    ],
                    "histogram2d": [
                      {
                        "colorbar": {
                          "outlinewidth": 0,
                          "ticks": ""
                        },
                        "colorscale": [
                          [
                            0,
                            "#0d0887"
                          ],
                          [
                            0.1111111111111111,
                            "#46039f"
                          ],
                          [
                            0.2222222222222222,
                            "#7201a8"
                          ],
                          [
                            0.3333333333333333,
                            "#9c179e"
                          ],
                          [
                            0.4444444444444444,
                            "#bd3786"
                          ],
                          [
                            0.5555555555555556,
                            "#d8576b"
                          ],
                          [
                            0.6666666666666666,
                            "#ed7953"
                          ],
                          [
                            0.7777777777777778,
                            "#fb9f3a"
                          ],
                          [
                            0.8888888888888888,
                            "#fdca26"
                          ],
                          [
                            1,
                            "#f0f921"
                          ]
                        ],
                        "type": "histogram2d"
                      }
                    ],
                    "histogram2dcontour": [
                      {
                        "colorbar": {
                          "outlinewidth": 0,
                          "ticks": ""
                        },
                        "colorscale": [
                          [
                            0,
                            "#0d0887"
                          ],
                          [
                            0.1111111111111111,
                            "#46039f"
                          ],
                          [
                            0.2222222222222222,
                            "#7201a8"
                          ],
                          [
                            0.3333333333333333,
                            "#9c179e"
                          ],
                          [
                            0.4444444444444444,
                            "#bd3786"
                          ],
                          [
                            0.5555555555555556,
                            "#d8576b"
                          ],
                          [
                            0.6666666666666666,
                            "#ed7953"
                          ],
                          [
                            0.7777777777777778,
                            "#fb9f3a"
                          ],
                          [
                            0.8888888888888888,
                            "#fdca26"
                          ],
                          [
                            1,
                            "#f0f921"
                          ]
                        ],
                        "type": "histogram2dcontour"
                      }
                    ],
                    "mesh3d": [
                      {
                        "colorbar": {
                          "outlinewidth": 0,
                          "ticks": ""
                        },
                        "type": "mesh3d"
                      }
                    ],
                    "parcoords": [
                      {
                        "line": {
                          "colorbar": {
                            "outlinewidth": 0,
                            "ticks": ""
                          }
                        },
                        "type": "parcoords"
                      }
                    ],
                    "pie": [
                      {
                        "automargin": true,
                        "type": "pie"
                      }
                    ],
                    "scatter": [
                      {
                        "fillpattern": {
                          "fillmode": "overlay",
                          "size": 10,
                          "solidity": 0.2
                        },
                        "type": "scatter"
                      }
                    ],
                    "scatter3d": [
                      {
                        "line": {
                          "colorbar": {
                            "outlinewidth": 0,
                            "ticks": ""
                          }
                        },
                        "marker": {
                          "colorbar": {
                            "outlinewidth": 0,
                            "ticks": ""
                          }
                        },
                        "type": "scatter3d"
                      }
                    ],
                    "scattercarpet": [
                      {
                        "marker": {
                          "colorbar": {
                            "outlinewidth": 0,
                            "ticks": ""
                          }
                        },
                        "type": "scattercarpet"
                      }
                    ],
                    "scattergeo": [
                      {
                        "marker": {
                          "colorbar": {
                            "outlinewidth": 0,
                            "ticks": ""
                          }
                        },
                        "type": "scattergeo"
                      }
                    ],
                    "scattergl": [
                      {
                        "marker": {
                          "colorbar": {
                            "outlinewidth": 0,
                            "ticks": ""
                          }
                        },
                        "type": "scattergl"
                      }
                    ],
                    "scattermapbox": [
                      {
                        "marker": {
                          "colorbar": {
                            "outlinewidth": 0,
                            "ticks": ""
                          }
                        },
                        "type": "scattermapbox"
                      }
                    ],
                    "scatterpolar": [
                      {
                        "marker": {
                          "colorbar": {
                            "outlinewidth": 0,
                            "ticks": ""
                          }
                        },
                        "type": "scatterpolar"
                      }
                    ],
                    "scatterpolargl": [
                      {
                        "marker": {
                          "colorbar": {
                            "outlinewidth": 0,
                            "ticks": ""
                          }
                        },
                        "type": "scatterpolargl"
                      }
                    ],
                    "scatterternary": [
                      {
                        "marker": {
                          "colorbar": {
                            "outlinewidth": 0,
                            "ticks": ""
                          }
                        },
                        "type": "scatterternary"
                      }
                    ],
                    "surface": [
                      {
                        "colorbar": {
                          "outlinewidth": 0,
                          "ticks": ""
                        },
                        "colorscale": [
                          [
                            0,
                            "#0d0887"
                          ],
                          [
                            0.1111111111111111,
                            "#46039f"
                          ],
                          [
                            0.2222222222222222,
                            "#7201a8"
                          ],
                          [
                            0.3333333333333333,
                            "#9c179e"
                          ],
                          [
                            0.4444444444444444,
                            "#bd3786"
                          ],
                          [
                            0.5555555555555556,
                            "#d8576b"
                          ],
                          [
                            0.6666666666666666,
                            "#ed7953"
                          ],
                          [
                            0.7777777777777778,
                            "#fb9f3a"
                          ],
                          [
                            0.8888888888888888,
                            "#fdca26"
                          ],
                          [
                            1,
                            "#f0f921"
                          ]
                        ],
                        "type": "surface"
                      }
                    ],
                    "table": [
                      {
                        "cells": {
                          "fill": {
                            "color": "#EBF0F8"
                          },
                          "line": {
                            "color": "white"
                          }
                        },
                        "header": {
                          "fill": {
                            "color": "#C8D4E3"
                          },
                          "line": {
                            "color": "white"
                          }
                        },
                        "type": "table"
                      }
                    ]
                  },
                  "layout": {
                    "annotationdefaults": {
                      "arrowcolor": "#2a3f5f",
                      "arrowhead": 0,
                      "arrowwidth": 1
                    },
                    "autotypenumbers": "strict",
                    "coloraxis": {
                      "colorbar": {
                        "outlinewidth": 0,
                        "ticks": ""
                      }
                    },
                    "colorscale": {
                      "diverging": [
                        [
                          0,
                          "#8e0152"
                        ],
                        [
                          0.1,
                          "#c51b7d"
                        ],
                        [
                          0.2,
                          "#de77ae"
                        ],
                        [
                          0.3,
                          "#f1b6da"
                        ],
                        [
                          0.4,
                          "#fde0ef"
                        ],
                        [
                          0.5,
                          "#f7f7f7"
                        ],
                        [
                          0.6,
                          "#e6f5d0"
                        ],
                        [
                          0.7,
                          "#b8e186"
                        ],
                        [
                          0.8,
                          "#7fbc41"
                        ],
                        [
                          0.9,
                          "#4d9221"
                        ],
                        [
                          1,
                          "#276419"
                        ]
                      ],
                      "sequential": [
                        [
                          0,
                          "#0d0887"
                        ],
                        [
                          0.1111111111111111,
                          "#46039f"
                        ],
                        [
                          0.2222222222222222,
                          "#7201a8"
                        ],
                        [
                          0.3333333333333333,
                          "#9c179e"
                        ],
                        [
                          0.4444444444444444,
                          "#bd3786"
                        ],
                        [
                          0.5555555555555556,
                          "#d8576b"
                        ],
                        [
                          0.6666666666666666,
                          "#ed7953"
                        ],
                        [
                          0.7777777777777778,
                          "#fb9f3a"
                        ],
                        [
                          0.8888888888888888,
                          "#fdca26"
                        ],
                        [
                          1,
                          "#f0f921"
                        ]
                      ],
                      "sequentialminus": [
                        [
                          0,
                          "#0d0887"
                        ],
                        [
                          0.1111111111111111,
                          "#46039f"
                        ],
                        [
                          0.2222222222222222,
                          "#7201a8"
                        ],
                        [
                          0.3333333333333333,
                          "#9c179e"
                        ],
                        [
                          0.4444444444444444,
                          "#bd3786"
                        ],
                        [
                          0.5555555555555556,
                          "#d8576b"
                        ],
                        [
                          0.6666666666666666,
                          "#ed7953"
                        ],
                        [
                          0.7777777777777778,
                          "#fb9f3a"
                        ],
                        [
                          0.8888888888888888,
                          "#fdca26"
                        ],
                        [
                          1,
                          "#f0f921"
                        ]
                      ]
                    },
                    "colorway": [
                      "#636efa",
                      "#EF553B",
                      "#00cc96",
                      "#ab63fa",
                      "#FFA15A",
                      "#19d3f3",
                      "#FF6692",
                      "#B6E880",
                      "#FF97FF",
                      "#FECB52"
                    ],
                    "font": {
                      "color": "#2a3f5f"
                    },
                    "geo": {
                      "bgcolor": "white",
                      "lakecolor": "white",
                      "landcolor": "#E5ECF6",
                      "showlakes": true,
                      "showland": true,
                      "subunitcolor": "white"
                    },
                    "hoverlabel": {
                      "align": "left"
                    },
                    "hovermode": "closest",
                    "mapbox": {
                      "style": "light"
                    },
                    "paper_bgcolor": "white",
                    "plot_bgcolor": "#E5ECF6",
                    "polar": {
                      "angularaxis": {
                        "gridcolor": "white",
                        "linecolor": "white",
                        "ticks": ""
                      },
                      "bgcolor": "#E5ECF6",
                      "radialaxis": {
                        "gridcolor": "white",
                        "linecolor": "white",
                        "ticks": ""
                      }
                    },
                    "scene": {
                      "xaxis": {
                        "backgroundcolor": "#E5ECF6",
                        "gridcolor": "white",
                        "gridwidth": 2,
                        "linecolor": "white",
                        "showbackground": true,
                        "ticks": "",
                        "zerolinecolor": "white"
                      },
                      "yaxis": {
                        "backgroundcolor": "#E5ECF6",
                        "gridcolor": "white",
                        "gridwidth": 2,
                        "linecolor": "white",
                        "showbackground": true,
                        "ticks": "",
                        "zerolinecolor": "white"
                      },
                      "zaxis": {
                        "backgroundcolor": "#E5ECF6",
                        "gridcolor": "white",
                        "gridwidth": 2,
                        "linecolor": "white",
                        "showbackground": true,
                        "ticks": "",
                        "zerolinecolor": "white"
                      }
                    },
                    "shapedefaults": {
                      "line": {
                        "color": "#2a3f5f"
                      }
                    },
                    "ternary": {
                      "aaxis": {
                        "gridcolor": "white",
                        "linecolor": "white",
                        "ticks": ""
                      },
                      "baxis": {
                        "gridcolor": "white",
                        "linecolor": "white",
                        "ticks": ""
                      },
                      "bgcolor": "#E5ECF6",
                      "caxis": {
                        "gridcolor": "white",
                        "linecolor": "white",
                        "ticks": ""
                      }
                    },
                    "title": {
                      "x": 0.05
                    },
                    "xaxis": {
                      "automargin": true,
                      "gridcolor": "white",
                      "linecolor": "white",
                      "ticks": "",
                      "title": {
                        "standoff": 15
                      },
                      "zerolinecolor": "white",
                      "zerolinewidth": 2
                    },
                    "yaxis": {
                      "automargin": true,
                      "gridcolor": "white",
                      "linecolor": "white",
                      "ticks": "",
                      "title": {
                        "standoff": 15
                      },
                      "zerolinecolor": "white",
                      "zerolinewidth": 2
                    }
                  }
                },
                "title": {
                  "text": "Logit Diff after Interventions"
                },
                "xaxis": {
                  "title": {
                    "text": "Intervention"
                  }
                },
                "yaxis": {
                  "title": {
                    "text": "Logit diff"
                  }
                }
              }
            }
          },
          "metadata": {},
          "output_type": "display_data"
        }
      ],
      "source": [
        "all_layers = [[i] for i in range(12)] # load each SAE individually\n",
        "# all_layers = [[0, 1], [2, 4], [5], [5,6], [7, 8], [9, 10, 11]] # or load combinations of SAEs\n",
        "x_axis = ['Clean Baseline']\n",
        "per_prompt_logit_diffs = [\n",
        "    original_per_prompt_logit_diff,\n",
        "]\n",
        "\n",
        "for layers in all_layers:\n",
        "    act_names = [utils.get_act_name('resid_pre', layer) for layer in layers]\n",
        "    logits_with_saes = model.run_with_saes(tokens, act_names=act_names)\n",
        "    average_logit_diff_with_saes = logits_to_ave_logit_diff(logits_with_saes, answer_tokens)\n",
        "    per_prompt_diff_with_saes = logits_to_ave_logit_diff(logits_with_saes, answer_tokens, per_prompt=True)\n",
        "\n",
        "    x_axis.append(f\"With SAEs L{layers}\")\n",
        "    per_prompt_logit_diffs.append(per_prompt_diff_with_saes)\n",
        "\n",
        "show_avg_logit_diffs(x_axis, per_prompt_logit_diffs)"
      ]
    },
    {
      "cell_type": "markdown",
      "metadata": {
        "id": "Zt-R-EMLviiC"
      },
      "source": [
        "We generally see that running with residual stream SAEs preserves most of the logit difference, but that particular SAEs (such as L5 or L10) are particularly bad. "
      ]
    },
    {
      "cell_type": "markdown",
      "metadata": {
        "id": "qt299Dn-viiC"
      },
      "source": [
        "# Run with Cache"
      ]
    },
    {
      "cell_type": "markdown",
      "metadata": {
        "id": "tZTvK_HGviiC"
      },
      "source": [
        "We often want to see what features are active on a given prompt. With HookedSAETransformer, activations from the HookedSAEs that you attach will automatically be cached with `model.run_with_cache(tokens)`. The corresponding hook names will generally be the HookedTransformer hook_name (eg blocks.5.hook_resid_pre) + the hookedSAE hooked name preceeded by a period (eg .hook_sae_acts_post)\n",
        "\n",
        "`run_with_cache` makes it easy to explore which SAE features are active on any input. Let's look at some of the top features at the S2 position for our L6 SAE across all IOI examples:"
      ]
    },
    {
      "cell_type": "code",
      "execution_count": 15,
      "metadata": {
        "id": "9h5w14HcviiC",
        "outputId": "6041de58-6d6e-471c-bbb0-310900b2f431"
      },
      "outputs": [
        {
          "data": {
            "application/vnd.plotly.v1+json": {
              "config": {
                "plotlyServerURL": "https://plotly.com"
              },
              "data": [
                {
                  "coloraxis": "coloraxis",
                  "hovertemplate": "x: %{x}<br>y: %{y}<br>color: %{z}<extra></extra>",
                  "name": "0",
                  "type": "heatmap",
                  "x": [
                    "205",
                    "350",
                    "722",
                    "799",
                    "1142",
                    "1304",
                    "1653",
                    "2021",
                    "3153",
                    "3977",
                    "4000",
                    "4309",
                    "4754",
                    "4796",
                    "5017",
                    "5049",
                    "5054",
                    "5715",
                    "5774",
                    "5949",
                    "6787",
                    "6792",
                    "8163",
                    "8197",
                    "8318",
                    "8878",
                    "9037",
                    "9153",
                    "9506",
                    "10074",
                    "10655",
                    "10955",
                    "10986",
                    "11300",
                    "12153",
                    "12489",
                    "12738",
                    "13035",
                    "13835",
                    "13977",
                    "14576",
                    "14598",
                    "14633",
                    "15059",
                    "15227",
                    "15415",
                    "16118",
                    "16203",
                    "16858",
                    "17161",
                    "17348",
                    "17369",
                    "17389",
                    "17486",
                    "17749",
                    "17855",
                    "17905",
                    "18000",
                    "18124",
                    "18745",
                    "18809",
                    "18982",
                    "18990",
                    "20638",
                    "20686",
                    "21515",
                    "21987",
                    "22043",
                    "22125",
                    "22175",
                    "22217",
                    "22230",
                    "22314",
                    "22773",
                    "23188",
                    "23491",
                    "23969",
                    "24128"
                  ],
                  "xaxis": "x",
                  "yaxis": "y",
                  "z": [
                    [
                      0,
                      0,
                      0,
                      1.009564995765686,
                      0,
                      1.1260827779769897,
                      0.08343213051557541,
                      0,
                      42.43367385864258,
                      3.2883193492889404,
                      0,
                      0,
                      1.3309978246688843,
                      0.28980427980422974,
                      0,
                      0,
                      0,
                      0,
                      0,
                      0,
                      2.155399799346924,
                      1.0713038444519043,
                      0,
                      0,
                      0,
                      1.5893573760986328,
                      0,
                      0.16214784979820251,
                      0.997788667678833,
                      0,
                      0,
                      0,
                      0.7225341200828552,
                      4.810634136199951,
                      0.6129992604255676,
                      0,
                      0,
                      1.8503371477127075,
                      0,
                      0.20055387914180756,
                      3.9599883556365967,
                      1.5782337188720703,
                      0.4473946690559387,
                      0,
                      0.12258537113666534,
                      0,
                      0,
                      0,
                      0,
                      1.6512826681137085,
                      0,
                      0,
                      1.758301854133606,
                      0,
                      1.9989081621170044,
                      7.475555896759033,
                      0.4485568404197693,
                      0,
                      2.3954339027404785,
                      1.7553783655166626,
                      0,
                      0,
                      0.27029889822006226,
                      0,
                      0,
                      4.094711780548096,
                      1.10843825340271,
                      0,
                      0,
                      0,
                      0,
                      1.6718391180038452,
                      0.028079263865947723,
                      1.7750134468078613,
                      0,
                      0,
                      0,
                      3.025264024734497
                    ],
                    [
                      0,
                      0.47034910321235657,
                      0,
                      0.49457070231437683,
                      0.5166549682617188,
                      2.1966042518615723,
                      0,
                      0,
                      0,
                      3.4779856204986572,
                      0,
                      1.1741305589675903,
                      1.3963669538497925,
                      0,
                      0,
                      0,
                      0,
                      0.2689618766307831,
                      0,
                      0,
                      1.2826311588287354,
                      0.8819727897644043,
                      0.36826762557029724,
                      0,
                      0.02718108892440796,
                      1.649402141571045,
                      0,
                      0.3804725408554077,
                      1.4205743074417114,
                      0,
                      0,
                      0,
                      0.3922036290168762,
                      5.5705766677856445,
                      0,
                      0.8490288257598877,
                      0,
                      1.53091561794281,
                      0,
                      0.9501038789749146,
                      3.8795180320739746,
                      1.4688622951507568,
                      1.7628173828125,
                      0.13717910647392273,
                      0.7814322710037231,
                      35.4830207824707,
                      0.3410741090774536,
                      0,
                      0.9601147770881653,
                      2.5595529079437256,
                      0,
                      0,
                      1.6307681798934937,
                      0,
                      1.6037846803665161,
                      7.677122116088867,
                      0.49509602785110474,
                      0.22775764763355255,
                      0,
                      2.2521071434020996,
                      0,
                      0,
                      0,
                      0,
                      0,
                      3.763231039047241,
                      0.38691651821136475,
                      0.4218333959579468,
                      0,
                      1.133734107017517,
                      0,
                      2.505274534225464,
                      0.09910257160663605,
                      1.9414494037628174,
                      0,
                      0,
                      0,
                      4.406562805175781
                    ],
                    [
                      0.0964558944106102,
                      0,
                      0,
                      0.604321300983429,
                      1.0457085371017456,
                      2.6151962280273438,
                      0,
                      0,
                      0,
                      4.334735870361328,
                      0,
                      0,
                      0.29769009351730347,
                      0,
                      0,
                      0,
                      0,
                      0,
                      0,
                      0,
                      1.3348451852798462,
                      1.0214484930038452,
                      0,
                      0,
                      0,
                      3.5905144214630127,
                      0.02626301348209381,
                      0,
                      1.0873559713363647,
                      0.018825726583600044,
                      0,
                      0,
                      0.818813145160675,
                      6.302826404571533,
                      0.2323601245880127,
                      0,
                      0,
                      2.480471611022949,
                      0,
                      0,
                      3.6470251083374023,
                      0,
                      0,
                      0,
                      0.8795449733734131,
                      0,
                      0,
                      0,
                      0,
                      1.7066891193389893,
                      9.583094596862793,
                      0,
                      0.7808082103729248,
                      0,
                      1.0783113241195679,
                      7.366933822631836,
                      1.4608612060546875,
                      0,
                      0,
                      2.9337334632873535,
                      0,
                      0,
                      1.8805873394012451,
                      30.85697364807129,
                      0,
                      4.09451150894165,
                      0,
                      0,
                      0,
                      0,
                      0,
                      2.1009769439697266,
                      0,
                      0,
                      0,
                      0,
                      0.24190667271614075,
                      0
                    ],
                    [
                      0,
                      0,
                      0,
                      0,
                      1.2007712125778198,
                      2.1525909900665283,
                      0,
                      0,
                      0,
                      5.888585567474365,
                      0,
                      0,
                      0.8859149813652039,
                      0,
                      0,
                      2.055366039276123,
                      0,
                      0,
                      0,
                      0.4936894178390503,
                      3.2611711025238037,
                      0.9588841199874878,
                      0,
                      0.273824006319046,
                      0,
                      2.0865817070007324,
                      0,
                      0.07544070482254028,
                      0.95611572265625,
                      0,
                      37.414459228515625,
                      0,
                      0.4941868782043457,
                      4.441205024719238,
                      0,
                      0,
                      0,
                      2.8277015686035156,
                      0,
                      0,
                      4.187108039855957,
                      0.48519283533096313,
                      0,
                      0,
                      0.597780168056488,
                      0,
                      0,
                      0.5779485106468201,
                      0,
                      1.5579477548599243,
                      0,
                      0,
                      0,
                      0,
                      0.07014459371566772,
                      7.038886070251465,
                      1.4138014316558838,
                      0,
                      0,
                      1.8778069019317627,
                      0,
                      0,
                      0,
                      0,
                      0,
                      3.685753107070923,
                      0,
                      0,
                      0,
                      0,
                      0,
                      1.1318999528884888,
                      0,
                      0,
                      0,
                      0,
                      0,
                      0
                    ],
                    [
                      0,
                      0,
                      44.220462799072266,
                      0.6473250389099121,
                      1.6007561683654785,
                      1.6711363792419434,
                      0,
                      1.2836525440216064,
                      0,
                      8.89156436920166,
                      0,
                      0,
                      0.5937374830245972,
                      0,
                      0,
                      7.0221405029296875,
                      0,
                      0,
                      0,
                      0,
                      5.337592601776123,
                      1.5058363676071167,
                      0,
                      0,
                      0,
                      0.8407397270202637,
                      0,
                      0.26198241114616394,
                      1.5011235475540161,
                      0,
                      0,
                      0,
                      0.9063904285430908,
                      2.300267219543457,
                      0,
                      0,
                      0,
                      2.835139751434326,
                      1.2670159339904785,
                      0.35780733823776245,
                      2.2316040992736816,
                      0.31488028168678284,
                      0,
                      0,
                      0,
                      0,
                      0,
                      0,
                      0,
                      3.771897077560425,
                      0,
                      0.6979352831840515,
                      1.130466341972351,
                      0,
                      1.2193801403045654,
                      6.731279373168945,
                      2.386991262435913,
                      0,
                      0,
                      0.6068884134292603,
                      0,
                      0,
                      0,
                      0,
                      0.10580503195524216,
                      4.4239373207092285,
                      0,
                      0,
                      1.061944842338562,
                      0,
                      6.5698041915893555,
                      0,
                      0,
                      0,
                      1.087385654449463,
                      0,
                      0,
                      0
                    ],
                    [
                      0,
                      0,
                      0,
                      0,
                      0.7080979347229004,
                      2.5034313201904297,
                      0,
                      0,
                      0,
                      7.528159141540527,
                      0,
                      0,
                      0.5867635607719421,
                      0,
                      0.0812176913022995,
                      2.765254497528076,
                      0,
                      1.2286564111709595,
                      0,
                      0,
                      1.8676915168762207,
                      0.38911858201026917,
                      0,
                      0,
                      0,
                      2.653442621231079,
                      0,
                      0,
                      1.4599251747131348,
                      0,
                      0,
                      0,
                      0.9030412435531616,
                      4.8147735595703125,
                      0,
                      0,
                      40.5622444152832,
                      2.4375088214874268,
                      0,
                      0.3356941342353821,
                      3.549116611480713,
                      0,
                      0,
                      0,
                      1.1474475860595703,
                      0,
                      0.22404439747333527,
                      0,
                      0,
                      2.5233583450317383,
                      0,
                      1.5077341794967651,
                      0.7077356576919556,
                      0.040627457201480865,
                      1.1070367097854614,
                      6.392050743103027,
                      1.3595325946807861,
                      0,
                      0,
                      1.4021376371383667,
                      0,
                      0.5195611715316772,
                      0,
                      0,
                      0.03491635248064995,
                      2.800041675567627,
                      0,
                      0,
                      0,
                      0,
                      0,
                      0.5463649034500122,
                      0,
                      0,
                      0,
                      0,
                      0,
                      0
                    ],
                    [
                      0.4147339463233948,
                      0,
                      0,
                      0.526857316493988,
                      0.6417973041534424,
                      2.23222279548645,
                      0,
                      0,
                      0,
                      4.241959095001221,
                      40.200496673583984,
                      0,
                      0.34018558263778687,
                      0,
                      0,
                      1.05711030960083,
                      0,
                      0,
                      0.47127509117126465,
                      0,
                      1.1324472427368164,
                      0.8152152299880981,
                      0,
                      0,
                      0,
                      2.3782708644866943,
                      0,
                      0.3885335326194763,
                      1.1248822212219238,
                      0,
                      0,
                      0,
                      0.8333040475845337,
                      5.8385467529296875,
                      0.14893579483032227,
                      0,
                      0,
                      3.2429404258728027,
                      0,
                      0,
                      3.3237547874450684,
                      0,
                      0,
                      0,
                      0.2662004232406616,
                      0,
                      0.16436946392059326,
                      0,
                      0,
                      2.057077407836914,
                      0,
                      0,
                      1.2850826978683472,
                      0,
                      1.9267083406448364,
                      7.062443733215332,
                      1.9430909156799316,
                      0,
                      0,
                      0.9257371425628662,
                      0,
                      0,
                      1.7366514205932617,
                      0,
                      0,
                      4.5164947509765625,
                      0,
                      0,
                      0,
                      0,
                      0,
                      0.1657254993915558,
                      0,
                      0,
                      0,
                      0,
                      0,
                      0
                    ],
                    [
                      0,
                      0,
                      0,
                      0.21160359680652618,
                      2.4690310955047607,
                      2.450840473175049,
                      0,
                      0,
                      0,
                      4.68043851852417,
                      0,
                      0,
                      0.21948502957820892,
                      0,
                      0,
                      0.5539923906326294,
                      1.0569984912872314,
                      0,
                      0,
                      0,
                      2.2559218406677246,
                      1.6604892015457153,
                      0.8614672422409058,
                      0,
                      0,
                      2.260723114013672,
                      0,
                      0,
                      1.2894397974014282,
                      1.0074974298477173,
                      0,
                      40.322959899902344,
                      0.9572597146034241,
                      5.891252040863037,
                      0,
                      0,
                      0,
                      2.250957727432251,
                      0,
                      0.3194708228111267,
                      2.880012035369873,
                      0,
                      0,
                      0,
                      0.2796475291252136,
                      0,
                      0,
                      0,
                      0,
                      1.456571340560913,
                      0,
                      0.6703465580940247,
                      0,
                      0,
                      1.078047275543213,
                      6.203180313110352,
                      1.9916465282440186,
                      0,
                      0,
                      1.2587515115737915,
                      0.3681001365184784,
                      0,
                      0,
                      0,
                      0,
                      1.2052572965621948,
                      0,
                      0,
                      0,
                      0,
                      0,
                      0.9235135316848755,
                      0,
                      0,
                      0,
                      1.4951282739639282,
                      0.42556944489479065,
                      0
                    ]
                  ]
                }
              ],
              "layout": {
                "coloraxis": {
                  "cmid": 0,
                  "colorscale": [
                    [
                      0,
                      "rgb(103,0,31)"
                    ],
                    [
                      0.1,
                      "rgb(178,24,43)"
                    ],
                    [
                      0.2,
                      "rgb(214,96,77)"
                    ],
                    [
                      0.3,
                      "rgb(244,165,130)"
                    ],
                    [
                      0.4,
                      "rgb(253,219,199)"
                    ],
                    [
                      0.5,
                      "rgb(247,247,247)"
                    ],
                    [
                      0.6,
                      "rgb(209,229,240)"
                    ],
                    [
                      0.7,
                      "rgb(146,197,222)"
                    ],
                    [
                      0.8,
                      "rgb(67,147,195)"
                    ],
                    [
                      0.9,
                      "rgb(33,102,172)"
                    ],
                    [
                      1,
                      "rgb(5,48,97)"
                    ]
                  ]
                },
                "template": {
                  "data": {
                    "bar": [
                      {
                        "error_x": {
                          "color": "#2a3f5f"
                        },
                        "error_y": {
                          "color": "#2a3f5f"
                        },
                        "marker": {
                          "line": {
                            "color": "#E5ECF6",
                            "width": 0.5
                          },
                          "pattern": {
                            "fillmode": "overlay",
                            "size": 10,
                            "solidity": 0.2
                          }
                        },
                        "type": "bar"
                      }
                    ],
                    "barpolar": [
                      {
                        "marker": {
                          "line": {
                            "color": "#E5ECF6",
                            "width": 0.5
                          },
                          "pattern": {
                            "fillmode": "overlay",
                            "size": 10,
                            "solidity": 0.2
                          }
                        },
                        "type": "barpolar"
                      }
                    ],
                    "carpet": [
                      {
                        "aaxis": {
                          "endlinecolor": "#2a3f5f",
                          "gridcolor": "white",
                          "linecolor": "white",
                          "minorgridcolor": "white",
                          "startlinecolor": "#2a3f5f"
                        },
                        "baxis": {
                          "endlinecolor": "#2a3f5f",
                          "gridcolor": "white",
                          "linecolor": "white",
                          "minorgridcolor": "white",
                          "startlinecolor": "#2a3f5f"
                        },
                        "type": "carpet"
                      }
                    ],
                    "choropleth": [
                      {
                        "colorbar": {
                          "outlinewidth": 0,
                          "ticks": ""
                        },
                        "type": "choropleth"
                      }
                    ],
                    "contour": [
                      {
                        "colorbar": {
                          "outlinewidth": 0,
                          "ticks": ""
                        },
                        "colorscale": [
                          [
                            0,
                            "#0d0887"
                          ],
                          [
                            0.1111111111111111,
                            "#46039f"
                          ],
                          [
                            0.2222222222222222,
                            "#7201a8"
                          ],
                          [
                            0.3333333333333333,
                            "#9c179e"
                          ],
                          [
                            0.4444444444444444,
                            "#bd3786"
                          ],
                          [
                            0.5555555555555556,
                            "#d8576b"
                          ],
                          [
                            0.6666666666666666,
                            "#ed7953"
                          ],
                          [
                            0.7777777777777778,
                            "#fb9f3a"
                          ],
                          [
                            0.8888888888888888,
                            "#fdca26"
                          ],
                          [
                            1,
                            "#f0f921"
                          ]
                        ],
                        "type": "contour"
                      }
                    ],
                    "contourcarpet": [
                      {
                        "colorbar": {
                          "outlinewidth": 0,
                          "ticks": ""
                        },
                        "type": "contourcarpet"
                      }
                    ],
                    "heatmap": [
                      {
                        "colorbar": {
                          "outlinewidth": 0,
                          "ticks": ""
                        },
                        "colorscale": [
                          [
                            0,
                            "#0d0887"
                          ],
                          [
                            0.1111111111111111,
                            "#46039f"
                          ],
                          [
                            0.2222222222222222,
                            "#7201a8"
                          ],
                          [
                            0.3333333333333333,
                            "#9c179e"
                          ],
                          [
                            0.4444444444444444,
                            "#bd3786"
                          ],
                          [
                            0.5555555555555556,
                            "#d8576b"
                          ],
                          [
                            0.6666666666666666,
                            "#ed7953"
                          ],
                          [
                            0.7777777777777778,
                            "#fb9f3a"
                          ],
                          [
                            0.8888888888888888,
                            "#fdca26"
                          ],
                          [
                            1,
                            "#f0f921"
                          ]
                        ],
                        "type": "heatmap"
                      }
                    ],
                    "heatmapgl": [
                      {
                        "colorbar": {
                          "outlinewidth": 0,
                          "ticks": ""
                        },
                        "colorscale": [
                          [
                            0,
                            "#0d0887"
                          ],
                          [
                            0.1111111111111111,
                            "#46039f"
                          ],
                          [
                            0.2222222222222222,
                            "#7201a8"
                          ],
                          [
                            0.3333333333333333,
                            "#9c179e"
                          ],
                          [
                            0.4444444444444444,
                            "#bd3786"
                          ],
                          [
                            0.5555555555555556,
                            "#d8576b"
                          ],
                          [
                            0.6666666666666666,
                            "#ed7953"
                          ],
                          [
                            0.7777777777777778,
                            "#fb9f3a"
                          ],
                          [
                            0.8888888888888888,
                            "#fdca26"
                          ],
                          [
                            1,
                            "#f0f921"
                          ]
                        ],
                        "type": "heatmapgl"
                      }
                    ],
                    "histogram": [
                      {
                        "marker": {
                          "pattern": {
                            "fillmode": "overlay",
                            "size": 10,
                            "solidity": 0.2
                          }
                        },
                        "type": "histogram"
                      }
                    ],
                    "histogram2d": [
                      {
                        "colorbar": {
                          "outlinewidth": 0,
                          "ticks": ""
                        },
                        "colorscale": [
                          [
                            0,
                            "#0d0887"
                          ],
                          [
                            0.1111111111111111,
                            "#46039f"
                          ],
                          [
                            0.2222222222222222,
                            "#7201a8"
                          ],
                          [
                            0.3333333333333333,
                            "#9c179e"
                          ],
                          [
                            0.4444444444444444,
                            "#bd3786"
                          ],
                          [
                            0.5555555555555556,
                            "#d8576b"
                          ],
                          [
                            0.6666666666666666,
                            "#ed7953"
                          ],
                          [
                            0.7777777777777778,
                            "#fb9f3a"
                          ],
                          [
                            0.8888888888888888,
                            "#fdca26"
                          ],
                          [
                            1,
                            "#f0f921"
                          ]
                        ],
                        "type": "histogram2d"
                      }
                    ],
                    "histogram2dcontour": [
                      {
                        "colorbar": {
                          "outlinewidth": 0,
                          "ticks": ""
                        },
                        "colorscale": [
                          [
                            0,
                            "#0d0887"
                          ],
                          [
                            0.1111111111111111,
                            "#46039f"
                          ],
                          [
                            0.2222222222222222,
                            "#7201a8"
                          ],
                          [
                            0.3333333333333333,
                            "#9c179e"
                          ],
                          [
                            0.4444444444444444,
                            "#bd3786"
                          ],
                          [
                            0.5555555555555556,
                            "#d8576b"
                          ],
                          [
                            0.6666666666666666,
                            "#ed7953"
                          ],
                          [
                            0.7777777777777778,
                            "#fb9f3a"
                          ],
                          [
                            0.8888888888888888,
                            "#fdca26"
                          ],
                          [
                            1,
                            "#f0f921"
                          ]
                        ],
                        "type": "histogram2dcontour"
                      }
                    ],
                    "mesh3d": [
                      {
                        "colorbar": {
                          "outlinewidth": 0,
                          "ticks": ""
                        },
                        "type": "mesh3d"
                      }
                    ],
                    "parcoords": [
                      {
                        "line": {
                          "colorbar": {
                            "outlinewidth": 0,
                            "ticks": ""
                          }
                        },
                        "type": "parcoords"
                      }
                    ],
                    "pie": [
                      {
                        "automargin": true,
                        "type": "pie"
                      }
                    ],
                    "scatter": [
                      {
                        "fillpattern": {
                          "fillmode": "overlay",
                          "size": 10,
                          "solidity": 0.2
                        },
                        "type": "scatter"
                      }
                    ],
                    "scatter3d": [
                      {
                        "line": {
                          "colorbar": {
                            "outlinewidth": 0,
                            "ticks": ""
                          }
                        },
                        "marker": {
                          "colorbar": {
                            "outlinewidth": 0,
                            "ticks": ""
                          }
                        },
                        "type": "scatter3d"
                      }
                    ],
                    "scattercarpet": [
                      {
                        "marker": {
                          "colorbar": {
                            "outlinewidth": 0,
                            "ticks": ""
                          }
                        },
                        "type": "scattercarpet"
                      }
                    ],
                    "scattergeo": [
                      {
                        "marker": {
                          "colorbar": {
                            "outlinewidth": 0,
                            "ticks": ""
                          }
                        },
                        "type": "scattergeo"
                      }
                    ],
                    "scattergl": [
                      {
                        "marker": {
                          "colorbar": {
                            "outlinewidth": 0,
                            "ticks": ""
                          }
                        },
                        "type": "scattergl"
                      }
                    ],
                    "scattermapbox": [
                      {
                        "marker": {
                          "colorbar": {
                            "outlinewidth": 0,
                            "ticks": ""
                          }
                        },
                        "type": "scattermapbox"
                      }
                    ],
                    "scatterpolar": [
                      {
                        "marker": {
                          "colorbar": {
                            "outlinewidth": 0,
                            "ticks": ""
                          }
                        },
                        "type": "scatterpolar"
                      }
                    ],
                    "scatterpolargl": [
                      {
                        "marker": {
                          "colorbar": {
                            "outlinewidth": 0,
                            "ticks": ""
                          }
                        },
                        "type": "scatterpolargl"
                      }
                    ],
                    "scatterternary": [
                      {
                        "marker": {
                          "colorbar": {
                            "outlinewidth": 0,
                            "ticks": ""
                          }
                        },
                        "type": "scatterternary"
                      }
                    ],
                    "surface": [
                      {
                        "colorbar": {
                          "outlinewidth": 0,
                          "ticks": ""
                        },
                        "colorscale": [
                          [
                            0,
                            "#0d0887"
                          ],
                          [
                            0.1111111111111111,
                            "#46039f"
                          ],
                          [
                            0.2222222222222222,
                            "#7201a8"
                          ],
                          [
                            0.3333333333333333,
                            "#9c179e"
                          ],
                          [
                            0.4444444444444444,
                            "#bd3786"
                          ],
                          [
                            0.5555555555555556,
                            "#d8576b"
                          ],
                          [
                            0.6666666666666666,
                            "#ed7953"
                          ],
                          [
                            0.7777777777777778,
                            "#fb9f3a"
                          ],
                          [
                            0.8888888888888888,
                            "#fdca26"
                          ],
                          [
                            1,
                            "#f0f921"
                          ]
                        ],
                        "type": "surface"
                      }
                    ],
                    "table": [
                      {
                        "cells": {
                          "fill": {
                            "color": "#EBF0F8"
                          },
                          "line": {
                            "color": "white"
                          }
                        },
                        "header": {
                          "fill": {
                            "color": "#C8D4E3"
                          },
                          "line": {
                            "color": "white"
                          }
                        },
                        "type": "table"
                      }
                    ]
                  },
                  "layout": {
                    "annotationdefaults": {
                      "arrowcolor": "#2a3f5f",
                      "arrowhead": 0,
                      "arrowwidth": 1
                    },
                    "autotypenumbers": "strict",
                    "coloraxis": {
                      "colorbar": {
                        "outlinewidth": 0,
                        "ticks": ""
                      }
                    },
                    "colorscale": {
                      "diverging": [
                        [
                          0,
                          "#8e0152"
                        ],
                        [
                          0.1,
                          "#c51b7d"
                        ],
                        [
                          0.2,
                          "#de77ae"
                        ],
                        [
                          0.3,
                          "#f1b6da"
                        ],
                        [
                          0.4,
                          "#fde0ef"
                        ],
                        [
                          0.5,
                          "#f7f7f7"
                        ],
                        [
                          0.6,
                          "#e6f5d0"
                        ],
                        [
                          0.7,
                          "#b8e186"
                        ],
                        [
                          0.8,
                          "#7fbc41"
                        ],
                        [
                          0.9,
                          "#4d9221"
                        ],
                        [
                          1,
                          "#276419"
                        ]
                      ],
                      "sequential": [
                        [
                          0,
                          "#0d0887"
                        ],
                        [
                          0.1111111111111111,
                          "#46039f"
                        ],
                        [
                          0.2222222222222222,
                          "#7201a8"
                        ],
                        [
                          0.3333333333333333,
                          "#9c179e"
                        ],
                        [
                          0.4444444444444444,
                          "#bd3786"
                        ],
                        [
                          0.5555555555555556,
                          "#d8576b"
                        ],
                        [
                          0.6666666666666666,
                          "#ed7953"
                        ],
                        [
                          0.7777777777777778,
                          "#fb9f3a"
                        ],
                        [
                          0.8888888888888888,
                          "#fdca26"
                        ],
                        [
                          1,
                          "#f0f921"
                        ]
                      ],
                      "sequentialminus": [
                        [
                          0,
                          "#0d0887"
                        ],
                        [
                          0.1111111111111111,
                          "#46039f"
                        ],
                        [
                          0.2222222222222222,
                          "#7201a8"
                        ],
                        [
                          0.3333333333333333,
                          "#9c179e"
                        ],
                        [
                          0.4444444444444444,
                          "#bd3786"
                        ],
                        [
                          0.5555555555555556,
                          "#d8576b"
                        ],
                        [
                          0.6666666666666666,
                          "#ed7953"
                        ],
                        [
                          0.7777777777777778,
                          "#fb9f3a"
                        ],
                        [
                          0.8888888888888888,
                          "#fdca26"
                        ],
                        [
                          1,
                          "#f0f921"
                        ]
                      ]
                    },
                    "colorway": [
                      "#636efa",
                      "#EF553B",
                      "#00cc96",
                      "#ab63fa",
                      "#FFA15A",
                      "#19d3f3",
                      "#FF6692",
                      "#B6E880",
                      "#FF97FF",
                      "#FECB52"
                    ],
                    "font": {
                      "color": "#2a3f5f"
                    },
                    "geo": {
                      "bgcolor": "white",
                      "lakecolor": "white",
                      "landcolor": "#E5ECF6",
                      "showlakes": true,
                      "showland": true,
                      "subunitcolor": "white"
                    },
                    "hoverlabel": {
                      "align": "left"
                    },
                    "hovermode": "closest",
                    "mapbox": {
                      "style": "light"
                    },
                    "paper_bgcolor": "white",
                    "plot_bgcolor": "#E5ECF6",
                    "polar": {
                      "angularaxis": {
                        "gridcolor": "white",
                        "linecolor": "white",
                        "ticks": ""
                      },
                      "bgcolor": "#E5ECF6",
                      "radialaxis": {
                        "gridcolor": "white",
                        "linecolor": "white",
                        "ticks": ""
                      }
                    },
                    "scene": {
                      "xaxis": {
                        "backgroundcolor": "#E5ECF6",
                        "gridcolor": "white",
                        "gridwidth": 2,
                        "linecolor": "white",
                        "showbackground": true,
                        "ticks": "",
                        "zerolinecolor": "white"
                      },
                      "yaxis": {
                        "backgroundcolor": "#E5ECF6",
                        "gridcolor": "white",
                        "gridwidth": 2,
                        "linecolor": "white",
                        "showbackground": true,
                        "ticks": "",
                        "zerolinecolor": "white"
                      },
                      "zaxis": {
                        "backgroundcolor": "#E5ECF6",
                        "gridcolor": "white",
                        "gridwidth": 2,
                        "linecolor": "white",
                        "showbackground": true,
                        "ticks": "",
                        "zerolinecolor": "white"
                      }
                    },
                    "shapedefaults": {
                      "line": {
                        "color": "#2a3f5f"
                      }
                    },
                    "ternary": {
                      "aaxis": {
                        "gridcolor": "white",
                        "linecolor": "white",
                        "ticks": ""
                      },
                      "baxis": {
                        "gridcolor": "white",
                        "linecolor": "white",
                        "ticks": ""
                      },
                      "bgcolor": "#E5ECF6",
                      "caxis": {
                        "gridcolor": "white",
                        "linecolor": "white",
                        "ticks": ""
                      }
                    },
                    "title": {
                      "x": 0.05
                    },
                    "xaxis": {
                      "automargin": true,
                      "gridcolor": "white",
                      "linecolor": "white",
                      "ticks": "",
                      "title": {
                        "standoff": 15
                      },
                      "zerolinecolor": "white",
                      "zerolinewidth": 2
                    },
                    "yaxis": {
                      "automargin": true,
                      "gridcolor": "white",
                      "linecolor": "white",
                      "ticks": "",
                      "title": {
                        "standoff": 15
                      },
                      "zerolinecolor": "white",
                      "zerolinewidth": 2
                    }
                  }
                },
                "title": {
                  "text": "Activations of Live SAE features at L5 S2 position per prompt"
                },
                "xaxis": {
                  "anchor": "y",
                  "constrain": "domain",
                  "domain": [
                    0,
                    1
                  ],
                  "scaleanchor": "y"
                },
                "yaxis": {
                  "anchor": "x",
                  "autorange": "reversed",
                  "constrain": "domain",
                  "domain": [
                    0,
                    1
                  ]
                }
              }
            }
          },
          "metadata": {},
          "output_type": "display_data"
        }
      ],
      "source": [
        "layers = [5, 6]\n",
        "act_names = [utils.get_act_name('resid_pre', layer) for layer in layers]\n",
        "model.turn_saes_on(act_names)\n",
        "\n",
        "layer = 5\n",
        "_, cache = model.run_with_cache(tokens)\n",
        "s2_pos = 10\n",
        "sae_acts = cache[utils.get_act_name('resid_pre', layer) + \".hook_sae_acts_post\"][:, s2_pos, :]\n",
        "\n",
        "live_feature_mask = sae_acts > 0\n",
        "\n",
        "live_feature_union = live_feature_mask.any(dim=0)\n",
        "\n",
        "px.imshow(\n",
        "    sae_acts[:, live_feature_union].detach().cpu(),\n",
        "    title = f\"Activations of Live SAE features at L{layer} S2 position per prompt\",\n",
        "    # xaxis=\"Feature Id\", yaxis=\"Prompt\",\n",
        "    x=list(map(str, live_feature_union.nonzero().flatten().tolist())),\n",
        "    color_continuous_midpoint=0,\n",
        "    color_continuous_scale='RdBu',\n",
        ")"
      ]
    },
    {
      "cell_type": "markdown",
      "metadata": {},
      "source": [
        "These results would be more interesting if we were using attn z SAE's as in the original version of this tutorial."
      ]
    },
    {
      "cell_type": "code",
      "execution_count": 16,
      "metadata": {},
      "outputs": [
        {
          "name": "stderr",
          "output_type": "stream",
          "text": [
            "huggingface/tokenizers: The current process just got forked, after parallelism has already been used. Disabling parallelism to avoid deadlocks...\n",
            "To disable this warning, you can either:\n",
            "\t- Avoid using `tokenizers` before the fork if possible\n",
            "\t- Explicitly set the environment variable TOKENIZERS_PARALLELISM=(true | false)\n"
          ]
        },
        {
          "data": {
            "text/plain": [
              "'https://neuronpedia.org/quick-list/?name=IOI%20S2%20Names&features=%5B%7B%22modelId%22%3A%20%22gpt2-small%22%2C%20%22layer%22%3A%20%225-res-jb%22%2C%20%22index%22%3A%20%2217855%22%7D%2C%20%7B%22modelId%22%3A%20%22gpt2-small%22%2C%20%22layer%22%3A%20%225-res-jb%22%2C%20%22index%22%3A%20%22722%22%7D%2C%20%7B%22modelId%22%3A%20%22gpt2-small%22%2C%20%22layer%22%3A%20%225-res-jb%22%2C%20%22index%22%3A%20%223153%22%7D%2C%20%7B%22modelId%22%3A%20%22gpt2-small%22%2C%20%22layer%22%3A%20%225-res-jb%22%2C%20%22index%22%3A%20%223977%22%7D%2C%20%7B%22modelId%22%3A%20%22gpt2-small%22%2C%20%22layer%22%3A%20%225-res-jb%22%2C%20%22index%22%3A%20%2212738%22%7D%2C%20%7B%22modelId%22%3A%20%22gpt2-small%22%2C%20%22layer%22%3A%20%225-res-jb%22%2C%20%22index%22%3A%20%2210955%22%7D%2C%20%7B%22modelId%22%3A%20%22gpt2-small%22%2C%20%22layer%22%3A%20%225-res-jb%22%2C%20%22index%22%3A%20%224000%22%7D%2C%20%7B%22modelId%22%3A%20%22gpt2-small%22%2C%20%22layer%22%3A%20%225-res-jb%22%2C%20%22index%22%3A%20%2211300%22%7D%5D'"
            ]
          },
          "execution_count": 16,
          "metadata": {},
          "output_type": "execute_result"
        }
      ],
      "source": [
        "from sae_lens.analysis.neuronpedia_integration import get_neuronpedia_quick_list\n",
        "vals, inds = torch.topk(sae_acts[:, :].detach().cpu().sum(dim=0),8)\n",
        "\n",
        "get_neuronpedia_quick_list(\n",
        "    inds.tolist(), \n",
        "    model = \"gpt2-small\",\n",
        "    dataset=\"res-jb\",\n",
        "    layer = layer,\n",
        "    name = \"IOI S2 Names\")"
      ]
    },
    {
      "cell_type": "markdown",
      "metadata": {
        "id": "8ytWjiPzviiC"
      },
      "source": [
        "## Run with cache with SAEs"
      ]
    },
    {
      "cell_type": "markdown",
      "metadata": {
        "id": "2wDK4rk5viiC"
      },
      "source": [
        "Similar to run_with_saes, we can use `model.run_with_cache_with_saes(tokens, act_names=act_names)`, to just run with cache with the SAEs for specified act names turned on. Like run_with_saes, this will also create a clean slate, turning off all of the attached SAEs both before and after running."
      ]
    },
    {
      "cell_type": "code",
      "execution_count": 17,
      "metadata": {
        "id": "i8j7BBSyviiC",
        "outputId": "5cd3fa33-96cf-496a-a38d-92800f7cbfa4"
      },
      "outputs": [
        {
          "data": {
            "application/vnd.plotly.v1+json": {
              "config": {
                "plotlyServerURL": "https://plotly.com"
              },
              "data": [
                {
                  "coloraxis": "coloraxis",
                  "hovertemplate": "x: %{x}<br>y: %{y}<br>color: %{z}<extra></extra>",
                  "name": "0",
                  "type": "heatmap",
                  "x": [
                    "176",
                    "502",
                    "523",
                    "700",
                    "1309",
                    "1468",
                    "1634",
                    "1648",
                    "1691",
                    "1750",
                    "1756",
                    "1971",
                    "2125",
                    "2264",
                    "2552",
                    "2582",
                    "2902",
                    "3458",
                    "3639",
                    "3658",
                    "3693",
                    "3804",
                    "3948",
                    "4265",
                    "4456",
                    "4504",
                    "4752",
                    "4754",
                    "4819",
                    "5074",
                    "5160",
                    "5248",
                    "5271",
                    "5384",
                    "5658",
                    "5762",
                    "5971",
                    "6268",
                    "6421",
                    "6547",
                    "6593",
                    "7416",
                    "7539",
                    "7545",
                    "7963",
                    "8037",
                    "8109",
                    "8191",
                    "8387",
                    "8662",
                    "8895",
                    "8928",
                    "9119",
                    "9201",
                    "9238",
                    "9291",
                    "9346",
                    "9532",
                    "9821",
                    "9967",
                    "10045",
                    "10237",
                    "10372",
                    "10512",
                    "10524",
                    "10861",
                    "10905",
                    "11071",
                    "11414",
                    "11513",
                    "11549",
                    "11692",
                    "12128",
                    "12419",
                    "12528",
                    "12691",
                    "12736",
                    "12832",
                    "13066",
                    "13069",
                    "13089",
                    "13265",
                    "13403",
                    "13758",
                    "13838",
                    "13841",
                    "13921",
                    "14023",
                    "14171",
                    "14271",
                    "14485",
                    "14548",
                    "14603",
                    "14744",
                    "14910",
                    "15087",
                    "15194",
                    "15372",
                    "15376",
                    "15413",
                    "15561",
                    "16346",
                    "16381",
                    "16383",
                    "16504",
                    "16683",
                    "16758",
                    "16878",
                    "17081",
                    "17282",
                    "17462",
                    "17941",
                    "18157",
                    "18197",
                    "18335",
                    "18342",
                    "18425",
                    "18525",
                    "18547",
                    "18621",
                    "18801",
                    "18863",
                    "19133",
                    "19888",
                    "20122",
                    "20331",
                    "20714",
                    "20957",
                    "21105",
                    "21189",
                    "21514",
                    "21631",
                    "21732",
                    "21891",
                    "21974",
                    "22037",
                    "22088",
                    "22301",
                    "22371",
                    "22387",
                    "22395",
                    "22464",
                    "22520",
                    "23175",
                    "23301",
                    "23363",
                    "23691",
                    "23817",
                    "23964",
                    "24179",
                    "24373"
                  ],
                  "xaxis": "x",
                  "yaxis": "y",
                  "z": [
                    [
                      0,
                      0,
                      0,
                      5.538856029510498,
                      0,
                      0,
                      2.6158103942871094,
                      0.8030511140823364,
                      0,
                      0,
                      7.188167095184326,
                      0,
                      0,
                      0.20125922560691833,
                      0.2686610221862793,
                      0,
                      0,
                      0,
                      3.371187686920166,
                      1.007739782333374,
                      3.2017056941986084,
                      2.50137996673584,
                      0,
                      0,
                      0,
                      0,
                      0,
                      0,
                      0,
                      0,
                      0,
                      1.1477854251861572,
                      0,
                      0,
                      0,
                      0,
                      0,
                      0.10054653882980347,
                      0,
                      0.5537739992141724,
                      0,
                      0,
                      0,
                      0,
                      0,
                      0,
                      0,
                      0,
                      2.530327320098877,
                      0,
                      0,
                      43.56208038330078,
                      0.3299710154533386,
                      1.9032087326049805,
                      0,
                      0,
                      0,
                      4.768577575683594,
                      11.357112884521484,
                      0,
                      0.8061131834983826,
                      8.318215370178223,
                      0,
                      0.739041268825531,
                      0,
                      0,
                      1.243032693862915,
                      1.218491554260254,
                      0,
                      0,
                      0,
                      0,
                      1.1482841968536377,
                      0,
                      0,
                      11.769521713256836,
                      0.9783769845962524,
                      0,
                      3.1715869903564453,
                      0,
                      0,
                      3.8976011276245117,
                      3.1548333168029785,
                      1.7297242879867554,
                      0.5229542255401611,
                      2.5675723552703857,
                      0,
                      2.4715611934661865,
                      4.159947395324707,
                      0,
                      0,
                      3.0279762744903564,
                      0,
                      1.6984257698059082,
                      0,
                      0.07606850564479828,
                      0,
                      0.49523940682411194,
                      0.19484221935272217,
                      0.6726239919662476,
                      0,
                      0,
                      0,
                      1.9564073085784912,
                      0,
                      0,
                      0,
                      0,
                      0,
                      0,
                      0,
                      0,
                      0,
                      0.7517515420913696,
                      0,
                      0,
                      0,
                      0,
                      0.1299598217010498,
                      1.7528576850891113,
                      3.2735393047332764,
                      0.2707727253437042,
                      0,
                      0,
                      0,
                      0,
                      0,
                      0.6765695214271545,
                      0,
                      0,
                      0,
                      0.056913673877716064,
                      0,
                      0.8384490609169006,
                      0,
                      0,
                      0,
                      0.4167713224887848,
                      0,
                      0.3873121440410614,
                      2.0699286460876465,
                      0,
                      0.12494945526123047,
                      0,
                      0.906858503818512,
                      1.0643930435180664,
                      0,
                      0,
                      0,
                      0,
                      0
                    ],
                    [
                      0,
                      0,
                      0,
                      6.993042469024658,
                      0,
                      2.134537696838379,
                      4.405838966369629,
                      0.698872447013855,
                      0,
                      0,
                      7.30643367767334,
                      0,
                      0,
                      0,
                      0,
                      0,
                      0,
                      0,
                      2.0767018795013428,
                      0,
                      3.7241859436035156,
                      2.7197377681732178,
                      0,
                      0,
                      0,
                      0,
                      0.7692750692367554,
                      0.37978288531303406,
                      0,
                      0,
                      0,
                      0.4328244924545288,
                      0,
                      0,
                      0,
                      0,
                      0,
                      0.47332245111465454,
                      0,
                      0,
                      0,
                      0,
                      0,
                      0,
                      0,
                      0,
                      0,
                      0,
                      0.8586084842681885,
                      0,
                      0,
                      0,
                      1.9997942447662354,
                      0.1608538031578064,
                      0,
                      0,
                      0,
                      4.878278732299805,
                      11.9511137008667,
                      0,
                      0,
                      4.3864030838012695,
                      0,
                      0.15556566417217255,
                      0,
                      0,
                      0.522672176361084,
                      0.06666156649589539,
                      0,
                      0,
                      0,
                      0,
                      0.3072420060634613,
                      0,
                      0.28096693754196167,
                      0.9611576199531555,
                      0,
                      0,
                      0,
                      0,
                      35.6776237487793,
                      2.950331449508667,
                      4.364145278930664,
                      0,
                      0.5660229325294495,
                      0,
                      0,
                      3.5925779342651367,
                      0.6858329176902771,
                      0,
                      0,
                      0,
                      0,
                      0,
                      0,
                      0.0030681081116199493,
                      0,
                      0.19483356177806854,
                      0,
                      0.8195013999938965,
                      0.13184905052185059,
                      0,
                      0,
                      1.724594235420227,
                      0,
                      0,
                      0.16900844871997833,
                      0,
                      0.055922865867614746,
                      1.0890740156173706,
                      0,
                      0,
                      0,
                      1.2204554080963135,
                      0,
                      0.628744900226593,
                      0,
                      0,
                      0,
                      2.3691532611846924,
                      0.6066089868545532,
                      0,
                      0,
                      0,
                      0,
                      0,
                      0,
                      0.6238030791282654,
                      0,
                      0,
                      0,
                      0.08157052844762802,
                      0,
                      1.0889114141464233,
                      0,
                      0,
                      0,
                      0.045040313154459,
                      0,
                      0,
                      0.23934806883335114,
                      4.215878009796143,
                      0,
                      0,
                      0,
                      0.31916308403015137,
                      0,
                      1.333490252494812,
                      0,
                      0,
                      0
                    ],
                    [
                      0,
                      0.8084790110588074,
                      0.13340753316879272,
                      0,
                      0,
                      0.5476558208465576,
                      1.892897367477417,
                      1.419442892074585,
                      0,
                      0,
                      6.692920207977295,
                      0,
                      0,
                      0,
                      0,
                      0,
                      0,
                      0,
                      0.7459262609481812,
                      0,
                      1.861528754234314,
                      3.461885690689087,
                      0.4039311408996582,
                      0,
                      0,
                      0.5094556212425232,
                      0,
                      0,
                      0,
                      0,
                      0,
                      1.5548999309539795,
                      0,
                      0,
                      0,
                      0,
                      0.9745005369186401,
                      0.4390093684196472,
                      0,
                      0.7172048687934875,
                      0,
                      0,
                      0,
                      0,
                      0.6228647828102112,
                      0,
                      0,
                      0,
                      0.8539349436759949,
                      0,
                      0,
                      0,
                      1.4563184976577759,
                      1.799574613571167,
                      0.612226665019989,
                      0,
                      0,
                      4.770813465118408,
                      10.926450729370117,
                      0,
                      0.48540395498275757,
                      10.18034553527832,
                      0,
                      0.3990197777748108,
                      0,
                      0.24465252459049225,
                      0.6285896301269531,
                      0.5015876293182373,
                      0,
                      0,
                      0,
                      0.3934023678302765,
                      2.1220591068267822,
                      0,
                      0,
                      11.468162536621094,
                      0,
                      0,
                      0,
                      0,
                      0,
                      0,
                      2.5455777645111084,
                      0.9230645895004272,
                      1.8634668588638306,
                      0.1894378513097763,
                      0,
                      4.841577529907227,
                      5.657158851623535,
                      0.711438775062561,
                      0,
                      0,
                      0,
                      0,
                      0,
                      0,
                      0,
                      1.5358712673187256,
                      0.048465460538864136,
                      0.3824375867843628,
                      0,
                      0.9222077131271362,
                      0.04400736466050148,
                      0.9041559100151062,
                      0,
                      0,
                      0.51548832654953,
                      0,
                      0,
                      0,
                      0.02594284527003765,
                      0,
                      0,
                      0,
                      0,
                      0,
                      0,
                      0,
                      0,
                      1.6329857110977173,
                      1.2120267152786255,
                      0,
                      0,
                      0,
                      0.07909014821052551,
                      0,
                      41.7382926940918,
                      1.2384562492370605,
                      0,
                      0,
                      0,
                      0.8505348563194275,
                      0,
                      1.7040053606033325,
                      0,
                      0,
                      0,
                      0,
                      0,
                      1.415052890777588,
                      0.15375156700611115,
                      0,
                      0,
                      0.233725905418396,
                      2.5977578163146973,
                      1.459903597831726,
                      0,
                      0,
                      0,
                      0,
                      0.7218536138534546
                    ],
                    [
                      0,
                      0.21076713502407074,
                      0,
                      0,
                      0,
                      0,
                      4.659311294555664,
                      0,
                      0,
                      0,
                      5.8990325927734375,
                      0,
                      0,
                      0,
                      0,
                      0,
                      0,
                      0,
                      1.873868465423584,
                      0,
                      3.3633782863616943,
                      1.0044655799865723,
                      0,
                      0,
                      0,
                      0,
                      0,
                      0,
                      0,
                      0,
                      0,
                      0,
                      0,
                      0,
                      0,
                      0,
                      0,
                      0.9416083097457886,
                      0,
                      0,
                      0.25970032811164856,
                      0,
                      0,
                      0,
                      1.6910533905029297,
                      40.0919075012207,
                      0,
                      0,
                      0,
                      0,
                      0,
                      0,
                      0,
                      0,
                      0,
                      0,
                      0,
                      5.277413845062256,
                      11.07437515258789,
                      0,
                      0,
                      8.452194213867188,
                      0,
                      0,
                      0,
                      0,
                      0.8789676427841187,
                      0,
                      0,
                      0.47427812218666077,
                      0,
                      0,
                      0.5421332120895386,
                      0,
                      0,
                      0,
                      0,
                      0,
                      0,
                      0,
                      0,
                      0,
                      4.107912540435791,
                      0,
                      0,
                      0.5586846470832825,
                      0,
                      3.123807668685913,
                      1.472880482673645,
                      0.5374053716659546,
                      0,
                      0,
                      0,
                      2.8866772651672363,
                      0,
                      0,
                      0,
                      0.7431393265724182,
                      0,
                      0,
                      0,
                      0,
                      0,
                      0,
                      0,
                      0,
                      1.5862493515014648,
                      0,
                      0,
                      1.862231969833374,
                      0,
                      0,
                      0,
                      0,
                      0,
                      0.16898885369300842,
                      0,
                      0,
                      0,
                      2.3422529697418213,
                      0,
                      0,
                      0,
                      0,
                      0,
                      0,
                      0,
                      0,
                      0,
                      0,
                      0,
                      0.8906460404396057,
                      0,
                      2.8499319553375244,
                      0,
                      0.16363182663917542,
                      0,
                      0.09863060712814331,
                      0,
                      0.776034951210022,
                      0,
                      7.084272861480713,
                      0,
                      0,
                      0,
                      0.2482793927192688,
                      0,
                      1.0091290473937988,
                      0.6620175838470459,
                      0,
                      0
                    ],
                    [
                      4.498102188110352,
                      0,
                      0.2838117182254791,
                      0,
                      0,
                      0,
                      3.789139747619629,
                      0,
                      0,
                      0.39094653725624084,
                      5.665403366088867,
                      2.4506900310516357,
                      0,
                      0,
                      0,
                      1.8959776163101196,
                      2.7795984745025635,
                      0.6161783337593079,
                      1.796210527420044,
                      0,
                      2.306483268737793,
                      0,
                      0,
                      0.06382039189338684,
                      0,
                      0,
                      0,
                      0,
                      0.020489303395152092,
                      0.2573999762535095,
                      0,
                      0.8702206015586853,
                      0,
                      0,
                      0,
                      5.140554904937744,
                      0,
                      1.542527198791504,
                      0,
                      0.012830588966608047,
                      0,
                      0,
                      4.624687671661377,
                      0,
                      0,
                      0,
                      4.380993843078613,
                      4.85342264175415,
                      0,
                      0,
                      8.44144058227539,
                      0,
                      1.2316656112670898,
                      0,
                      0,
                      1.1800899505615234,
                      0,
                      5.052183628082275,
                      11.738824844360352,
                      0,
                      0,
                      11.260509490966797,
                      0,
                      0.5885675549507141,
                      0,
                      0,
                      0.04421587288379669,
                      0.40723347663879395,
                      5.630368232727051,
                      0,
                      0,
                      0,
                      1.7958601713180542,
                      3.2805440425872803,
                      0,
                      8.770303726196289,
                      0,
                      0,
                      0,
                      0.06750379502773285,
                      0,
                      0,
                      0.548891007900238,
                      0,
                      0,
                      2.312215566635132,
                      1.3094834089279175,
                      2.3915798664093018,
                      5.12790060043335,
                      0,
                      0,
                      0,
                      0,
                      3.4966886043548584,
                      0.3970677852630615,
                      0.06493031978607178,
                      0,
                      0,
                      0,
                      0.7493541240692139,
                      0,
                      0.17260289192199707,
                      0,
                      1.8022977113723755,
                      3.9004976749420166,
                      2.2781484127044678,
                      0,
                      5.785767555236816,
                      0,
                      0,
                      0,
                      0,
                      0.8267058730125427,
                      0,
                      1.4383553266525269,
                      0,
                      0,
                      0,
                      0,
                      1.856294870376587,
                      0,
                      0,
                      0.6943594217300415,
                      1.632847547531128,
                      0,
                      0.3756612241268158,
                      0,
                      0.6734604239463806,
                      0.3913240432739258,
                      1.2436459064483643,
                      0,
                      0,
                      3.8415687084198,
                      4.924471378326416,
                      27.776199340820312,
                      1.3742878437042236,
                      0.30009889602661133,
                      0,
                      0,
                      0.46323657035827637,
                      0,
                      0,
                      0,
                      0,
                      0,
                      0,
                      0,
                      0,
                      0,
                      0.19513137638568878,
                      0
                    ],
                    [
                      0,
                      0,
                      0,
                      0,
                      0,
                      0,
                      4.834956645965576,
                      0,
                      0,
                      0,
                      6.9574174880981445,
                      1.6855852603912354,
                      0,
                      0,
                      0,
                      0,
                      0,
                      0,
                      2.276475191116333,
                      0,
                      3.743303060531616,
                      1.2661542892456055,
                      0,
                      0,
                      0,
                      0,
                      0,
                      0,
                      0,
                      0,
                      0.6564722657203674,
                      0,
                      0,
                      0,
                      0.8003464937210083,
                      0,
                      1.3067644834518433,
                      0.9032717347145081,
                      0,
                      0,
                      0,
                      0,
                      0,
                      0,
                      0,
                      0,
                      0,
                      0,
                      0,
                      0,
                      0,
                      0,
                      0.7287896871566772,
                      0,
                      0,
                      0,
                      0,
                      5.079301834106445,
                      11.981460571289062,
                      0,
                      0,
                      7.761964797973633,
                      0,
                      0.22836633026599884,
                      0,
                      0,
                      1.0396312475204468,
                      0,
                      0,
                      0.36568179726600647,
                      0.27868714928627014,
                      0,
                      0.7689160108566284,
                      0,
                      0,
                      0,
                      0,
                      0,
                      0,
                      0,
                      0,
                      0,
                      3.9037437438964844,
                      0,
                      0.01926150918006897,
                      3.0658488273620605,
                      0,
                      3.281421422958374,
                      0.9349207282066345,
                      0.8414905071258545,
                      0,
                      0,
                      0,
                      2.8432788848876953,
                      0,
                      0,
                      0.7937027812004089,
                      0,
                      0,
                      0,
                      0,
                      0,
                      0,
                      1.2059319019317627,
                      0,
                      0,
                      0.7991292476654053,
                      0,
                      0,
                      2.058696746826172,
                      0,
                      0,
                      0,
                      0,
                      0,
                      0.06359034031629562,
                      0,
                      0,
                      0,
                      2.546192169189453,
                      0,
                      0,
                      0,
                      2.1336238384246826,
                      0,
                      0,
                      0,
                      0.24247592687606812,
                      0,
                      0,
                      39.527099609375,
                      0,
                      0,
                      2.143789529800415,
                      0,
                      0,
                      0,
                      0,
                      0,
                      0.023354604840278625,
                      0,
                      7.969550132751465,
                      0,
                      0,
                      0,
                      0,
                      0,
                      0,
                      0,
                      0,
                      0
                    ],
                    [
                      0,
                      0,
                      0,
                      0,
                      0,
                      0,
                      2.4426090717315674,
                      0.7554342746734619,
                      0.3603576421737671,
                      0,
                      7.327820777893066,
                      0,
                      1.2606911659240723,
                      0,
                      0,
                      0,
                      0,
                      0,
                      3.277313232421875,
                      0,
                      2.753997325897217,
                      0.15297526121139526,
                      0,
                      0,
                      0.39177244901657104,
                      0,
                      0,
                      0,
                      0,
                      0,
                      0,
                      1.1022427082061768,
                      0.4622441828250885,
                      0,
                      0,
                      0,
                      2.9563193321228027,
                      0.17361636459827423,
                      0.32191169261932373,
                      0,
                      0,
                      0,
                      0,
                      46.044471740722656,
                      0,
                      0,
                      0,
                      0,
                      0,
                      0.7336404919624329,
                      0,
                      0,
                      0.2476639598608017,
                      3.7974116802215576,
                      0,
                      0,
                      0,
                      4.981756687164307,
                      10.53018569946289,
                      0.4096892178058624,
                      0,
                      9.927042007446289,
                      0,
                      1.0914872884750366,
                      0.5042564868927002,
                      0,
                      0.31713876128196716,
                      0.7752000689506531,
                      0,
                      0,
                      0,
                      0,
                      2.0456559658050537,
                      0.3872529864311218,
                      0,
                      14.296271324157715,
                      0,
                      0.3046759366989136,
                      0.7350091338157654,
                      0,
                      0,
                      0,
                      5.531790733337402,
                      1.2882604598999023,
                      1.265064001083374,
                      1.0228019952774048,
                      0,
                      3.3429765701293945,
                      5.928884506225586,
                      0.6531903743743896,
                      0.9922863841056824,
                      0,
                      0.44785580039024353,
                      0,
                      0,
                      0,
                      0,
                      0.9600304961204529,
                      0,
                      0.7710282802581787,
                      0.6596189737319946,
                      0.2600950598716736,
                      0,
                      2.0029537677764893,
                      0,
                      0,
                      0,
                      0,
                      0,
                      0,
                      0,
                      0.7070713043212891,
                      0,
                      0,
                      0,
                      0,
                      0,
                      0,
                      0,
                      1.818704605102539,
                      3.837275266647339,
                      0,
                      0,
                      0,
                      0,
                      0,
                      0,
                      0.8432300090789795,
                      0,
                      0,
                      0,
                      0.8952688574790955,
                      0,
                      1.6090843677520752,
                      0,
                      0,
                      0,
                      0,
                      0.550021231174469,
                      0,
                      0,
                      0,
                      0,
                      0,
                      0.0004232749342918396,
                      0.5368872880935669,
                      1.9778047800064087,
                      0,
                      0,
                      0,
                      0
                    ],
                    [
                      0,
                      0,
                      0,
                      0,
                      42.27699661254883,
                      0,
                      4.215336799621582,
                      0.13754238188266754,
                      0,
                      0,
                      6.50781774520874,
                      0,
                      0,
                      0,
                      0,
                      0,
                      0,
                      0,
                      2.3317034244537354,
                      0,
                      2.4257073402404785,
                      0,
                      0,
                      0,
                      0,
                      0,
                      0,
                      0,
                      0,
                      0,
                      0,
                      0,
                      0,
                      0.03642789274454117,
                      0,
                      0,
                      0,
                      0,
                      0,
                      0,
                      0,
                      0.2133558690547943,
                      0,
                      0,
                      0,
                      0,
                      0,
                      0,
                      0,
                      0,
                      0,
                      0,
                      0.48035699129104614,
                      0.26876237988471985,
                      0,
                      0,
                      0.04448790103197098,
                      5.560872554779053,
                      8.364840507507324,
                      0,
                      0,
                      10.535578727722168,
                      0.39251381158828735,
                      0.5999435782432556,
                      1.3530828952789307,
                      0,
                      0.3446762263774872,
                      0,
                      0,
                      0,
                      0,
                      0,
                      0.1948617696762085,
                      0,
                      0,
                      0,
                      0,
                      0,
                      0,
                      0,
                      0,
                      0,
                      5.381476879119873,
                      0,
                      0,
                      2.3272645473480225,
                      0,
                      3.495508909225464,
                      0.4923052489757538,
                      2.076366424560547,
                      0,
                      0,
                      0,
                      0,
                      0.06620918214321136,
                      0,
                      0,
                      1.0409191846847534,
                      0,
                      0,
                      0.30207905173301697,
                      0,
                      0,
                      0.8407201766967773,
                      0,
                      0,
                      0.9023020267486572,
                      0,
                      0,
                      0,
                      0,
                      0,
                      0,
                      0,
                      0,
                      2.289557456970215,
                      0.48791277408599854,
                      0.060423023998737335,
                      0,
                      1.5235369205474854,
                      0,
                      0,
                      0,
                      0,
                      0,
                      0,
                      0,
                      0.3252779245376587,
                      0,
                      0,
                      0,
                      0.15516585111618042,
                      0,
                      2.200331211090088,
                      0,
                      0,
                      0,
                      0,
                      0.8091306686401367,
                      0,
                      0,
                      8.75476360321045,
                      0,
                      0,
                      0,
                      0.37577518820762634,
                      0,
                      0.3826938569545746,
                      0,
                      0,
                      0
                    ]
                  ]
                }
              ],
              "layout": {
                "coloraxis": {
                  "cmid": 0,
                  "colorscale": [
                    [
                      0,
                      "rgb(103,0,31)"
                    ],
                    [
                      0.1,
                      "rgb(178,24,43)"
                    ],
                    [
                      0.2,
                      "rgb(214,96,77)"
                    ],
                    [
                      0.3,
                      "rgb(244,165,130)"
                    ],
                    [
                      0.4,
                      "rgb(253,219,199)"
                    ],
                    [
                      0.5,
                      "rgb(247,247,247)"
                    ],
                    [
                      0.6,
                      "rgb(209,229,240)"
                    ],
                    [
                      0.7,
                      "rgb(146,197,222)"
                    ],
                    [
                      0.8,
                      "rgb(67,147,195)"
                    ],
                    [
                      0.9,
                      "rgb(33,102,172)"
                    ],
                    [
                      1,
                      "rgb(5,48,97)"
                    ]
                  ]
                },
                "template": {
                  "data": {
                    "bar": [
                      {
                        "error_x": {
                          "color": "#2a3f5f"
                        },
                        "error_y": {
                          "color": "#2a3f5f"
                        },
                        "marker": {
                          "line": {
                            "color": "#E5ECF6",
                            "width": 0.5
                          },
                          "pattern": {
                            "fillmode": "overlay",
                            "size": 10,
                            "solidity": 0.2
                          }
                        },
                        "type": "bar"
                      }
                    ],
                    "barpolar": [
                      {
                        "marker": {
                          "line": {
                            "color": "#E5ECF6",
                            "width": 0.5
                          },
                          "pattern": {
                            "fillmode": "overlay",
                            "size": 10,
                            "solidity": 0.2
                          }
                        },
                        "type": "barpolar"
                      }
                    ],
                    "carpet": [
                      {
                        "aaxis": {
                          "endlinecolor": "#2a3f5f",
                          "gridcolor": "white",
                          "linecolor": "white",
                          "minorgridcolor": "white",
                          "startlinecolor": "#2a3f5f"
                        },
                        "baxis": {
                          "endlinecolor": "#2a3f5f",
                          "gridcolor": "white",
                          "linecolor": "white",
                          "minorgridcolor": "white",
                          "startlinecolor": "#2a3f5f"
                        },
                        "type": "carpet"
                      }
                    ],
                    "choropleth": [
                      {
                        "colorbar": {
                          "outlinewidth": 0,
                          "ticks": ""
                        },
                        "type": "choropleth"
                      }
                    ],
                    "contour": [
                      {
                        "colorbar": {
                          "outlinewidth": 0,
                          "ticks": ""
                        },
                        "colorscale": [
                          [
                            0,
                            "#0d0887"
                          ],
                          [
                            0.1111111111111111,
                            "#46039f"
                          ],
                          [
                            0.2222222222222222,
                            "#7201a8"
                          ],
                          [
                            0.3333333333333333,
                            "#9c179e"
                          ],
                          [
                            0.4444444444444444,
                            "#bd3786"
                          ],
                          [
                            0.5555555555555556,
                            "#d8576b"
                          ],
                          [
                            0.6666666666666666,
                            "#ed7953"
                          ],
                          [
                            0.7777777777777778,
                            "#fb9f3a"
                          ],
                          [
                            0.8888888888888888,
                            "#fdca26"
                          ],
                          [
                            1,
                            "#f0f921"
                          ]
                        ],
                        "type": "contour"
                      }
                    ],
                    "contourcarpet": [
                      {
                        "colorbar": {
                          "outlinewidth": 0,
                          "ticks": ""
                        },
                        "type": "contourcarpet"
                      }
                    ],
                    "heatmap": [
                      {
                        "colorbar": {
                          "outlinewidth": 0,
                          "ticks": ""
                        },
                        "colorscale": [
                          [
                            0,
                            "#0d0887"
                          ],
                          [
                            0.1111111111111111,
                            "#46039f"
                          ],
                          [
                            0.2222222222222222,
                            "#7201a8"
                          ],
                          [
                            0.3333333333333333,
                            "#9c179e"
                          ],
                          [
                            0.4444444444444444,
                            "#bd3786"
                          ],
                          [
                            0.5555555555555556,
                            "#d8576b"
                          ],
                          [
                            0.6666666666666666,
                            "#ed7953"
                          ],
                          [
                            0.7777777777777778,
                            "#fb9f3a"
                          ],
                          [
                            0.8888888888888888,
                            "#fdca26"
                          ],
                          [
                            1,
                            "#f0f921"
                          ]
                        ],
                        "type": "heatmap"
                      }
                    ],
                    "heatmapgl": [
                      {
                        "colorbar": {
                          "outlinewidth": 0,
                          "ticks": ""
                        },
                        "colorscale": [
                          [
                            0,
                            "#0d0887"
                          ],
                          [
                            0.1111111111111111,
                            "#46039f"
                          ],
                          [
                            0.2222222222222222,
                            "#7201a8"
                          ],
                          [
                            0.3333333333333333,
                            "#9c179e"
                          ],
                          [
                            0.4444444444444444,
                            "#bd3786"
                          ],
                          [
                            0.5555555555555556,
                            "#d8576b"
                          ],
                          [
                            0.6666666666666666,
                            "#ed7953"
                          ],
                          [
                            0.7777777777777778,
                            "#fb9f3a"
                          ],
                          [
                            0.8888888888888888,
                            "#fdca26"
                          ],
                          [
                            1,
                            "#f0f921"
                          ]
                        ],
                        "type": "heatmapgl"
                      }
                    ],
                    "histogram": [
                      {
                        "marker": {
                          "pattern": {
                            "fillmode": "overlay",
                            "size": 10,
                            "solidity": 0.2
                          }
                        },
                        "type": "histogram"
                      }
                    ],
                    "histogram2d": [
                      {
                        "colorbar": {
                          "outlinewidth": 0,
                          "ticks": ""
                        },
                        "colorscale": [
                          [
                            0,
                            "#0d0887"
                          ],
                          [
                            0.1111111111111111,
                            "#46039f"
                          ],
                          [
                            0.2222222222222222,
                            "#7201a8"
                          ],
                          [
                            0.3333333333333333,
                            "#9c179e"
                          ],
                          [
                            0.4444444444444444,
                            "#bd3786"
                          ],
                          [
                            0.5555555555555556,
                            "#d8576b"
                          ],
                          [
                            0.6666666666666666,
                            "#ed7953"
                          ],
                          [
                            0.7777777777777778,
                            "#fb9f3a"
                          ],
                          [
                            0.8888888888888888,
                            "#fdca26"
                          ],
                          [
                            1,
                            "#f0f921"
                          ]
                        ],
                        "type": "histogram2d"
                      }
                    ],
                    "histogram2dcontour": [
                      {
                        "colorbar": {
                          "outlinewidth": 0,
                          "ticks": ""
                        },
                        "colorscale": [
                          [
                            0,
                            "#0d0887"
                          ],
                          [
                            0.1111111111111111,
                            "#46039f"
                          ],
                          [
                            0.2222222222222222,
                            "#7201a8"
                          ],
                          [
                            0.3333333333333333,
                            "#9c179e"
                          ],
                          [
                            0.4444444444444444,
                            "#bd3786"
                          ],
                          [
                            0.5555555555555556,
                            "#d8576b"
                          ],
                          [
                            0.6666666666666666,
                            "#ed7953"
                          ],
                          [
                            0.7777777777777778,
                            "#fb9f3a"
                          ],
                          [
                            0.8888888888888888,
                            "#fdca26"
                          ],
                          [
                            1,
                            "#f0f921"
                          ]
                        ],
                        "type": "histogram2dcontour"
                      }
                    ],
                    "mesh3d": [
                      {
                        "colorbar": {
                          "outlinewidth": 0,
                          "ticks": ""
                        },
                        "type": "mesh3d"
                      }
                    ],
                    "parcoords": [
                      {
                        "line": {
                          "colorbar": {
                            "outlinewidth": 0,
                            "ticks": ""
                          }
                        },
                        "type": "parcoords"
                      }
                    ],
                    "pie": [
                      {
                        "automargin": true,
                        "type": "pie"
                      }
                    ],
                    "scatter": [
                      {
                        "fillpattern": {
                          "fillmode": "overlay",
                          "size": 10,
                          "solidity": 0.2
                        },
                        "type": "scatter"
                      }
                    ],
                    "scatter3d": [
                      {
                        "line": {
                          "colorbar": {
                            "outlinewidth": 0,
                            "ticks": ""
                          }
                        },
                        "marker": {
                          "colorbar": {
                            "outlinewidth": 0,
                            "ticks": ""
                          }
                        },
                        "type": "scatter3d"
                      }
                    ],
                    "scattercarpet": [
                      {
                        "marker": {
                          "colorbar": {
                            "outlinewidth": 0,
                            "ticks": ""
                          }
                        },
                        "type": "scattercarpet"
                      }
                    ],
                    "scattergeo": [
                      {
                        "marker": {
                          "colorbar": {
                            "outlinewidth": 0,
                            "ticks": ""
                          }
                        },
                        "type": "scattergeo"
                      }
                    ],
                    "scattergl": [
                      {
                        "marker": {
                          "colorbar": {
                            "outlinewidth": 0,
                            "ticks": ""
                          }
                        },
                        "type": "scattergl"
                      }
                    ],
                    "scattermapbox": [
                      {
                        "marker": {
                          "colorbar": {
                            "outlinewidth": 0,
                            "ticks": ""
                          }
                        },
                        "type": "scattermapbox"
                      }
                    ],
                    "scatterpolar": [
                      {
                        "marker": {
                          "colorbar": {
                            "outlinewidth": 0,
                            "ticks": ""
                          }
                        },
                        "type": "scatterpolar"
                      }
                    ],
                    "scatterpolargl": [
                      {
                        "marker": {
                          "colorbar": {
                            "outlinewidth": 0,
                            "ticks": ""
                          }
                        },
                        "type": "scatterpolargl"
                      }
                    ],
                    "scatterternary": [
                      {
                        "marker": {
                          "colorbar": {
                            "outlinewidth": 0,
                            "ticks": ""
                          }
                        },
                        "type": "scatterternary"
                      }
                    ],
                    "surface": [
                      {
                        "colorbar": {
                          "outlinewidth": 0,
                          "ticks": ""
                        },
                        "colorscale": [
                          [
                            0,
                            "#0d0887"
                          ],
                          [
                            0.1111111111111111,
                            "#46039f"
                          ],
                          [
                            0.2222222222222222,
                            "#7201a8"
                          ],
                          [
                            0.3333333333333333,
                            "#9c179e"
                          ],
                          [
                            0.4444444444444444,
                            "#bd3786"
                          ],
                          [
                            0.5555555555555556,
                            "#d8576b"
                          ],
                          [
                            0.6666666666666666,
                            "#ed7953"
                          ],
                          [
                            0.7777777777777778,
                            "#fb9f3a"
                          ],
                          [
                            0.8888888888888888,
                            "#fdca26"
                          ],
                          [
                            1,
                            "#f0f921"
                          ]
                        ],
                        "type": "surface"
                      }
                    ],
                    "table": [
                      {
                        "cells": {
                          "fill": {
                            "color": "#EBF0F8"
                          },
                          "line": {
                            "color": "white"
                          }
                        },
                        "header": {
                          "fill": {
                            "color": "#C8D4E3"
                          },
                          "line": {
                            "color": "white"
                          }
                        },
                        "type": "table"
                      }
                    ]
                  },
                  "layout": {
                    "annotationdefaults": {
                      "arrowcolor": "#2a3f5f",
                      "arrowhead": 0,
                      "arrowwidth": 1
                    },
                    "autotypenumbers": "strict",
                    "coloraxis": {
                      "colorbar": {
                        "outlinewidth": 0,
                        "ticks": ""
                      }
                    },
                    "colorscale": {
                      "diverging": [
                        [
                          0,
                          "#8e0152"
                        ],
                        [
                          0.1,
                          "#c51b7d"
                        ],
                        [
                          0.2,
                          "#de77ae"
                        ],
                        [
                          0.3,
                          "#f1b6da"
                        ],
                        [
                          0.4,
                          "#fde0ef"
                        ],
                        [
                          0.5,
                          "#f7f7f7"
                        ],
                        [
                          0.6,
                          "#e6f5d0"
                        ],
                        [
                          0.7,
                          "#b8e186"
                        ],
                        [
                          0.8,
                          "#7fbc41"
                        ],
                        [
                          0.9,
                          "#4d9221"
                        ],
                        [
                          1,
                          "#276419"
                        ]
                      ],
                      "sequential": [
                        [
                          0,
                          "#0d0887"
                        ],
                        [
                          0.1111111111111111,
                          "#46039f"
                        ],
                        [
                          0.2222222222222222,
                          "#7201a8"
                        ],
                        [
                          0.3333333333333333,
                          "#9c179e"
                        ],
                        [
                          0.4444444444444444,
                          "#bd3786"
                        ],
                        [
                          0.5555555555555556,
                          "#d8576b"
                        ],
                        [
                          0.6666666666666666,
                          "#ed7953"
                        ],
                        [
                          0.7777777777777778,
                          "#fb9f3a"
                        ],
                        [
                          0.8888888888888888,
                          "#fdca26"
                        ],
                        [
                          1,
                          "#f0f921"
                        ]
                      ],
                      "sequentialminus": [
                        [
                          0,
                          "#0d0887"
                        ],
                        [
                          0.1111111111111111,
                          "#46039f"
                        ],
                        [
                          0.2222222222222222,
                          "#7201a8"
                        ],
                        [
                          0.3333333333333333,
                          "#9c179e"
                        ],
                        [
                          0.4444444444444444,
                          "#bd3786"
                        ],
                        [
                          0.5555555555555556,
                          "#d8576b"
                        ],
                        [
                          0.6666666666666666,
                          "#ed7953"
                        ],
                        [
                          0.7777777777777778,
                          "#fb9f3a"
                        ],
                        [
                          0.8888888888888888,
                          "#fdca26"
                        ],
                        [
                          1,
                          "#f0f921"
                        ]
                      ]
                    },
                    "colorway": [
                      "#636efa",
                      "#EF553B",
                      "#00cc96",
                      "#ab63fa",
                      "#FFA15A",
                      "#19d3f3",
                      "#FF6692",
                      "#B6E880",
                      "#FF97FF",
                      "#FECB52"
                    ],
                    "font": {
                      "color": "#2a3f5f"
                    },
                    "geo": {
                      "bgcolor": "white",
                      "lakecolor": "white",
                      "landcolor": "#E5ECF6",
                      "showlakes": true,
                      "showland": true,
                      "subunitcolor": "white"
                    },
                    "hoverlabel": {
                      "align": "left"
                    },
                    "hovermode": "closest",
                    "mapbox": {
                      "style": "light"
                    },
                    "paper_bgcolor": "white",
                    "plot_bgcolor": "#E5ECF6",
                    "polar": {
                      "angularaxis": {
                        "gridcolor": "white",
                        "linecolor": "white",
                        "ticks": ""
                      },
                      "bgcolor": "#E5ECF6",
                      "radialaxis": {
                        "gridcolor": "white",
                        "linecolor": "white",
                        "ticks": ""
                      }
                    },
                    "scene": {
                      "xaxis": {
                        "backgroundcolor": "#E5ECF6",
                        "gridcolor": "white",
                        "gridwidth": 2,
                        "linecolor": "white",
                        "showbackground": true,
                        "ticks": "",
                        "zerolinecolor": "white"
                      },
                      "yaxis": {
                        "backgroundcolor": "#E5ECF6",
                        "gridcolor": "white",
                        "gridwidth": 2,
                        "linecolor": "white",
                        "showbackground": true,
                        "ticks": "",
                        "zerolinecolor": "white"
                      },
                      "zaxis": {
                        "backgroundcolor": "#E5ECF6",
                        "gridcolor": "white",
                        "gridwidth": 2,
                        "linecolor": "white",
                        "showbackground": true,
                        "ticks": "",
                        "zerolinecolor": "white"
                      }
                    },
                    "shapedefaults": {
                      "line": {
                        "color": "#2a3f5f"
                      }
                    },
                    "ternary": {
                      "aaxis": {
                        "gridcolor": "white",
                        "linecolor": "white",
                        "ticks": ""
                      },
                      "baxis": {
                        "gridcolor": "white",
                        "linecolor": "white",
                        "ticks": ""
                      },
                      "bgcolor": "#E5ECF6",
                      "caxis": {
                        "gridcolor": "white",
                        "linecolor": "white",
                        "ticks": ""
                      }
                    },
                    "title": {
                      "x": 0.05
                    },
                    "xaxis": {
                      "automargin": true,
                      "gridcolor": "white",
                      "linecolor": "white",
                      "ticks": "",
                      "title": {
                        "standoff": 15
                      },
                      "zerolinecolor": "white",
                      "zerolinewidth": 2
                    },
                    "yaxis": {
                      "automargin": true,
                      "gridcolor": "white",
                      "linecolor": "white",
                      "ticks": "",
                      "title": {
                        "standoff": 15
                      },
                      "zerolinecolor": "white",
                      "zerolinewidth": 2
                    }
                  }
                },
                "title": {
                  "text": "Activations of Live SAE features at L6 S2 position per prompt"
                },
                "xaxis": {
                  "anchor": "y",
                  "constrain": "domain",
                  "domain": [
                    0,
                    1
                  ],
                  "scaleanchor": "y"
                },
                "yaxis": {
                  "anchor": "x",
                  "autorange": "reversed",
                  "constrain": "domain",
                  "domain": [
                    0,
                    1
                  ]
                }
              }
            }
          },
          "metadata": {},
          "output_type": "display_data"
        }
      ],
      "source": [
        "layer, s2_pos = 6, 10\n",
        "act_names = [utils.get_act_name('resid_pre', layer) for layer in [layer]]\n",
        "_, cache = model.run_with_cache_with_saes(tokens, act_names=act_names)\n",
        "sae_acts = cache[utils.get_act_name('resid_pre', layer) + \".hook_sae_acts_post\"][:, s2_pos, :]\n",
        "live_feature_mask = sae_acts > 0\n",
        "live_feature_union = live_feature_mask.any(dim=0)\n",
        "\n",
        "px.imshow(\n",
        "    sae_acts[:, live_feature_union].detach().cpu(),\n",
        "    title = f\"Activations of Live SAE features at L{layer} S2 position per prompt\",\n",
        "    # xaxis=\"Feature Id\", yaxis=\"Prompt\",\n",
        "    x=list(map(str, live_feature_union.nonzero().flatten().tolist())),\n",
        "    color_continuous_midpoint=0,\n",
        "    color_continuous_scale='RdBu',\n",
        ")"
      ]
    },
    {
      "cell_type": "markdown",
      "metadata": {
        "id": "5oJjhfChviiC"
      },
      "source": [
        "# Run with Hooks"
      ]
    },
    {
      "cell_type": "markdown",
      "metadata": {
        "id": "nauTvP4PviiF"
      },
      "source": [
        "Often we would like to intervene on activations like SAE features. We use `run_with_hooks`. This works exactly like HookedTransformer `run_with_hooks`, with the added benefit that we can now intervene on SAE activations from the HookedSAEs. Let's use this to ablate SAE features to see which are the most causally relevant."
      ]
    },
    {
      "cell_type": "code",
      "execution_count": 18,
      "metadata": {
        "id": "-6x8oTo-viiF"
      },
      "outputs": [],
      "source": [
        "LAYER = 6\n",
        "model.turn_saes_off()\n",
        "model.get_saes_status()\n",
        "model.turn_saes_on(\n",
        "    [f'blocks.{i}.hook_resid_pre' for i in [LAYER]]\n",
        ")\n",
        "_, cache = model.run_with_cache(tokens)\n",
        "model.get_saes_status()\n",
        "\n",
        "logits_with_saes = model(tokens)\n",
        "clean_sae_baseline_avg = logits_to_ave_logit_diff(logits_with_saes, answer_tokens)\n",
        "clean_sae_baseline_per_prompt = logits_to_ave_logit_diff(logits_with_saes, answer_tokens, per_prompt=True)"
      ]
    },
    {
      "cell_type": "code",
      "execution_count": 19,
      "metadata": {},
      "outputs": [],
      "source": [
        "from tqdm import tqdm\n",
        "\n",
        "def ablate_sae_feature(sae_acts, hook, pos, feature_id):\n",
        "    if pos is None:\n",
        "        sae_acts[:, :, feature_id] = 0.\n",
        "    else:\n",
        "        sae_acts[:, pos, feature_id] = 0.\n",
        "    return sae_acts\n",
        "\n",
        "hooked_encoder = model.acts_to_saes[utils.get_act_name('resid_pre', LAYER)]\n",
        "all_live_features = torch.arange(sparse_autoencoder.cfg.d_sae)[live_feature_union.cpu()]"
      ]
    },
    {
      "cell_type": "code",
      "execution_count": 20,
      "metadata": {},
      "outputs": [
        {
          "name": "stderr",
          "output_type": "stream",
          "text": [
            "  3%|▎         | 4/151 [00:00<00:08, 17.26it/s]"
          ]
        },
        {
          "name": "stderr",
          "output_type": "stream",
          "text": [
            "100%|██████████| 151/151 [00:08<00:00, 17.61it/s]\n"
          ]
        }
      ],
      "source": [
        "causal_effects = torch.zeros((len(prompts), all_live_features.shape[0]))\n",
        "fid_to_idx = {fid.item(): idx for idx, fid in enumerate(all_live_features)}\n",
        "\n",
        "\n",
        "abl_layer, abl_pos  = LAYER, 10\n",
        "for feature_id in tqdm(all_live_features):\n",
        "    feature_id = feature_id.item()\n",
        "    abl_feature_logits = model.run_with_hooks(\n",
        "        tokens,\n",
        "        return_type=\"logits\",\n",
        "        fwd_hooks=[\n",
        "            (utils.get_act_name('resid_pre', abl_layer) + \".hook_sae_acts_post\", \n",
        "             partial(ablate_sae_feature, pos=abl_pos, feature_id=feature_id)\n",
        "             )\n",
        "        ]\n",
        "    ) # [batch, seq, vocab]\n",
        "    \n",
        "    abl_feature_logit_diff = logits_to_ave_logit_diff(abl_feature_logits, answer_tokens, per_prompt=True) # [batch]\n",
        "    del abl_feature_logits\n",
        "    torch.mps.empty_cache()\n",
        "    causal_effects[:, fid_to_idx[feature_id]] = abl_feature_logit_diff - clean_sae_baseline_per_prompt"
      ]
    },
    {
      "cell_type": "code",
      "execution_count": 21,
      "metadata": {},
      "outputs": [
        {
          "data": {
            "application/vnd.plotly.v1+json": {
              "config": {
                "plotlyServerURL": "https://plotly.com"
              },
              "data": [
                {
                  "coloraxis": "coloraxis",
                  "hovertemplate": "x: %{x}<br>y: %{y}<br>color: %{z}<extra></extra>",
                  "name": "0",
                  "type": "heatmap",
                  "x": [
                    "176",
                    "502",
                    "523",
                    "700",
                    "1309",
                    "1468",
                    "1634",
                    "1648",
                    "1691",
                    "1750",
                    "1756",
                    "1971",
                    "2125",
                    "2264",
                    "2552",
                    "2582",
                    "2902",
                    "3458",
                    "3639",
                    "3658",
                    "3693",
                    "3804",
                    "3948",
                    "4265",
                    "4456",
                    "4504",
                    "4752",
                    "4754",
                    "4819",
                    "5074",
                    "5160",
                    "5248",
                    "5271",
                    "5384",
                    "5658",
                    "5762",
                    "5971",
                    "6268",
                    "6421",
                    "6547",
                    "6593",
                    "7416",
                    "7539",
                    "7545",
                    "7963",
                    "8037",
                    "8109",
                    "8191",
                    "8387",
                    "8662",
                    "8895",
                    "8928",
                    "9119",
                    "9201",
                    "9238",
                    "9291",
                    "9346",
                    "9532",
                    "9821",
                    "9967",
                    "10045",
                    "10237",
                    "10372",
                    "10512",
                    "10524",
                    "10861",
                    "10905",
                    "11071",
                    "11414",
                    "11513",
                    "11549",
                    "11692",
                    "12128",
                    "12419",
                    "12528",
                    "12691",
                    "12736",
                    "12832",
                    "13066",
                    "13069",
                    "13089",
                    "13265",
                    "13403",
                    "13758",
                    "13838",
                    "13841",
                    "13921",
                    "14023",
                    "14171",
                    "14271",
                    "14485",
                    "14548",
                    "14603",
                    "14744",
                    "14910",
                    "15087",
                    "15194",
                    "15372",
                    "15376",
                    "15413",
                    "15561",
                    "16346",
                    "16381",
                    "16383",
                    "16504",
                    "16683",
                    "16758",
                    "16878",
                    "17081",
                    "17282",
                    "17462",
                    "17941",
                    "18157",
                    "18197",
                    "18335",
                    "18342",
                    "18425",
                    "18525",
                    "18547",
                    "18621",
                    "18801",
                    "18863",
                    "19133",
                    "19888",
                    "20122",
                    "20331",
                    "20714",
                    "20957",
                    "21105",
                    "21189",
                    "21514",
                    "21631",
                    "21732",
                    "21891",
                    "21974",
                    "22037",
                    "22088",
                    "22301",
                    "22371",
                    "22387",
                    "22395",
                    "22464",
                    "22520",
                    "23175",
                    "23301",
                    "23363",
                    "23691",
                    "23817",
                    "23964",
                    "24179",
                    "24373"
                  ],
                  "xaxis": "x",
                  "yaxis": "y",
                  "z": [
                    [
                      0,
                      0,
                      0,
                      0.0716409683227539,
                      0,
                      0,
                      0.1667623519897461,
                      -0.00394439697265625,
                      0,
                      0,
                      0.4588508605957031,
                      0,
                      0,
                      0.019331932067871094,
                      -0.00287628173828125,
                      0,
                      0,
                      0,
                      0.4278697967529297,
                      0.00640869140625,
                      0.3730812072753906,
                      -0.00814056396484375,
                      0,
                      0,
                      0,
                      0,
                      0,
                      0,
                      0,
                      0,
                      0,
                      0.10372257232666016,
                      0,
                      0,
                      0,
                      0,
                      0,
                      0.013437271118164062,
                      0,
                      0.03320598602294922,
                      0,
                      0,
                      0,
                      0,
                      0,
                      0,
                      0,
                      0,
                      -0.04495811462402344,
                      0,
                      0,
                      -0.9337282180786133,
                      0.024068832397460938,
                      0.1362924575805664,
                      0,
                      0,
                      0,
                      -0.10027885437011719,
                      -0.22293472290039062,
                      0,
                      0.12738609313964844,
                      -0.38070106506347656,
                      0,
                      0.10767078399658203,
                      0,
                      0,
                      -0.02055072784423828,
                      -0.025211334228515625,
                      0,
                      0,
                      0,
                      0,
                      0.15533924102783203,
                      0,
                      0,
                      -0.994410514831543,
                      0.13047504425048828,
                      0,
                      -0.1325368881225586,
                      0,
                      0,
                      -0.00002574920654296875,
                      -0.05297279357910156,
                      0.1341838836669922,
                      0.052700042724609375,
                      -0.029445648193359375,
                      0,
                      0.2867774963378906,
                      0.15181255340576172,
                      0,
                      0,
                      -0.03742027282714844,
                      0,
                      -0.04067420959472656,
                      0,
                      0.006749153137207031,
                      0,
                      0.06025123596191406,
                      0.01854705810546875,
                      0.09116363525390625,
                      0,
                      0,
                      0,
                      0.24341487884521484,
                      0,
                      0,
                      0,
                      0,
                      0,
                      0,
                      0,
                      0,
                      0,
                      0.04603767395019531,
                      0,
                      0,
                      0,
                      0,
                      0.012815475463867188,
                      0.1575641632080078,
                      -0.024227142333984375,
                      0.0004634857177734375,
                      0,
                      0,
                      0,
                      0,
                      0,
                      0.09202289581298828,
                      0,
                      0,
                      0,
                      0.007418632507324219,
                      0,
                      0.0815725326538086,
                      0,
                      0,
                      0,
                      0.03757476806640625,
                      0,
                      -0.004673957824707031,
                      0.25025272369384766,
                      0,
                      0.015444755554199219,
                      0,
                      -0.011157989501953125,
                      0.0048084259033203125,
                      0,
                      0,
                      0,
                      0,
                      0
                    ],
                    [
                      0,
                      0,
                      0,
                      -0.10840034484863281,
                      0,
                      -0.09980392456054688,
                      0.11507987976074219,
                      0.001186370849609375,
                      0,
                      0,
                      0.5600852966308594,
                      0,
                      0,
                      0,
                      0,
                      0,
                      0,
                      0,
                      0.2521038055419922,
                      0,
                      0.3660602569580078,
                      0.02899169921875,
                      0,
                      0,
                      0,
                      0,
                      0.09270858764648438,
                      0.0048351287841796875,
                      0,
                      0,
                      0,
                      0.05426979064941406,
                      0,
                      0,
                      0,
                      0,
                      0,
                      0.07951736450195312,
                      0,
                      0,
                      0,
                      0,
                      0,
                      0,
                      0,
                      0,
                      0,
                      0,
                      0.021091461181640625,
                      0,
                      0,
                      0,
                      0.15916824340820312,
                      0.017309188842773438,
                      0,
                      0,
                      0,
                      -0.12939071655273438,
                      0.043025970458984375,
                      0,
                      0,
                      -0.27110862731933594,
                      0,
                      0.025175094604492188,
                      0,
                      0,
                      -0.024690628051757812,
                      -0.00128173828125,
                      0,
                      0,
                      0,
                      0,
                      0.04387474060058594,
                      0,
                      -0.0046901702880859375,
                      0.06586074829101562,
                      0,
                      0,
                      0,
                      0,
                      -1.2182903289794922,
                      -0.029203414916992188,
                      -0.226470947265625,
                      0,
                      0.06353759765625,
                      0,
                      0,
                      0.4933757781982422,
                      0.05169486999511719,
                      0,
                      0,
                      0,
                      0,
                      0,
                      0,
                      0.000247955322265625,
                      0,
                      0.023670196533203125,
                      0,
                      0.11948204040527344,
                      0.0038318634033203125,
                      0,
                      0,
                      0.22492218017578125,
                      0,
                      0,
                      0.015333175659179688,
                      0,
                      0.008331298828125,
                      -0.061611175537109375,
                      0,
                      0,
                      0,
                      0.09249687194824219,
                      0,
                      -0.041149139404296875,
                      0,
                      0,
                      0,
                      0.1571025848388672,
                      0.0015430450439453125,
                      0,
                      0,
                      0,
                      0,
                      0,
                      0,
                      0.08905601501464844,
                      0,
                      0,
                      0,
                      0.011966705322265625,
                      0,
                      0.09656906127929688,
                      0,
                      0,
                      0,
                      0.0039386749267578125,
                      0,
                      0,
                      0.03774452209472656,
                      -0.35549354553222656,
                      0,
                      0,
                      0,
                      0.0017795562744140625,
                      0,
                      -0.07899665832519531,
                      0,
                      0,
                      0
                    ],
                    [
                      0,
                      0.02938365936279297,
                      -0.0031948089599609375,
                      0,
                      0,
                      -0.009980201721191406,
                      0.0710458755493164,
                      0.0055370330810546875,
                      0,
                      0,
                      0.4404125213623047,
                      0,
                      0,
                      0,
                      0,
                      0,
                      0,
                      0,
                      0.07912158966064453,
                      0,
                      0.1692190170288086,
                      -0.010381698608398438,
                      -0.019649505615234375,
                      0,
                      0,
                      -0.008202552795410156,
                      0,
                      0,
                      0,
                      0,
                      0,
                      0.11952972412109375,
                      0,
                      0,
                      0,
                      0,
                      -0.021860122680664062,
                      0.05108642578125,
                      0,
                      0.030588150024414062,
                      0,
                      0,
                      0,
                      0,
                      -0.020107269287109375,
                      0,
                      0,
                      0,
                      -0.011547088623046875,
                      0,
                      0,
                      0,
                      0.08987140655517578,
                      0.056552886962890625,
                      0.04758167266845703,
                      0,
                      0,
                      -0.047799110412597656,
                      -0.4500465393066406,
                      0,
                      0.06462574005126953,
                      -0.5254583358764648,
                      0,
                      0.04411506652832031,
                      0,
                      -0.0026578903198242188,
                      -0.010824203491210938,
                      -0.007142066955566406,
                      0,
                      0,
                      0,
                      -0.0037021636962890625,
                      0.2608470916748047,
                      0,
                      0,
                      -1.1604366302490234,
                      0,
                      0,
                      0,
                      0,
                      0,
                      0,
                      -0.034084320068359375,
                      0.046031951904296875,
                      0.15654468536376953,
                      -0.0018749237060546875,
                      0,
                      0.4293489456176758,
                      -0.0084075927734375,
                      0.07040977478027344,
                      0,
                      0,
                      0,
                      0,
                      0,
                      0,
                      0,
                      0.17469024658203125,
                      0.0038318634033203125,
                      0.04575538635253906,
                      0,
                      0.06743717193603516,
                      0.0040111541748046875,
                      0.09660148620605469,
                      0,
                      0,
                      0.05194664001464844,
                      0,
                      0,
                      0,
                      0.002483367919921875,
                      0,
                      0,
                      0,
                      0,
                      0,
                      0,
                      0,
                      0,
                      0.09500885009765625,
                      -0.008143424987792969,
                      0,
                      0,
                      0,
                      0.00024318695068359375,
                      0,
                      -0.010546684265136719,
                      0.13338756561279297,
                      0,
                      0,
                      0,
                      0.09201526641845703,
                      0,
                      0.12785911560058594,
                      0,
                      0,
                      0,
                      0,
                      0,
                      -0.02622222900390625,
                      0.01564311981201172,
                      0,
                      0,
                      -0.0018310546875,
                      -0.03192329406738281,
                      -0.0020236968994140625,
                      0,
                      0,
                      0,
                      0,
                      0.042580604553222656
                    ],
                    [
                      0,
                      0.019438743591308594,
                      0,
                      0,
                      0,
                      0,
                      -0.13868999481201172,
                      0,
                      0,
                      0,
                      0.3669013977050781,
                      0,
                      0,
                      0,
                      0,
                      0,
                      0,
                      0,
                      0.23775291442871094,
                      0,
                      0.3392515182495117,
                      0.013972282409667969,
                      0,
                      0,
                      0,
                      0,
                      0,
                      0,
                      0,
                      0,
                      0,
                      0,
                      0,
                      0,
                      0,
                      0,
                      0,
                      0.19119548797607422,
                      0,
                      0,
                      0.030443191528320312,
                      0,
                      0,
                      0,
                      -0.033168792724609375,
                      -1.5663213729858398,
                      0,
                      0,
                      0,
                      0,
                      0,
                      0,
                      0,
                      0,
                      0,
                      0,
                      0,
                      -0.1733407974243164,
                      0.35981273651123047,
                      0,
                      0,
                      -0.6703052520751953,
                      0,
                      0,
                      0,
                      0,
                      -0.044884681701660156,
                      0,
                      0,
                      -0.008767127990722656,
                      0,
                      0,
                      0.08554840087890625,
                      0,
                      0,
                      0,
                      0,
                      0,
                      0,
                      0,
                      0,
                      0,
                      -0.18109989166259766,
                      0,
                      0,
                      -0.017724037170410156,
                      0,
                      0.35703277587890625,
                      0.17137432098388672,
                      0.06235790252685547,
                      0,
                      0,
                      0,
                      -0.09483909606933594,
                      0,
                      0,
                      0,
                      0.0769796371459961,
                      0,
                      0,
                      0,
                      0,
                      0,
                      0,
                      0,
                      0,
                      0.14377403259277344,
                      0,
                      0,
                      -0.17028331756591797,
                      0,
                      0,
                      0,
                      0,
                      0,
                      -0.017667770385742188,
                      0,
                      0,
                      0,
                      0.12581157684326172,
                      0,
                      0,
                      0,
                      0,
                      0,
                      0,
                      0,
                      0,
                      0,
                      0,
                      0,
                      0.13878822326660156,
                      0,
                      0.2234811782836914,
                      0,
                      0.019311904907226562,
                      0,
                      0.009124755859375,
                      0,
                      -0.03463459014892578,
                      0,
                      -0.7109756469726562,
                      0,
                      0,
                      0,
                      -0.0027828216552734375,
                      0,
                      -0.10168933868408203,
                      -0.023581504821777344,
                      0,
                      0
                    ],
                    [
                      -0.13742446899414062,
                      0,
                      -0.00372314453125,
                      0,
                      0,
                      0,
                      0.25182628631591797,
                      0,
                      0,
                      -0.00482177734375,
                      0.332122802734375,
                      -0.03103160858154297,
                      0,
                      0,
                      0,
                      -0.01901531219482422,
                      -0.0391998291015625,
                      -0.007832527160644531,
                      0.20256328582763672,
                      0,
                      0.2413644790649414,
                      0,
                      0,
                      -0.0011081695556640625,
                      0,
                      0,
                      0,
                      0,
                      -0.00019359588623046875,
                      -0.0008077621459960938,
                      0,
                      0.0676870346069336,
                      0,
                      0,
                      0,
                      -0.07543182373046875,
                      0,
                      0.19423675537109375,
                      0,
                      0.00060272216796875,
                      0,
                      0,
                      -0.04220294952392578,
                      0,
                      0,
                      0,
                      -0.08897209167480469,
                      0.009512901306152344,
                      0,
                      0,
                      -0.06522178649902344,
                      0,
                      0.07818222045898438,
                      0,
                      0,
                      0.0028514862060546875,
                      0,
                      -0.08997821807861328,
                      -0.364959716796875,
                      0,
                      0,
                      -0.3553314208984375,
                      0,
                      0.07423973083496094,
                      0,
                      0,
                      -0.0000438690185546875,
                      -0.0027647018432617188,
                      -0.22629451751708984,
                      0,
                      0,
                      0,
                      0.22826290130615234,
                      -0.06063270568847656,
                      0,
                      -0.7525119781494141,
                      0,
                      0,
                      0,
                      0.000469207763671875,
                      0,
                      0,
                      -0.006066322326660156,
                      0,
                      0,
                      -0.0008058547973632812,
                      -0.019616127014160156,
                      0.20653343200683594,
                      0.06955528259277344,
                      0,
                      0,
                      0,
                      0,
                      -0.052837371826171875,
                      0.00066375732421875,
                      0.004469871520996094,
                      0,
                      0,
                      0,
                      0.0901479721069336,
                      0,
                      0.014864921569824219,
                      0,
                      0.20654964447021484,
                      0.0042724609375,
                      0.027513504028320312,
                      0,
                      -0.11459827423095703,
                      0,
                      0,
                      0,
                      0,
                      0.012273788452148438,
                      0,
                      -0.009074211120605469,
                      0,
                      0,
                      0,
                      0,
                      0.164398193359375,
                      0,
                      0,
                      0.0033664703369140625,
                      -0.04963970184326172,
                      0,
                      -0.004111289978027344,
                      0,
                      0.07858753204345703,
                      -0.004469871520996094,
                      -0.008115768432617188,
                      0,
                      0,
                      0.007966041564941406,
                      0.4688577651977539,
                      -0.1822032928466797,
                      0.1748189926147461,
                      -0.0027103424072265625,
                      0,
                      0,
                      -0.004508018493652344,
                      0,
                      0,
                      0,
                      0,
                      0,
                      0,
                      0,
                      0,
                      0,
                      -0.0032358169555664062,
                      0
                    ],
                    [
                      0,
                      0,
                      0,
                      0,
                      0,
                      0,
                      0.07871627807617188,
                      0,
                      0,
                      0,
                      0.7182149887084961,
                      0.030714035034179688,
                      0,
                      0,
                      0,
                      0,
                      0,
                      0,
                      0.43053245544433594,
                      0,
                      0.5587997436523438,
                      0.026465415954589844,
                      0,
                      0,
                      0,
                      0,
                      0,
                      0,
                      0,
                      0,
                      -0.06346893310546875,
                      0,
                      0,
                      0,
                      0.0024394989013671875,
                      0,
                      0.05107879638671875,
                      0.26095104217529297,
                      0,
                      0,
                      0,
                      0,
                      0,
                      0,
                      0,
                      0,
                      0,
                      0,
                      0,
                      0,
                      0,
                      0,
                      0.09395408630371094,
                      0,
                      0,
                      0,
                      0,
                      -0.14109134674072266,
                      0.8027467727661133,
                      0,
                      0,
                      -0.5766315460205078,
                      0,
                      0.061862945556640625,
                      0,
                      0,
                      -0.09756183624267578,
                      0,
                      0,
                      -0.011133193969726562,
                      -0.007973670959472656,
                      0,
                      0.17606163024902344,
                      0,
                      0,
                      0,
                      0,
                      0,
                      0,
                      0,
                      0,
                      0,
                      -0.35352420806884766,
                      0,
                      0.0030078887939453125,
                      -0.07355117797851562,
                      0,
                      0.7170572280883789,
                      0.16028690338134766,
                      0.16915512084960938,
                      0,
                      0,
                      0,
                      -0.11521244049072266,
                      0,
                      0,
                      0.015753746032714844,
                      0,
                      0,
                      0,
                      0,
                      0,
                      0,
                      0.257171630859375,
                      0,
                      0,
                      0.10335350036621094,
                      0,
                      0,
                      -0.15480613708496094,
                      0,
                      0,
                      0,
                      0,
                      0,
                      -0.0096282958984375,
                      0,
                      0,
                      0,
                      0.2411785125732422,
                      0,
                      0,
                      0,
                      -0.2540016174316406,
                      0,
                      0,
                      0,
                      0.05970954895019531,
                      0,
                      0,
                      -0.9868621826171875,
                      0,
                      0,
                      0.37815189361572266,
                      0,
                      0,
                      0,
                      0,
                      0,
                      -0.00036907196044921875,
                      0,
                      -1.4501008987426758,
                      0,
                      0,
                      0,
                      0,
                      0,
                      0,
                      0,
                      0,
                      0
                    ],
                    [
                      0,
                      0,
                      0,
                      0,
                      0,
                      0,
                      0.18345260620117188,
                      0.0011272430419921875,
                      0.007081031799316406,
                      0,
                      0.5970525741577148,
                      0,
                      -0.0007028579711914062,
                      0,
                      0,
                      0,
                      0,
                      0,
                      0.5287809371948242,
                      0,
                      0.38141822814941406,
                      0.0005617141723632812,
                      0,
                      0,
                      -0.0013666152954101562,
                      0,
                      0,
                      0,
                      0,
                      0,
                      0,
                      0.1301565170288086,
                      0.0075225830078125,
                      0,
                      0,
                      0,
                      -0.04927635192871094,
                      0.03071117401123047,
                      0.0006875991821289062,
                      0,
                      0,
                      0,
                      0,
                      -0.9215641021728516,
                      0,
                      0,
                      0,
                      0,
                      0,
                      0.1110544204711914,
                      0,
                      0,
                      0.02242279052734375,
                      0.33168601989746094,
                      0,
                      0,
                      0,
                      -0.09029579162597656,
                      -0.1984701156616211,
                      -0.007668495178222656,
                      0,
                      -0.6959238052368164,
                      0,
                      0.1968069076538086,
                      0.019374847412109375,
                      0,
                      -0.009617805480957031,
                      -0.021532058715820312,
                      0,
                      0,
                      0,
                      0,
                      0.35346031188964844,
                      0.0020771026611328125,
                      0,
                      -1.3528375625610352,
                      0,
                      -0.0011224746704101562,
                      -0.034778594970703125,
                      0,
                      0,
                      0,
                      -0.14440536499023438,
                      0.11447906494140625,
                      0.16281414031982422,
                      -0.013094902038574219,
                      0,
                      0.45308399200439453,
                      0.19677734375,
                      0.0999746322631836,
                      -0.033957481384277344,
                      0,
                      -0.0038824081420898438,
                      0,
                      0,
                      0,
                      0,
                      0.15104961395263672,
                      0,
                      0.12996578216552734,
                      0.025237083435058594,
                      0.03134632110595703,
                      0,
                      0.31349849700927734,
                      0,
                      0,
                      0,
                      0,
                      0,
                      0,
                      0,
                      -0.00261688232421875,
                      0,
                      0,
                      0,
                      0,
                      0,
                      0,
                      0,
                      0.19566059112548828,
                      -0.015046119689941406,
                      0,
                      0,
                      0,
                      0,
                      0,
                      0,
                      0.13916683197021484,
                      0,
                      0,
                      0,
                      0.14488887786865234,
                      0,
                      0.1962146759033203,
                      0,
                      0,
                      0,
                      0,
                      0.047562599182128906,
                      0,
                      0,
                      0,
                      0,
                      0,
                      -0.00001049041748046875,
                      -0.0014657974243164062,
                      0.030127525329589844,
                      0,
                      0,
                      0,
                      0
                    ],
                    [
                      0,
                      0,
                      0,
                      0,
                      0.4220266342163086,
                      0,
                      0.19054698944091797,
                      -0.00032711029052734375,
                      0,
                      0,
                      1.125711441040039,
                      0,
                      0,
                      0,
                      0,
                      0,
                      0,
                      0,
                      0.8225231170654297,
                      0,
                      0.6195802688598633,
                      0,
                      0,
                      0,
                      0,
                      0,
                      0,
                      0,
                      0,
                      0,
                      0,
                      0,
                      0,
                      -0.00339508056640625,
                      0,
                      0,
                      0,
                      0,
                      0,
                      0,
                      0,
                      0.009263038635253906,
                      0,
                      0,
                      0,
                      0,
                      0,
                      0,
                      0,
                      0,
                      0,
                      0,
                      0.09191036224365234,
                      0.09663200378417969,
                      0,
                      0,
                      0.0016679763793945312,
                      -0.35094261169433594,
                      0.1716766357421875,
                      0,
                      0,
                      -1.4406747817993164,
                      -0.0013380050659179688,
                      0.2805471420288086,
                      0.17171859741210938,
                      0,
                      -0.05792808532714844,
                      0,
                      0,
                      0,
                      0,
                      0,
                      0.0758981704711914,
                      0,
                      0,
                      0,
                      0,
                      0,
                      0,
                      0,
                      0,
                      0,
                      -0.569697380065918,
                      0,
                      0,
                      -0.2105121612548828,
                      0,
                      1.232804298400879,
                      0.08769798278808594,
                      0.7287492752075195,
                      0,
                      0,
                      0,
                      0,
                      0.0010652542114257812,
                      0,
                      0,
                      0.36550331115722656,
                      0,
                      0,
                      0.021643638610839844,
                      0,
                      0,
                      0.3262805938720703,
                      0,
                      0,
                      0.24321365356445312,
                      0,
                      0,
                      0,
                      0,
                      0,
                      0,
                      0,
                      0,
                      -0.45354270935058594,
                      -0.10729408264160156,
                      -0.0036411285400390625,
                      0,
                      0.27961158752441406,
                      0,
                      0,
                      0,
                      0,
                      0,
                      0,
                      0,
                      0.14148712158203125,
                      0,
                      0,
                      0,
                      0.06486034393310547,
                      0,
                      0.6492519378662109,
                      0,
                      0,
                      0,
                      0,
                      0.1701335906982422,
                      0,
                      0,
                      -1.5273151397705078,
                      0,
                      0,
                      0,
                      -0.0006437301635742188,
                      0,
                      -0.0535736083984375,
                      0,
                      0,
                      0
                    ]
                  ]
                }
              ],
              "layout": {
                "coloraxis": {
                  "cmid": 0,
                  "colorscale": [
                    [
                      0,
                      "rgb(103,0,31)"
                    ],
                    [
                      0.1,
                      "rgb(178,24,43)"
                    ],
                    [
                      0.2,
                      "rgb(214,96,77)"
                    ],
                    [
                      0.3,
                      "rgb(244,165,130)"
                    ],
                    [
                      0.4,
                      "rgb(253,219,199)"
                    ],
                    [
                      0.5,
                      "rgb(247,247,247)"
                    ],
                    [
                      0.6,
                      "rgb(209,229,240)"
                    ],
                    [
                      0.7,
                      "rgb(146,197,222)"
                    ],
                    [
                      0.8,
                      "rgb(67,147,195)"
                    ],
                    [
                      0.9,
                      "rgb(33,102,172)"
                    ],
                    [
                      1,
                      "rgb(5,48,97)"
                    ]
                  ]
                },
                "template": {
                  "data": {
                    "bar": [
                      {
                        "error_x": {
                          "color": "#2a3f5f"
                        },
                        "error_y": {
                          "color": "#2a3f5f"
                        },
                        "marker": {
                          "line": {
                            "color": "#E5ECF6",
                            "width": 0.5
                          },
                          "pattern": {
                            "fillmode": "overlay",
                            "size": 10,
                            "solidity": 0.2
                          }
                        },
                        "type": "bar"
                      }
                    ],
                    "barpolar": [
                      {
                        "marker": {
                          "line": {
                            "color": "#E5ECF6",
                            "width": 0.5
                          },
                          "pattern": {
                            "fillmode": "overlay",
                            "size": 10,
                            "solidity": 0.2
                          }
                        },
                        "type": "barpolar"
                      }
                    ],
                    "carpet": [
                      {
                        "aaxis": {
                          "endlinecolor": "#2a3f5f",
                          "gridcolor": "white",
                          "linecolor": "white",
                          "minorgridcolor": "white",
                          "startlinecolor": "#2a3f5f"
                        },
                        "baxis": {
                          "endlinecolor": "#2a3f5f",
                          "gridcolor": "white",
                          "linecolor": "white",
                          "minorgridcolor": "white",
                          "startlinecolor": "#2a3f5f"
                        },
                        "type": "carpet"
                      }
                    ],
                    "choropleth": [
                      {
                        "colorbar": {
                          "outlinewidth": 0,
                          "ticks": ""
                        },
                        "type": "choropleth"
                      }
                    ],
                    "contour": [
                      {
                        "colorbar": {
                          "outlinewidth": 0,
                          "ticks": ""
                        },
                        "colorscale": [
                          [
                            0,
                            "#0d0887"
                          ],
                          [
                            0.1111111111111111,
                            "#46039f"
                          ],
                          [
                            0.2222222222222222,
                            "#7201a8"
                          ],
                          [
                            0.3333333333333333,
                            "#9c179e"
                          ],
                          [
                            0.4444444444444444,
                            "#bd3786"
                          ],
                          [
                            0.5555555555555556,
                            "#d8576b"
                          ],
                          [
                            0.6666666666666666,
                            "#ed7953"
                          ],
                          [
                            0.7777777777777778,
                            "#fb9f3a"
                          ],
                          [
                            0.8888888888888888,
                            "#fdca26"
                          ],
                          [
                            1,
                            "#f0f921"
                          ]
                        ],
                        "type": "contour"
                      }
                    ],
                    "contourcarpet": [
                      {
                        "colorbar": {
                          "outlinewidth": 0,
                          "ticks": ""
                        },
                        "type": "contourcarpet"
                      }
                    ],
                    "heatmap": [
                      {
                        "colorbar": {
                          "outlinewidth": 0,
                          "ticks": ""
                        },
                        "colorscale": [
                          [
                            0,
                            "#0d0887"
                          ],
                          [
                            0.1111111111111111,
                            "#46039f"
                          ],
                          [
                            0.2222222222222222,
                            "#7201a8"
                          ],
                          [
                            0.3333333333333333,
                            "#9c179e"
                          ],
                          [
                            0.4444444444444444,
                            "#bd3786"
                          ],
                          [
                            0.5555555555555556,
                            "#d8576b"
                          ],
                          [
                            0.6666666666666666,
                            "#ed7953"
                          ],
                          [
                            0.7777777777777778,
                            "#fb9f3a"
                          ],
                          [
                            0.8888888888888888,
                            "#fdca26"
                          ],
                          [
                            1,
                            "#f0f921"
                          ]
                        ],
                        "type": "heatmap"
                      }
                    ],
                    "heatmapgl": [
                      {
                        "colorbar": {
                          "outlinewidth": 0,
                          "ticks": ""
                        },
                        "colorscale": [
                          [
                            0,
                            "#0d0887"
                          ],
                          [
                            0.1111111111111111,
                            "#46039f"
                          ],
                          [
                            0.2222222222222222,
                            "#7201a8"
                          ],
                          [
                            0.3333333333333333,
                            "#9c179e"
                          ],
                          [
                            0.4444444444444444,
                            "#bd3786"
                          ],
                          [
                            0.5555555555555556,
                            "#d8576b"
                          ],
                          [
                            0.6666666666666666,
                            "#ed7953"
                          ],
                          [
                            0.7777777777777778,
                            "#fb9f3a"
                          ],
                          [
                            0.8888888888888888,
                            "#fdca26"
                          ],
                          [
                            1,
                            "#f0f921"
                          ]
                        ],
                        "type": "heatmapgl"
                      }
                    ],
                    "histogram": [
                      {
                        "marker": {
                          "pattern": {
                            "fillmode": "overlay",
                            "size": 10,
                            "solidity": 0.2
                          }
                        },
                        "type": "histogram"
                      }
                    ],
                    "histogram2d": [
                      {
                        "colorbar": {
                          "outlinewidth": 0,
                          "ticks": ""
                        },
                        "colorscale": [
                          [
                            0,
                            "#0d0887"
                          ],
                          [
                            0.1111111111111111,
                            "#46039f"
                          ],
                          [
                            0.2222222222222222,
                            "#7201a8"
                          ],
                          [
                            0.3333333333333333,
                            "#9c179e"
                          ],
                          [
                            0.4444444444444444,
                            "#bd3786"
                          ],
                          [
                            0.5555555555555556,
                            "#d8576b"
                          ],
                          [
                            0.6666666666666666,
                            "#ed7953"
                          ],
                          [
                            0.7777777777777778,
                            "#fb9f3a"
                          ],
                          [
                            0.8888888888888888,
                            "#fdca26"
                          ],
                          [
                            1,
                            "#f0f921"
                          ]
                        ],
                        "type": "histogram2d"
                      }
                    ],
                    "histogram2dcontour": [
                      {
                        "colorbar": {
                          "outlinewidth": 0,
                          "ticks": ""
                        },
                        "colorscale": [
                          [
                            0,
                            "#0d0887"
                          ],
                          [
                            0.1111111111111111,
                            "#46039f"
                          ],
                          [
                            0.2222222222222222,
                            "#7201a8"
                          ],
                          [
                            0.3333333333333333,
                            "#9c179e"
                          ],
                          [
                            0.4444444444444444,
                            "#bd3786"
                          ],
                          [
                            0.5555555555555556,
                            "#d8576b"
                          ],
                          [
                            0.6666666666666666,
                            "#ed7953"
                          ],
                          [
                            0.7777777777777778,
                            "#fb9f3a"
                          ],
                          [
                            0.8888888888888888,
                            "#fdca26"
                          ],
                          [
                            1,
                            "#f0f921"
                          ]
                        ],
                        "type": "histogram2dcontour"
                      }
                    ],
                    "mesh3d": [
                      {
                        "colorbar": {
                          "outlinewidth": 0,
                          "ticks": ""
                        },
                        "type": "mesh3d"
                      }
                    ],
                    "parcoords": [
                      {
                        "line": {
                          "colorbar": {
                            "outlinewidth": 0,
                            "ticks": ""
                          }
                        },
                        "type": "parcoords"
                      }
                    ],
                    "pie": [
                      {
                        "automargin": true,
                        "type": "pie"
                      }
                    ],
                    "scatter": [
                      {
                        "fillpattern": {
                          "fillmode": "overlay",
                          "size": 10,
                          "solidity": 0.2
                        },
                        "type": "scatter"
                      }
                    ],
                    "scatter3d": [
                      {
                        "line": {
                          "colorbar": {
                            "outlinewidth": 0,
                            "ticks": ""
                          }
                        },
                        "marker": {
                          "colorbar": {
                            "outlinewidth": 0,
                            "ticks": ""
                          }
                        },
                        "type": "scatter3d"
                      }
                    ],
                    "scattercarpet": [
                      {
                        "marker": {
                          "colorbar": {
                            "outlinewidth": 0,
                            "ticks": ""
                          }
                        },
                        "type": "scattercarpet"
                      }
                    ],
                    "scattergeo": [
                      {
                        "marker": {
                          "colorbar": {
                            "outlinewidth": 0,
                            "ticks": ""
                          }
                        },
                        "type": "scattergeo"
                      }
                    ],
                    "scattergl": [
                      {
                        "marker": {
                          "colorbar": {
                            "outlinewidth": 0,
                            "ticks": ""
                          }
                        },
                        "type": "scattergl"
                      }
                    ],
                    "scattermapbox": [
                      {
                        "marker": {
                          "colorbar": {
                            "outlinewidth": 0,
                            "ticks": ""
                          }
                        },
                        "type": "scattermapbox"
                      }
                    ],
                    "scatterpolar": [
                      {
                        "marker": {
                          "colorbar": {
                            "outlinewidth": 0,
                            "ticks": ""
                          }
                        },
                        "type": "scatterpolar"
                      }
                    ],
                    "scatterpolargl": [
                      {
                        "marker": {
                          "colorbar": {
                            "outlinewidth": 0,
                            "ticks": ""
                          }
                        },
                        "type": "scatterpolargl"
                      }
                    ],
                    "scatterternary": [
                      {
                        "marker": {
                          "colorbar": {
                            "outlinewidth": 0,
                            "ticks": ""
                          }
                        },
                        "type": "scatterternary"
                      }
                    ],
                    "surface": [
                      {
                        "colorbar": {
                          "outlinewidth": 0,
                          "ticks": ""
                        },
                        "colorscale": [
                          [
                            0,
                            "#0d0887"
                          ],
                          [
                            0.1111111111111111,
                            "#46039f"
                          ],
                          [
                            0.2222222222222222,
                            "#7201a8"
                          ],
                          [
                            0.3333333333333333,
                            "#9c179e"
                          ],
                          [
                            0.4444444444444444,
                            "#bd3786"
                          ],
                          [
                            0.5555555555555556,
                            "#d8576b"
                          ],
                          [
                            0.6666666666666666,
                            "#ed7953"
                          ],
                          [
                            0.7777777777777778,
                            "#fb9f3a"
                          ],
                          [
                            0.8888888888888888,
                            "#fdca26"
                          ],
                          [
                            1,
                            "#f0f921"
                          ]
                        ],
                        "type": "surface"
                      }
                    ],
                    "table": [
                      {
                        "cells": {
                          "fill": {
                            "color": "#EBF0F8"
                          },
                          "line": {
                            "color": "white"
                          }
                        },
                        "header": {
                          "fill": {
                            "color": "#C8D4E3"
                          },
                          "line": {
                            "color": "white"
                          }
                        },
                        "type": "table"
                      }
                    ]
                  },
                  "layout": {
                    "annotationdefaults": {
                      "arrowcolor": "#2a3f5f",
                      "arrowhead": 0,
                      "arrowwidth": 1
                    },
                    "autotypenumbers": "strict",
                    "coloraxis": {
                      "colorbar": {
                        "outlinewidth": 0,
                        "ticks": ""
                      }
                    },
                    "colorscale": {
                      "diverging": [
                        [
                          0,
                          "#8e0152"
                        ],
                        [
                          0.1,
                          "#c51b7d"
                        ],
                        [
                          0.2,
                          "#de77ae"
                        ],
                        [
                          0.3,
                          "#f1b6da"
                        ],
                        [
                          0.4,
                          "#fde0ef"
                        ],
                        [
                          0.5,
                          "#f7f7f7"
                        ],
                        [
                          0.6,
                          "#e6f5d0"
                        ],
                        [
                          0.7,
                          "#b8e186"
                        ],
                        [
                          0.8,
                          "#7fbc41"
                        ],
                        [
                          0.9,
                          "#4d9221"
                        ],
                        [
                          1,
                          "#276419"
                        ]
                      ],
                      "sequential": [
                        [
                          0,
                          "#0d0887"
                        ],
                        [
                          0.1111111111111111,
                          "#46039f"
                        ],
                        [
                          0.2222222222222222,
                          "#7201a8"
                        ],
                        [
                          0.3333333333333333,
                          "#9c179e"
                        ],
                        [
                          0.4444444444444444,
                          "#bd3786"
                        ],
                        [
                          0.5555555555555556,
                          "#d8576b"
                        ],
                        [
                          0.6666666666666666,
                          "#ed7953"
                        ],
                        [
                          0.7777777777777778,
                          "#fb9f3a"
                        ],
                        [
                          0.8888888888888888,
                          "#fdca26"
                        ],
                        [
                          1,
                          "#f0f921"
                        ]
                      ],
                      "sequentialminus": [
                        [
                          0,
                          "#0d0887"
                        ],
                        [
                          0.1111111111111111,
                          "#46039f"
                        ],
                        [
                          0.2222222222222222,
                          "#7201a8"
                        ],
                        [
                          0.3333333333333333,
                          "#9c179e"
                        ],
                        [
                          0.4444444444444444,
                          "#bd3786"
                        ],
                        [
                          0.5555555555555556,
                          "#d8576b"
                        ],
                        [
                          0.6666666666666666,
                          "#ed7953"
                        ],
                        [
                          0.7777777777777778,
                          "#fb9f3a"
                        ],
                        [
                          0.8888888888888888,
                          "#fdca26"
                        ],
                        [
                          1,
                          "#f0f921"
                        ]
                      ]
                    },
                    "colorway": [
                      "#636efa",
                      "#EF553B",
                      "#00cc96",
                      "#ab63fa",
                      "#FFA15A",
                      "#19d3f3",
                      "#FF6692",
                      "#B6E880",
                      "#FF97FF",
                      "#FECB52"
                    ],
                    "font": {
                      "color": "#2a3f5f"
                    },
                    "geo": {
                      "bgcolor": "white",
                      "lakecolor": "white",
                      "landcolor": "#E5ECF6",
                      "showlakes": true,
                      "showland": true,
                      "subunitcolor": "white"
                    },
                    "hoverlabel": {
                      "align": "left"
                    },
                    "hovermode": "closest",
                    "mapbox": {
                      "style": "light"
                    },
                    "paper_bgcolor": "white",
                    "plot_bgcolor": "#E5ECF6",
                    "polar": {
                      "angularaxis": {
                        "gridcolor": "white",
                        "linecolor": "white",
                        "ticks": ""
                      },
                      "bgcolor": "#E5ECF6",
                      "radialaxis": {
                        "gridcolor": "white",
                        "linecolor": "white",
                        "ticks": ""
                      }
                    },
                    "scene": {
                      "xaxis": {
                        "backgroundcolor": "#E5ECF6",
                        "gridcolor": "white",
                        "gridwidth": 2,
                        "linecolor": "white",
                        "showbackground": true,
                        "ticks": "",
                        "zerolinecolor": "white"
                      },
                      "yaxis": {
                        "backgroundcolor": "#E5ECF6",
                        "gridcolor": "white",
                        "gridwidth": 2,
                        "linecolor": "white",
                        "showbackground": true,
                        "ticks": "",
                        "zerolinecolor": "white"
                      },
                      "zaxis": {
                        "backgroundcolor": "#E5ECF6",
                        "gridcolor": "white",
                        "gridwidth": 2,
                        "linecolor": "white",
                        "showbackground": true,
                        "ticks": "",
                        "zerolinecolor": "white"
                      }
                    },
                    "shapedefaults": {
                      "line": {
                        "color": "#2a3f5f"
                      }
                    },
                    "ternary": {
                      "aaxis": {
                        "gridcolor": "white",
                        "linecolor": "white",
                        "ticks": ""
                      },
                      "baxis": {
                        "gridcolor": "white",
                        "linecolor": "white",
                        "ticks": ""
                      },
                      "bgcolor": "#E5ECF6",
                      "caxis": {
                        "gridcolor": "white",
                        "linecolor": "white",
                        "ticks": ""
                      }
                    },
                    "title": {
                      "x": 0.05
                    },
                    "xaxis": {
                      "automargin": true,
                      "gridcolor": "white",
                      "linecolor": "white",
                      "ticks": "",
                      "title": {
                        "standoff": 15
                      },
                      "zerolinecolor": "white",
                      "zerolinewidth": 2
                    },
                    "yaxis": {
                      "automargin": true,
                      "gridcolor": "white",
                      "linecolor": "white",
                      "ticks": "",
                      "title": {
                        "standoff": 15
                      },
                      "zerolinecolor": "white",
                      "zerolinewidth": 2
                    }
                  }
                },
                "title": {
                  "text": "Change in logit diff when ablating L6 SAE features for all prompts at pos 10"
                },
                "xaxis": {
                  "anchor": "y",
                  "constrain": "domain",
                  "domain": [
                    0,
                    1
                  ],
                  "scaleanchor": "y",
                  "title": {
                    "text": "Feature Id"
                  }
                },
                "yaxis": {
                  "anchor": "x",
                  "autorange": "reversed",
                  "constrain": "domain",
                  "domain": [
                    0,
                    1
                  ],
                  "title": {
                    "text": "Prompt"
                  }
                }
              }
            }
          },
          "metadata": {},
          "output_type": "display_data"
        }
      ],
      "source": [
        "fig = px.imshow(\n",
        "    causal_effects.detach().cpu(),\n",
        "    title=f\"Change in logit diff when ablating L{abl_layer} SAE features for all prompts at pos {abl_pos}\",\n",
        "    x=list(map(str, all_live_features.tolist())),\n",
        "    color_continuous_midpoint=0,\n",
        "    color_continuous_scale=\"RdBu\",\n",
        ")\n",
        "\n",
        "# label x and y axis \n",
        "fig.update_xaxes(title_text='Feature Id')\n",
        "fig.update_yaxes(title_text='Prompt')\n",
        "fig.show()"
      ]
    },
    {
      "cell_type": "markdown",
      "metadata": {
        "id": "fdzafB7yviiF"
      },
      "source": [
        "# NOTE: Path Patching Section removed for now. "
      ]
    },
    {
      "cell_type": "markdown",
      "metadata": {
        "id": "IO4cIOFOviiG"
      },
      "source": [
        "# Error Nodes"
      ]
    },
    {
      "cell_type": "markdown",
      "metadata": {
        "id": "qeHKVO3OviiG"
      },
      "source": [
        "Recent exciting work from [Marks et al.](https://arxiv.org/abs/2403.19647v2) demonstrated the use of \"error nodes\" in SAE circuit analysis. The idea is that for some input activation x, SAE(x) = x_reconstruct is an approximation of x, but we can write x = x_reconstruct + error_term.\n",
        "\n",
        "This seems useful: instead of replacing x with x_reconstruct, which might break everything and make our circuit analysis janky, we can just re-write x as a function of the SAE features, bias, and error term, which gives us access to all of the SAE features but without breaking performance.\n",
        "\n",
        "Additionally, we can compare interventions on SAE features to the same intervention on the error term to get a better sense of how much the SAE features have actually captured.\n",
        "\n",
        "To use error terms with HookedSAEs, you can set `hooked_sae.cfg.use_error_term = True`, or initialize it to True in the config. Note HookedSAEConfig current sets this to False by default."
      ]
    },
    {
      "cell_type": "code",
      "execution_count": 22,
      "metadata": {
        "id": "_ssH0Cc5viiG",
        "outputId": "972bd416-6672-45b5-d724-ee05663d1197"
      },
      "outputs": [
        {
          "name": "stdout",
          "output_type": "stream",
          "text": [
            "False\n",
            "True\n"
          ]
        }
      ],
      "source": [
        "model.turn_saes_off()\n",
        "layers = [6]\n",
        "act_names = [utils.get_act_name('resid_pre', layer) for layer in layers]\n",
        "for act_name in act_names:\n",
        "    print(model.acts_to_saes[act_name].use_error_term)\n",
        "    model.acts_to_saes[act_name].use_error_term = True\n",
        "    print(model.acts_to_saes[act_name].use_error_term)"
      ]
    },
    {
      "cell_type": "markdown",
      "metadata": {
        "id": "vuOxAqZLviiG"
      },
      "source": [
        "Now the output of each attached SAE will be SAE(x) + error_term = x. We can sanity check this by confirming that running with SAEs produces the same logits without SAEs."
      ]
    },
    {
      "cell_type": "code",
      "execution_count": 23,
      "metadata": {
        "id": "hAj89oLyviiG"
      },
      "outputs": [],
      "source": [
        "logits_with_saes, cache = model.run_with_cache_with_saes(tokens, act_names=act_names)\n",
        "logit_diff_with_saes = logits_to_ave_logit_diff(logits_with_saes, answer_tokens)\n",
        "assert torch.allclose(logits_with_saes, original_logits, atol=1e-4), \"Logits should be the same as the original\"\n",
        "assert 'blocks.6.hook_resid_pre.hook_sae_acts_post' in cache.keys(), \"The hook should be in the cache since we ran with the SAE\""
      ]
    },
    {
      "cell_type": "markdown",
      "metadata": {
        "id": "2fVtLS-NviiG"
      },
      "source": [
        "Now we can compare ablations of each feature to ablating the error node. We'll start by ablating each feature on each prompt, and then the error nodes. We'll append the effects from ablating error nodes to the rightmost column on the heatmap:"
      ]
    },
    {
      "cell_type": "code",
      "execution_count": 24,
      "metadata": {},
      "outputs": [
        {
          "data": {
            "text/plain": [
              "{'blocks.7.hook_resid_pre': False,\n",
              " 'blocks.0.hook_resid_pre': False,\n",
              " 'blocks.1.hook_resid_pre': False,\n",
              " 'blocks.2.hook_resid_pre': False,\n",
              " 'blocks.3.hook_resid_pre': False,\n",
              " 'blocks.4.hook_resid_pre': False,\n",
              " 'blocks.5.hook_resid_pre': False,\n",
              " 'blocks.6.hook_resid_pre': False,\n",
              " 'blocks.8.hook_resid_pre': False,\n",
              " 'blocks.9.hook_resid_pre': False,\n",
              " 'blocks.10.hook_resid_pre': False,\n",
              " 'blocks.11.hook_resid_pre': False,\n",
              " 'blocks.11.hook_resid_post': False}"
            ]
          },
          "execution_count": 24,
          "metadata": {},
          "output_type": "execute_result"
        }
      ],
      "source": [
        "model.get_saes_status()"
      ]
    },
    {
      "cell_type": "code",
      "execution_count": 25,
      "metadata": {
        "id": "M0e0aKFnviiG",
        "outputId": "519a3884-c4b6-4656-efcd-c03fa797a891"
      },
      "outputs": [
        {
          "name": "stderr",
          "output_type": "stream",
          "text": [
            "  0%|          | 0/151 [00:00<?, ?it/s]"
          ]
        },
        {
          "name": "stderr",
          "output_type": "stream",
          "text": [
            "100%|██████████| 151/151 [00:08<00:00, 18.55it/s]\n"
          ]
        }
      ],
      "source": [
        "def ablate_sae_feature(sae_acts, hook, pos, feature_id):\n",
        "    if pos is None:\n",
        "        sae_acts[:, :, feature_id] = 0.\n",
        "    else:\n",
        "        sae_acts[:, pos, feature_id] = 0.\n",
        "    return sae_acts\n",
        "\n",
        "layer = 6\n",
        "act_name = utils.get_act_name('resid_pre', layer)\n",
        "model.acts_to_saes[act_name].use_error_term = True\n",
        "hooked_encoder = model.acts_to_saes[act_name]\n",
        "all_live_features = torch.arange(hooked_encoder.cfg.d_sae)[live_feature_union.cpu()]\n",
        "model.turn_saes_on([act_name])\n",
        "\n",
        "causal_effects = torch.zeros((len(prompts), all_live_features.shape[0]))\n",
        "fid_to_idx = {fid.item(): idx for idx, fid in enumerate(all_live_features)}\n",
        "\n",
        "abl_layer, abl_pos  = 6, 10\n",
        "for feature_id in tqdm(all_live_features):\n",
        "    feature_id = feature_id.item()\n",
        "    abl_feature_logits = model.run_with_hooks(\n",
        "        tokens,\n",
        "        return_type=\"logits\",\n",
        "        fwd_hooks=[(utils.get_act_name('resid_pre', abl_layer) + \".hook_sae_acts_post\", partial(ablate_sae_feature, pos=abl_pos, feature_id=feature_id))]\n",
        "    ) # [batch, seq, vocab]\n",
        "\n",
        "    abl_feature_logit_diff = logits_to_ave_logit_diff(abl_feature_logits, answer_tokens, per_prompt=True) # [batch]\n",
        "    causal_effects[:, fid_to_idx[feature_id]] = abl_feature_logit_diff - original_per_prompt_logit_diff\n",
        "\n",
        "def able_sae_error(sae_error, hook, pos):\n",
        "    if pos is None:\n",
        "        sae_error = 0.\n",
        "    else:\n",
        "        sae_error[:, pos, ...] = 0.\n",
        "    return sae_error\n",
        "\n",
        "\n",
        "abl_error_logits = model.run_with_hooks(\n",
        "    tokens,\n",
        "    return_type=\"logits\",\n",
        "    fwd_hooks=[(utils.get_act_name('resid_pre', abl_layer) + \".hook_sae_error\", partial(able_sae_error, pos=abl_pos))]\n",
        ") # [batch, seq, vocab]\n",
        "\n",
        "abl_error_logit_diff = logits_to_ave_logit_diff(abl_error_logits, answer_tokens, per_prompt=True) # [batch]\n",
        "error_abl_effect = abl_error_logit_diff - original_per_prompt_logit_diff\n",
        "\n",
        "\n",
        "causal_effects_with_error = torch.cat([causal_effects, error_abl_effect.unsqueeze(-1).cpu()], dim=-1)"
      ]
    },
    {
      "cell_type": "code",
      "execution_count": 26,
      "metadata": {},
      "outputs": [
        {
          "data": {
            "application/vnd.plotly.v1+json": {
              "config": {
                "plotlyServerURL": "https://plotly.com"
              },
              "data": [
                {
                  "coloraxis": "coloraxis",
                  "hovertemplate": "Feature Idx: %{x}<br>Prompt Idx: %{y}<br>color: %{z}<extra></extra>",
                  "name": "0",
                  "type": "heatmap",
                  "x": [
                    "176",
                    "502",
                    "523",
                    "700",
                    "1309",
                    "1468",
                    "1634",
                    "1648",
                    "1691",
                    "1750",
                    "1756",
                    "1971",
                    "2125",
                    "2264",
                    "2552",
                    "2582",
                    "2902",
                    "3458",
                    "3639",
                    "3658",
                    "3693",
                    "3804",
                    "3948",
                    "4265",
                    "4456",
                    "4504",
                    "4752",
                    "4754",
                    "4819",
                    "5074",
                    "5160",
                    "5248",
                    "5271",
                    "5384",
                    "5658",
                    "5762",
                    "5971",
                    "6268",
                    "6421",
                    "6547",
                    "6593",
                    "7416",
                    "7539",
                    "7545",
                    "7963",
                    "8037",
                    "8109",
                    "8191",
                    "8387",
                    "8662",
                    "8895",
                    "8928",
                    "9119",
                    "9201",
                    "9238",
                    "9291",
                    "9346",
                    "9532",
                    "9821",
                    "9967",
                    "10045",
                    "10237",
                    "10372",
                    "10512",
                    "10524",
                    "10861",
                    "10905",
                    "11071",
                    "11414",
                    "11513",
                    "11549",
                    "11692",
                    "12128",
                    "12419",
                    "12528",
                    "12691",
                    "12736",
                    "12832",
                    "13066",
                    "13069",
                    "13089",
                    "13265",
                    "13403",
                    "13758",
                    "13838",
                    "13841",
                    "13921",
                    "14023",
                    "14171",
                    "14271",
                    "14485",
                    "14548",
                    "14603",
                    "14744",
                    "14910",
                    "15087",
                    "15194",
                    "15372",
                    "15376",
                    "15413",
                    "15561",
                    "16346",
                    "16381",
                    "16383",
                    "16504",
                    "16683",
                    "16758",
                    "16878",
                    "17081",
                    "17282",
                    "17462",
                    "17941",
                    "18157",
                    "18197",
                    "18335",
                    "18342",
                    "18425",
                    "18525",
                    "18547",
                    "18621",
                    "18801",
                    "18863",
                    "19133",
                    "19888",
                    "20122",
                    "20331",
                    "20714",
                    "20957",
                    "21105",
                    "21189",
                    "21514",
                    "21631",
                    "21732",
                    "21891",
                    "21974",
                    "22037",
                    "22088",
                    "22301",
                    "22371",
                    "22387",
                    "22395",
                    "22464",
                    "22520",
                    "23175",
                    "23301",
                    "23363",
                    "23691",
                    "23817",
                    "23964",
                    "24179",
                    "24373",
                    "error"
                  ],
                  "xaxis": "x",
                  "yaxis": "y",
                  "z": [
                    [
                      0.000003814697265625,
                      0.000003814697265625,
                      0.000003814697265625,
                      0.06219196319580078,
                      0.000003814697265625,
                      0.000003814697265625,
                      0.18638324737548828,
                      -0.002384185791015625,
                      0.000003814697265625,
                      0.000003814697265625,
                      0.4629383087158203,
                      0.000003814697265625,
                      0.000003814697265625,
                      0.02152252197265625,
                      -0.0006532669067382812,
                      0.000003814697265625,
                      0.000003814697265625,
                      0.000003814697265625,
                      0.48917484283447266,
                      0.009825706481933594,
                      0.4491910934448242,
                      -0.010259628295898438,
                      0.000003814697265625,
                      0.000003814697265625,
                      0.000003814697265625,
                      0.000003814697265625,
                      0.000003814697265625,
                      0.000003814697265625,
                      0.000003814697265625,
                      0.000003814697265625,
                      0.000003814697265625,
                      0.12126445770263672,
                      0.000003814697265625,
                      0.000003814697265625,
                      0.000003814697265625,
                      0.000003814697265625,
                      0.000003814697265625,
                      0.016615867614746094,
                      0.000003814697265625,
                      0.03840446472167969,
                      0.000003814697265625,
                      0.000003814697265625,
                      0.000003814697265625,
                      0.000003814697265625,
                      0.000003814697265625,
                      0.000003814697265625,
                      0.000003814697265625,
                      0.000003814697265625,
                      -0.0342864990234375,
                      0.000003814697265625,
                      0.000003814697265625,
                      -1.0834932327270508,
                      0.02311420440673828,
                      0.1613779067993164,
                      0.000003814697265625,
                      0.000003814697265625,
                      0.000003814697265625,
                      -0.13176727294921875,
                      -0.37799549102783203,
                      0.000003814697265625,
                      0.1570892333984375,
                      -0.45723819732666016,
                      0.000003814697265625,
                      0.13063621520996094,
                      0.000003814697265625,
                      0.000003814697265625,
                      -0.025300025939941406,
                      -0.021450042724609375,
                      0.000003814697265625,
                      0.000003814697265625,
                      0.000003814697265625,
                      0.000003814697265625,
                      0.185760498046875,
                      0.000003814697265625,
                      0.000003814697265625,
                      -0.9867677688598633,
                      0.15603256225585938,
                      0.000003814697265625,
                      -0.12619972229003906,
                      0.000003814697265625,
                      0.000003814697265625,
                      0.024396896362304688,
                      -0.060009002685546875,
                      0.1433238983154297,
                      0.056613922119140625,
                      -0.03995513916015625,
                      0.000003814697265625,
                      0.3011808395385742,
                      0.1862964630126953,
                      0.000003814697265625,
                      0.000003814697265625,
                      -0.043422698974609375,
                      0.000003814697265625,
                      -0.0439910888671875,
                      0.000003814697265625,
                      0.0076427459716796875,
                      0.000003814697265625,
                      0.07160472869873047,
                      0.023023605346679688,
                      0.1076364517211914,
                      0.000003814697265625,
                      0.000003814697265625,
                      0.000003814697265625,
                      0.2919578552246094,
                      0.000003814697265625,
                      0.000003814697265625,
                      0.000003814697265625,
                      0.000003814697265625,
                      0.000003814697265625,
                      0.000003814697265625,
                      0.000003814697265625,
                      0.000003814697265625,
                      0.000003814697265625,
                      0.05567741394042969,
                      0.000003814697265625,
                      0.000003814697265625,
                      0.000003814697265625,
                      0.000003814697265625,
                      0.015536308288574219,
                      0.19452953338623047,
                      -0.046268463134765625,
                      0.00144195556640625,
                      0.000003814697265625,
                      0.000003814697265625,
                      0.000003814697265625,
                      0.000003814697265625,
                      0.000003814697265625,
                      0.11237239837646484,
                      0.000003814697265625,
                      0.000003814697265625,
                      0.000003814697265625,
                      0.008963584899902344,
                      0.000003814697265625,
                      0.09052658081054688,
                      0.000003814697265625,
                      0.000003814697265625,
                      0.000003814697265625,
                      0.03756904602050781,
                      0.000003814697265625,
                      -0.009874343872070312,
                      0.2938556671142578,
                      0.000003814697265625,
                      0.018228530883789062,
                      0.000003814697265625,
                      -0.017955780029296875,
                      0.010313034057617188,
                      0.000003814697265625,
                      0.000003814697265625,
                      0.000003814697265625,
                      0.000003814697265625,
                      0.000003814697265625,
                      -0.6588516235351562
                    ],
                    [
                      0.00000762939453125,
                      0.00000762939453125,
                      0.00000762939453125,
                      -0.02685546875,
                      0.00000762939453125,
                      -0.16701507568359375,
                      0.15632057189941406,
                      0.011854171752929688,
                      0.00000762939453125,
                      0.00000762939453125,
                      0.6089706420898438,
                      0.00000762939453125,
                      0.00000762939453125,
                      0.00000762939453125,
                      0.00000762939453125,
                      0.00000762939453125,
                      0.00000762939453125,
                      0.00000762939453125,
                      0.2545433044433594,
                      0.00000762939453125,
                      0.40605926513671875,
                      0.035953521728515625,
                      0.00000762939453125,
                      0.00000762939453125,
                      0.00000762939453125,
                      0.00000762939453125,
                      0.09966659545898438,
                      0.012540817260742188,
                      0.00000762939453125,
                      0.00000762939453125,
                      0.00000762939453125,
                      0.058811187744140625,
                      0.00000762939453125,
                      0.00000762939453125,
                      0.00000762939453125,
                      0.00000762939453125,
                      0.00000762939453125,
                      0.08737754821777344,
                      0.00000762939453125,
                      0.00000762939453125,
                      0.00000762939453125,
                      0.00000762939453125,
                      0.00000762939453125,
                      0.00000762939453125,
                      0.00000762939453125,
                      0.00000762939453125,
                      0.00000762939453125,
                      0.00000762939453125,
                      0.03859710693359375,
                      0.00000762939453125,
                      0.00000762939453125,
                      0.00000762939453125,
                      0.15721511840820312,
                      0.019147872924804688,
                      0.00000762939453125,
                      0.00000762939453125,
                      0.00000762939453125,
                      -0.1321735382080078,
                      -0.03897666931152344,
                      0.00000762939453125,
                      0.00000762939453125,
                      -0.2582378387451172,
                      0.00000762939453125,
                      0.028417587280273438,
                      0.00000762939453125,
                      0.00000762939453125,
                      -0.025760650634765625,
                      -0.001415252685546875,
                      0.00000762939453125,
                      0.00000762939453125,
                      0.00000762939453125,
                      0.00000762939453125,
                      0.04844474792480469,
                      0.00000762939453125,
                      -0.00380706787109375,
                      0.0984039306640625,
                      0.00000762939453125,
                      0.00000762939453125,
                      0.00000762939453125,
                      0.00000762939453125,
                      -2.5627365112304688,
                      0.03494834899902344,
                      -0.10680389404296875,
                      0.00000762939453125,
                      0.06961822509765625,
                      0.00000762939453125,
                      0.00000762939453125,
                      0.4580879211425781,
                      0.06684684753417969,
                      0.00000762939453125,
                      0.00000762939453125,
                      0.00000762939453125,
                      0.00000762939453125,
                      0.00000762939453125,
                      0.00000762939453125,
                      0.000286102294921875,
                      0.00000762939453125,
                      0.026628494262695312,
                      0.00000762939453125,
                      0.12370109558105469,
                      0.0062007904052734375,
                      0.00000762939453125,
                      0.00000762939453125,
                      0.2528362274169922,
                      0.00000762939453125,
                      0.00000762939453125,
                      0.016103744506835938,
                      0.00000762939453125,
                      0.008884429931640625,
                      -0.06573867797851562,
                      0.00000762939453125,
                      0.00000762939453125,
                      0.00000762939453125,
                      0.12064743041992188,
                      0.00000762939453125,
                      -0.04632759094238281,
                      0.00000762939453125,
                      0.00000762939453125,
                      0.00000762939453125,
                      0.20085716247558594,
                      0.009120941162109375,
                      0.00000762939453125,
                      0.00000762939453125,
                      0.00000762939453125,
                      0.00000762939453125,
                      0.00000762939453125,
                      0.00000762939453125,
                      0.10132217407226562,
                      0.00000762939453125,
                      0.00000762939453125,
                      0.00000762939453125,
                      0.013126373291015625,
                      0.00000762939453125,
                      0.09702110290527344,
                      0.00000762939453125,
                      0.00000762939453125,
                      0.00000762939453125,
                      0.00368499755859375,
                      0.00000762939453125,
                      0.00000762939453125,
                      0.041721343994140625,
                      -0.23358535766601562,
                      0.00000762939453125,
                      0.00000762939453125,
                      0.00000762939453125,
                      0.0028533935546875,
                      0.00000762939453125,
                      -0.08920097351074219,
                      0.00000762939453125,
                      0.00000762939453125,
                      0.00000762939453125,
                      -0.583221435546875
                    ],
                    [
                      0.0000019073486328125,
                      0.04628467559814453,
                      -0.004860877990722656,
                      0.0000019073486328125,
                      0.0000019073486328125,
                      -0.007544517517089844,
                      0.11227798461914062,
                      0.01680755615234375,
                      0.0000019073486328125,
                      0.0000019073486328125,
                      0.6189231872558594,
                      0.0000019073486328125,
                      0.0000019073486328125,
                      0.0000019073486328125,
                      0.0000019073486328125,
                      0.0000019073486328125,
                      0.0000019073486328125,
                      0.0000019073486328125,
                      0.12444686889648438,
                      0.0000019073486328125,
                      0.26934814453125,
                      0.012610435485839844,
                      -0.03045368194580078,
                      0.0000019073486328125,
                      0.0000019073486328125,
                      -0.022089004516601562,
                      0.0000019073486328125,
                      0.0000019073486328125,
                      0.0000019073486328125,
                      0.0000019073486328125,
                      0.0000019073486328125,
                      0.18587112426757812,
                      0.0000019073486328125,
                      0.0000019073486328125,
                      0.0000019073486328125,
                      0.0000019073486328125,
                      -0.036993980407714844,
                      0.08655452728271484,
                      0.0000019073486328125,
                      0.043801307678222656,
                      0.0000019073486328125,
                      0.0000019073486328125,
                      0.0000019073486328125,
                      0.0000019073486328125,
                      -0.027482032775878906,
                      0.0000019073486328125,
                      0.0000019073486328125,
                      0.0000019073486328125,
                      -0.0196380615234375,
                      0.0000019073486328125,
                      0.0000019073486328125,
                      0.0000019073486328125,
                      0.1364574432373047,
                      0.09352397918701172,
                      0.07212257385253906,
                      0.0000019073486328125,
                      0.0000019073486328125,
                      -0.07371330261230469,
                      -0.7202577590942383,
                      0.0000019073486328125,
                      0.10539054870605469,
                      -0.8295040130615234,
                      0.0000019073486328125,
                      0.07479476928710938,
                      0.0000019073486328125,
                      -0.0014448165893554688,
                      -0.012427330017089844,
                      -0.005169868469238281,
                      0.0000019073486328125,
                      0.0000019073486328125,
                      0.0000019073486328125,
                      -0.0027942657470703125,
                      0.37263011932373047,
                      0.0000019073486328125,
                      0.0000019073486328125,
                      -1.686777114868164,
                      0.0000019073486328125,
                      0.0000019073486328125,
                      0.0000019073486328125,
                      0.0000019073486328125,
                      0.0000019073486328125,
                      0.0000019073486328125,
                      -0.09201240539550781,
                      0.05781269073486328,
                      0.24144840240478516,
                      -0.0018510818481445312,
                      0.0000019073486328125,
                      0.5469264984130859,
                      -0.023087501525878906,
                      0.11675643920898438,
                      0.0000019073486328125,
                      0.0000019073486328125,
                      0.0000019073486328125,
                      0.0000019073486328125,
                      0.0000019073486328125,
                      0.0000019073486328125,
                      0.0000019073486328125,
                      0.2538738250732422,
                      0.0064029693603515625,
                      0.07348918914794922,
                      0.0000019073486328125,
                      0.10746383666992188,
                      0.006592750549316406,
                      0.1578216552734375,
                      0.0000019073486328125,
                      0.0000019073486328125,
                      0.07730293273925781,
                      0.0000019073486328125,
                      0.0000019073486328125,
                      0.0000019073486328125,
                      0.0045318603515625,
                      0.0000019073486328125,
                      0.0000019073486328125,
                      0.0000019073486328125,
                      0.0000019073486328125,
                      0.0000019073486328125,
                      0.0000019073486328125,
                      0.0000019073486328125,
                      0.0000019073486328125,
                      0.15830326080322266,
                      -0.0072689056396484375,
                      0.0000019073486328125,
                      0.0000019073486328125,
                      0.0000019073486328125,
                      0.000301361083984375,
                      0.0000019073486328125,
                      0.2461376190185547,
                      0.20286941528320312,
                      0.0000019073486328125,
                      0.0000019073486328125,
                      0.0000019073486328125,
                      0.14667987823486328,
                      0.0000019073486328125,
                      0.20287799835205078,
                      0.0000019073486328125,
                      0.0000019073486328125,
                      0.0000019073486328125,
                      0.0000019073486328125,
                      0.0000019073486328125,
                      -0.06650447845458984,
                      0.02658557891845703,
                      0.0000019073486328125,
                      0.0000019073486328125,
                      -0.0043468475341796875,
                      -0.10391807556152344,
                      -0.005864143371582031,
                      0.0000019073486328125,
                      0.0000019073486328125,
                      0.0000019073486328125,
                      0.0000019073486328125,
                      0.07328414916992188,
                      -1.041398048400879
                    ],
                    [
                      -0.0000019073486328125,
                      0.01802539825439453,
                      -0.0000019073486328125,
                      -0.0000019073486328125,
                      -0.0000019073486328125,
                      -0.0000019073486328125,
                      0.045304298400878906,
                      -0.0000019073486328125,
                      -0.0000019073486328125,
                      -0.0000019073486328125,
                      0.46239471435546875,
                      -0.0000019073486328125,
                      -0.0000019073486328125,
                      -0.0000019073486328125,
                      -0.0000019073486328125,
                      -0.0000019073486328125,
                      -0.0000019073486328125,
                      -0.0000019073486328125,
                      0.2299642562866211,
                      -0.0000019073486328125,
                      0.36560630798339844,
                      0.022719383239746094,
                      -0.0000019073486328125,
                      -0.0000019073486328125,
                      -0.0000019073486328125,
                      -0.0000019073486328125,
                      -0.0000019073486328125,
                      -0.0000019073486328125,
                      -0.0000019073486328125,
                      -0.0000019073486328125,
                      -0.0000019073486328125,
                      -0.0000019073486328125,
                      -0.0000019073486328125,
                      -0.0000019073486328125,
                      -0.0000019073486328125,
                      -0.0000019073486328125,
                      -0.0000019073486328125,
                      0.1878070831298828,
                      -0.0000019073486328125,
                      -0.0000019073486328125,
                      0.03290748596191406,
                      -0.0000019073486328125,
                      -0.0000019073486328125,
                      -0.0000019073486328125,
                      -0.04579639434814453,
                      -2.5043554306030273,
                      -0.0000019073486328125,
                      -0.0000019073486328125,
                      -0.0000019073486328125,
                      -0.0000019073486328125,
                      -0.0000019073486328125,
                      -0.0000019073486328125,
                      -0.0000019073486328125,
                      -0.0000019073486328125,
                      -0.0000019073486328125,
                      -0.0000019073486328125,
                      -0.0000019073486328125,
                      -0.1492757797241211,
                      0.20794963836669922,
                      -0.0000019073486328125,
                      -0.0000019073486328125,
                      -0.4420480728149414,
                      -0.0000019073486328125,
                      -0.0000019073486328125,
                      -0.0000019073486328125,
                      -0.0000019073486328125,
                      -0.036357879638671875,
                      -0.0000019073486328125,
                      -0.0000019073486328125,
                      -0.0010280609130859375,
                      -0.0000019073486328125,
                      -0.0000019073486328125,
                      0.08220386505126953,
                      -0.0000019073486328125,
                      -0.0000019073486328125,
                      -0.0000019073486328125,
                      -0.0000019073486328125,
                      -0.0000019073486328125,
                      -0.0000019073486328125,
                      -0.0000019073486328125,
                      -0.0000019073486328125,
                      -0.0000019073486328125,
                      -0.06905746459960938,
                      -0.0000019073486328125,
                      -0.0000019073486328125,
                      -0.013476371765136719,
                      -0.0000019073486328125,
                      0.3585329055786133,
                      0.1654987335205078,
                      0.06252098083496094,
                      -0.0000019073486328125,
                      -0.0000019073486328125,
                      -0.0000019073486328125,
                      -0.09265804290771484,
                      -0.0000019073486328125,
                      -0.0000019073486328125,
                      -0.0000019073486328125,
                      0.08502769470214844,
                      -0.0000019073486328125,
                      -0.0000019073486328125,
                      -0.0000019073486328125,
                      -0.0000019073486328125,
                      -0.0000019073486328125,
                      -0.0000019073486328125,
                      -0.0000019073486328125,
                      -0.0000019073486328125,
                      0.13251304626464844,
                      -0.0000019073486328125,
                      -0.0000019073486328125,
                      -0.10399723052978516,
                      -0.0000019073486328125,
                      -0.0000019073486328125,
                      -0.0000019073486328125,
                      -0.0000019073486328125,
                      -0.0000019073486328125,
                      -0.013325691223144531,
                      -0.0000019073486328125,
                      -0.0000019073486328125,
                      -0.0000019073486328125,
                      0.16429615020751953,
                      -0.0000019073486328125,
                      -0.0000019073486328125,
                      -0.0000019073486328125,
                      -0.0000019073486328125,
                      -0.0000019073486328125,
                      -0.0000019073486328125,
                      -0.0000019073486328125,
                      -0.0000019073486328125,
                      -0.0000019073486328125,
                      -0.0000019073486328125,
                      -0.0000019073486328125,
                      0.13036537170410156,
                      -0.0000019073486328125,
                      0.19038677215576172,
                      -0.0000019073486328125,
                      0.017185211181640625,
                      -0.0000019073486328125,
                      0.009409904479980469,
                      -0.0000019073486328125,
                      -0.022335052490234375,
                      -0.0000019073486328125,
                      -0.5751352310180664,
                      -0.0000019073486328125,
                      -0.0000019073486328125,
                      -0.0000019073486328125,
                      0.0015497207641601562,
                      -0.0000019073486328125,
                      -0.0818939208984375,
                      -0.02527904510498047,
                      -0.0000019073486328125,
                      -0.0000019073486328125,
                      0.2713794708251953
                    ],
                    [
                      -0.1460428237915039,
                      -0.0000019073486328125,
                      -0.009538650512695312,
                      -0.0000019073486328125,
                      -0.0000019073486328125,
                      -0.0000019073486328125,
                      0.32062244415283203,
                      -0.0000019073486328125,
                      -0.0000019073486328125,
                      -0.0018138885498046875,
                      0.5917558670043945,
                      -0.05107402801513672,
                      -0.0000019073486328125,
                      -0.0000019073486328125,
                      -0.0000019073486328125,
                      -0.01882171630859375,
                      -0.012936592102050781,
                      -0.008539199829101562,
                      0.33266448974609375,
                      -0.0000019073486328125,
                      0.39891624450683594,
                      -0.0000019073486328125,
                      -0.0000019073486328125,
                      -0.0006113052368164062,
                      -0.0000019073486328125,
                      -0.0000019073486328125,
                      -0.0000019073486328125,
                      -0.0000019073486328125,
                      -0.0005273818969726562,
                      -0.001354217529296875,
                      -0.0000019073486328125,
                      0.11136722564697266,
                      -0.0000019073486328125,
                      -0.0000019073486328125,
                      -0.0000019073486328125,
                      -0.09599781036376953,
                      -0.0000019073486328125,
                      0.3288078308105469,
                      -0.0000019073486328125,
                      0.0007619857788085938,
                      -0.0000019073486328125,
                      -0.0000019073486328125,
                      -0.09167766571044922,
                      -0.0000019073486328125,
                      -0.0000019073486328125,
                      -0.0000019073486328125,
                      -0.1165456771850586,
                      0.08430767059326172,
                      -0.0000019073486328125,
                      -0.0000019073486328125,
                      -0.07518386840820312,
                      -0.0000019073486328125,
                      0.10505962371826172,
                      -0.0000019073486328125,
                      -0.0000019073486328125,
                      -0.0200347900390625,
                      -0.0000019073486328125,
                      -0.10428333282470703,
                      -0.7361412048339844,
                      -0.0000019073486328125,
                      -0.0000019073486328125,
                      -0.7259578704833984,
                      -0.0000019073486328125,
                      0.11589717864990234,
                      -0.0000019073486328125,
                      -0.0000019073486328125,
                      -0.0005397796630859375,
                      -0.011551856994628906,
                      -0.22110557556152344,
                      -0.0000019073486328125,
                      -0.0000019073486328125,
                      -0.0000019073486328125,
                      0.36485767364501953,
                      -0.13214492797851562,
                      -0.0000019073486328125,
                      -1.0709028244018555,
                      -0.0000019073486328125,
                      -0.0000019073486328125,
                      -0.0000019073486328125,
                      0.0007829666137695312,
                      -0.0000019073486328125,
                      -0.0000019073486328125,
                      -0.011826515197753906,
                      -0.0000019073486328125,
                      -0.0000019073486328125,
                      0.009185791015625,
                      0.0021429061889648438,
                      0.28792381286621094,
                      -0.012146949768066406,
                      -0.0000019073486328125,
                      -0.0000019073486328125,
                      -0.0000019073486328125,
                      -0.0000019073486328125,
                      -0.0689239501953125,
                      0.0019769668579101562,
                      0.0070018768310546875,
                      -0.0000019073486328125,
                      -0.0000019073486328125,
                      -0.0000019073486328125,
                      0.14781570434570312,
                      -0.0000019073486328125,
                      0.02388477325439453,
                      -0.0000019073486328125,
                      0.34143543243408203,
                      0.0794229507446289,
                      0.0107574462890625,
                      -0.0000019073486328125,
                      -0.10117912292480469,
                      -0.0000019073486328125,
                      -0.0000019073486328125,
                      -0.0000019073486328125,
                      -0.0000019073486328125,
                      0.008723258972167969,
                      -0.0000019073486328125,
                      -0.0102691650390625,
                      -0.0000019073486328125,
                      -0.0000019073486328125,
                      -0.0000019073486328125,
                      -0.0000019073486328125,
                      0.24133968353271484,
                      -0.0000019073486328125,
                      -0.0000019073486328125,
                      0.0033960342407226562,
                      -0.10147857666015625,
                      -0.0000019073486328125,
                      -0.013170242309570312,
                      -0.0000019073486328125,
                      0.12518596649169922,
                      0.00018310546875,
                      -0.01972484588623047,
                      -0.0000019073486328125,
                      -0.0000019073486328125,
                      0.04071331024169922,
                      0.6454524993896484,
                      0.16443729400634766,
                      0.2697792053222656,
                      -0.0021486282348632812,
                      -0.0000019073486328125,
                      -0.0000019073486328125,
                      -0.020877838134765625,
                      -0.0000019073486328125,
                      -0.0000019073486328125,
                      -0.0000019073486328125,
                      -0.0000019073486328125,
                      -0.0000019073486328125,
                      -0.0000019073486328125,
                      -0.0000019073486328125,
                      -0.0000019073486328125,
                      -0.0000019073486328125,
                      -0.005797386169433594,
                      -0.0000019073486328125,
                      0.023825645446777344
                    ],
                    [
                      0.00000476837158203125,
                      0.00000476837158203125,
                      0.00000476837158203125,
                      0.00000476837158203125,
                      0.00000476837158203125,
                      0.00000476837158203125,
                      0.03802204132080078,
                      0.00000476837158203125,
                      0.00000476837158203125,
                      0.00000476837158203125,
                      0.8278303146362305,
                      -0.002376556396484375,
                      0.00000476837158203125,
                      0.00000476837158203125,
                      0.00000476837158203125,
                      0.00000476837158203125,
                      0.00000476837158203125,
                      0.00000476837158203125,
                      0.41495418548583984,
                      0.00000476837158203125,
                      0.463104248046875,
                      0.027510643005371094,
                      0.00000476837158203125,
                      0.00000476837158203125,
                      0.00000476837158203125,
                      0.00000476837158203125,
                      0.00000476837158203125,
                      0.00000476837158203125,
                      0.00000476837158203125,
                      0.00000476837158203125,
                      -0.047715187072753906,
                      0.00000476837158203125,
                      0.00000476837158203125,
                      0.00000476837158203125,
                      -0.013802528381347656,
                      0.00000476837158203125,
                      0.017719268798828125,
                      0.26462841033935547,
                      0.00000476837158203125,
                      0.00000476837158203125,
                      0.00000476837158203125,
                      0.00000476837158203125,
                      0.00000476837158203125,
                      0.00000476837158203125,
                      0.00000476837158203125,
                      0.00000476837158203125,
                      0.00000476837158203125,
                      0.00000476837158203125,
                      0.00000476837158203125,
                      0.00000476837158203125,
                      0.00000476837158203125,
                      0.00000476837158203125,
                      0.08305549621582031,
                      0.00000476837158203125,
                      0.00000476837158203125,
                      0.00000476837158203125,
                      0.00000476837158203125,
                      -0.14006328582763672,
                      0.1502857208251953,
                      0.00000476837158203125,
                      0.00000476837158203125,
                      -0.7184724807739258,
                      0.00000476837158203125,
                      0.058750152587890625,
                      0.00000476837158203125,
                      0.00000476837158203125,
                      -0.1087188720703125,
                      0.00000476837158203125,
                      0.00000476837158203125,
                      -0.011391639709472656,
                      -0.008767127990722656,
                      0.00000476837158203125,
                      0.17744827270507812,
                      0.00000476837158203125,
                      0.00000476837158203125,
                      0.00000476837158203125,
                      0.00000476837158203125,
                      0.00000476837158203125,
                      0.00000476837158203125,
                      0.00000476837158203125,
                      0.00000476837158203125,
                      0.00000476837158203125,
                      -0.17568111419677734,
                      0.00000476837158203125,
                      0.0030345916748046875,
                      -0.0840597152709961,
                      0.00000476837158203125,
                      0.5826311111450195,
                      0.11745262145996094,
                      0.14705371856689453,
                      0.00000476837158203125,
                      0.00000476837158203125,
                      0.00000476837158203125,
                      -0.12376022338867188,
                      0.00000476837158203125,
                      0.00000476837158203125,
                      -0.027660369873046875,
                      0.00000476837158203125,
                      0.00000476837158203125,
                      0.00000476837158203125,
                      0.00000476837158203125,
                      0.00000476837158203125,
                      0.00000476837158203125,
                      0.2689495086669922,
                      0.00000476837158203125,
                      0.00000476837158203125,
                      0.1106119155883789,
                      0.00000476837158203125,
                      0.00000476837158203125,
                      -0.22202205657958984,
                      0.00000476837158203125,
                      0.00000476837158203125,
                      0.00000476837158203125,
                      0.00000476837158203125,
                      0.00000476837158203125,
                      -0.007596015930175781,
                      0.00000476837158203125,
                      0.00000476837158203125,
                      0.00000476837158203125,
                      0.19268417358398438,
                      0.00000476837158203125,
                      0.00000476837158203125,
                      0.00000476837158203125,
                      -0.28527259826660156,
                      0.00000476837158203125,
                      0.00000476837158203125,
                      0.00000476837158203125,
                      0.0608062744140625,
                      0.00000476837158203125,
                      0.00000476837158203125,
                      -1.8821439743041992,
                      0.00000476837158203125,
                      0.00000476837158203125,
                      0.2927827835083008,
                      0.00000476837158203125,
                      0.00000476837158203125,
                      0.00000476837158203125,
                      0.00000476837158203125,
                      0.00000476837158203125,
                      -0.0008363723754882812,
                      0.00000476837158203125,
                      -0.8450784683227539,
                      0.00000476837158203125,
                      0.00000476837158203125,
                      0.00000476837158203125,
                      0.00000476837158203125,
                      0.00000476837158203125,
                      0.00000476837158203125,
                      0.00000476837158203125,
                      0.00000476837158203125,
                      0.00000476837158203125,
                      -0.21454238891601562
                    ],
                    [
                      -0.00001239776611328125,
                      -0.00001239776611328125,
                      -0.00001239776611328125,
                      -0.00001239776611328125,
                      -0.00001239776611328125,
                      -0.00001239776611328125,
                      0.18758869171142578,
                      0.0019435882568359375,
                      0.004817008972167969,
                      -0.00001239776611328125,
                      0.5277843475341797,
                      -0.00001239776611328125,
                      -0.015438079833984375,
                      -0.00001239776611328125,
                      -0.00001239776611328125,
                      -0.00001239776611328125,
                      -0.00001239776611328125,
                      -0.00001239776611328125,
                      0.4428071975708008,
                      -0.00001239776611328125,
                      0.36574554443359375,
                      0.00018405914306640625,
                      -0.00001239776611328125,
                      -0.00001239776611328125,
                      -0.0036640167236328125,
                      -0.00001239776611328125,
                      -0.00001239776611328125,
                      -0.00001239776611328125,
                      -0.00001239776611328125,
                      -0.00001239776611328125,
                      -0.00001239776611328125,
                      0.1093740463256836,
                      0.006348609924316406,
                      -0.00001239776611328125,
                      -0.00001239776611328125,
                      -0.00001239776611328125,
                      -0.05899524688720703,
                      0.02704143524169922,
                      0.009674072265625,
                      -0.00001239776611328125,
                      -0.00001239776611328125,
                      -0.00001239776611328125,
                      -0.00001239776611328125,
                      -1.369786262512207,
                      -0.00001239776611328125,
                      -0.00001239776611328125,
                      -0.00001239776611328125,
                      -0.00001239776611328125,
                      -0.00001239776611328125,
                      0.09409332275390625,
                      -0.00001239776611328125,
                      -0.00001239776611328125,
                      0.018323898315429688,
                      0.26091766357421875,
                      -0.00001239776611328125,
                      -0.00001239776611328125,
                      -0.00001239776611328125,
                      -0.12709903717041016,
                      -0.15242862701416016,
                      -0.0072040557861328125,
                      -0.00001239776611328125,
                      -0.44463634490966797,
                      -0.00001239776611328125,
                      0.1788930892944336,
                      0.015226364135742188,
                      -0.00001239776611328125,
                      -0.0044689178466796875,
                      -0.012372016906738281,
                      -0.00001239776611328125,
                      -0.00001239776611328125,
                      -0.00001239776611328125,
                      -0.00001239776611328125,
                      0.3189973831176758,
                      -0.0016736984252929688,
                      -0.00001239776611328125,
                      -1.4678688049316406,
                      -0.00001239776611328125,
                      -0.001926422119140625,
                      -0.046619415283203125,
                      -0.00001239776611328125,
                      -0.00001239776611328125,
                      -0.00001239776611328125,
                      -0.05796623229980469,
                      0.09934711456298828,
                      0.13934040069580078,
                      -0.010216712951660156,
                      -0.00001239776611328125,
                      0.39983463287353516,
                      0.2925987243652344,
                      0.08632087707519531,
                      -0.041106224060058594,
                      -0.00001239776611328125,
                      -0.001220703125,
                      -0.00001239776611328125,
                      -0.00001239776611328125,
                      -0.00001239776611328125,
                      -0.00001239776611328125,
                      0.13341426849365234,
                      -0.00001239776611328125,
                      0.11526775360107422,
                      0.017620086669921875,
                      0.029356956481933594,
                      -0.00001239776611328125,
                      0.2668876647949219,
                      -0.00001239776611328125,
                      -0.00001239776611328125,
                      -0.00001239776611328125,
                      -0.00001239776611328125,
                      -0.00001239776611328125,
                      -0.00001239776611328125,
                      -0.00001239776611328125,
                      -0.0012025833129882812,
                      -0.00001239776611328125,
                      -0.00001239776611328125,
                      -0.00001239776611328125,
                      -0.00001239776611328125,
                      -0.00001239776611328125,
                      -0.00001239776611328125,
                      -0.00001239776611328125,
                      0.21044254302978516,
                      -0.033364295959472656,
                      -0.00001239776611328125,
                      -0.00001239776611328125,
                      -0.00001239776611328125,
                      -0.00001239776611328125,
                      -0.00001239776611328125,
                      -0.00001239776611328125,
                      0.12529468536376953,
                      -0.00001239776611328125,
                      -0.00001239776611328125,
                      -0.00001239776611328125,
                      0.13319110870361328,
                      -0.00001239776611328125,
                      0.1595916748046875,
                      -0.00001239776611328125,
                      -0.00001239776611328125,
                      -0.00001239776611328125,
                      -0.00001239776611328125,
                      0.04334831237792969,
                      -0.00001239776611328125,
                      -0.00001239776611328125,
                      -0.00001239776611328125,
                      -0.00001239776611328125,
                      -0.00001239776611328125,
                      -0.00000476837158203125,
                      0.0029582977294921875,
                      0.03506946563720703,
                      -0.00001239776611328125,
                      -0.00001239776611328125,
                      -0.00001239776611328125,
                      -0.00001239776611328125,
                      -0.3046426773071289
                    ],
                    [
                      -0.00000667572021484375,
                      -0.00000667572021484375,
                      -0.00000667572021484375,
                      -0.00000667572021484375,
                      -1.461350440979004,
                      -0.00000667572021484375,
                      0.4581766128540039,
                      0.0015316009521484375,
                      -0.00000667572021484375,
                      -0.00000667572021484375,
                      1.2619514465332031,
                      -0.00000667572021484375,
                      -0.00000667572021484375,
                      -0.00000667572021484375,
                      -0.00000667572021484375,
                      -0.00000667572021484375,
                      -0.00000667572021484375,
                      -0.00000667572021484375,
                      0.7492752075195312,
                      -0.00000667572021484375,
                      0.6650495529174805,
                      -0.00000667572021484375,
                      -0.00000667572021484375,
                      -0.00000667572021484375,
                      -0.00000667572021484375,
                      -0.00000667572021484375,
                      -0.00000667572021484375,
                      -0.00000667572021484375,
                      -0.00000667572021484375,
                      -0.00000667572021484375,
                      -0.00000667572021484375,
                      -0.00000667572021484375,
                      -0.00000667572021484375,
                      -0.00025463104248046875,
                      -0.00000667572021484375,
                      -0.00000667572021484375,
                      -0.00000667572021484375,
                      -0.00000667572021484375,
                      -0.00000667572021484375,
                      -0.00000667572021484375,
                      -0.00000667572021484375,
                      0.007122993469238281,
                      -0.00000667572021484375,
                      -0.00000667572021484375,
                      -0.00000667572021484375,
                      -0.00000667572021484375,
                      -0.00000667572021484375,
                      -0.00000667572021484375,
                      -0.00000667572021484375,
                      -0.00000667572021484375,
                      -0.00000667572021484375,
                      -0.00000667572021484375,
                      0.0873117446899414,
                      0.07990264892578125,
                      -0.00000667572021484375,
                      -0.00000667572021484375,
                      0.0014362335205078125,
                      -0.35053348541259766,
                      0.060858726501464844,
                      -0.00000667572021484375,
                      -0.00000667572021484375,
                      -1.4249258041381836,
                      -0.0006113052368164062,
                      0.2700796127319336,
                      0.136199951171875,
                      -0.00000667572021484375,
                      -0.048851966857910156,
                      -0.00000667572021484375,
                      -0.00000667572021484375,
                      -0.00000667572021484375,
                      -0.00000667572021484375,
                      -0.00000667572021484375,
                      0.07477855682373047,
                      -0.00000667572021484375,
                      -0.00000667572021484375,
                      -0.00000667572021484375,
                      -0.00000667572021484375,
                      -0.00000667572021484375,
                      -0.00000667572021484375,
                      -0.00000667572021484375,
                      -0.00000667572021484375,
                      -0.00000667572021484375,
                      -0.2599773406982422,
                      -0.00000667572021484375,
                      -0.00000667572021484375,
                      -0.07086563110351562,
                      -0.00000667572021484375,
                      1.0328645706176758,
                      0.0752115249633789,
                      0.6256570816040039,
                      -0.00000667572021484375,
                      -0.00000667572021484375,
                      -0.00000667572021484375,
                      -0.00000667572021484375,
                      0.0027780532836914062,
                      -0.00000667572021484375,
                      -0.00000667572021484375,
                      0.35411834716796875,
                      -0.00000667572021484375,
                      -0.00000667572021484375,
                      0.029863357543945312,
                      -0.00000667572021484375,
                      -0.00000667572021484375,
                      0.3066120147705078,
                      -0.00000667572021484375,
                      -0.00000667572021484375,
                      0.22669410705566406,
                      -0.00000667572021484375,
                      -0.00000667572021484375,
                      -0.00000667572021484375,
                      -0.00000667572021484375,
                      -0.00000667572021484375,
                      -0.00000667572021484375,
                      -0.00000667572021484375,
                      -0.00000667572021484375,
                      -0.31525135040283203,
                      -0.05554485321044922,
                      -0.0036220550537109375,
                      -0.00000667572021484375,
                      0.3354930877685547,
                      -0.00000667572021484375,
                      -0.00000667572021484375,
                      -0.00000667572021484375,
                      -0.00000667572021484375,
                      -0.00000667572021484375,
                      -0.00000667572021484375,
                      -0.00000667572021484375,
                      0.12795352935791016,
                      -0.00000667572021484375,
                      -0.00000667572021484375,
                      -0.00000667572021484375,
                      0.0632162094116211,
                      -0.00000667572021484375,
                      0.5471019744873047,
                      -0.00000667572021484375,
                      -0.00000667572021484375,
                      -0.00000667572021484375,
                      -0.00000667572021484375,
                      0.1663341522216797,
                      -0.00000667572021484375,
                      -0.00000667572021484375,
                      -0.8685703277587891,
                      -0.00000667572021484375,
                      -0.00000667572021484375,
                      -0.00000667572021484375,
                      0.006747245788574219,
                      -0.00000667572021484375,
                      -0.05159473419189453,
                      -0.00000667572021484375,
                      -0.00000667572021484375,
                      -0.00000667572021484375,
                      -0.16443920135498047
                    ]
                  ]
                }
              ],
              "layout": {
                "coloraxis": {
                  "cmid": 0,
                  "colorscale": [
                    [
                      0,
                      "rgb(103,0,31)"
                    ],
                    [
                      0.1,
                      "rgb(178,24,43)"
                    ],
                    [
                      0.2,
                      "rgb(214,96,77)"
                    ],
                    [
                      0.3,
                      "rgb(244,165,130)"
                    ],
                    [
                      0.4,
                      "rgb(253,219,199)"
                    ],
                    [
                      0.5,
                      "rgb(247,247,247)"
                    ],
                    [
                      0.6,
                      "rgb(209,229,240)"
                    ],
                    [
                      0.7,
                      "rgb(146,197,222)"
                    ],
                    [
                      0.8,
                      "rgb(67,147,195)"
                    ],
                    [
                      0.9,
                      "rgb(33,102,172)"
                    ],
                    [
                      1,
                      "rgb(5,48,97)"
                    ]
                  ]
                },
                "template": {
                  "data": {
                    "bar": [
                      {
                        "error_x": {
                          "color": "#2a3f5f"
                        },
                        "error_y": {
                          "color": "#2a3f5f"
                        },
                        "marker": {
                          "line": {
                            "color": "#E5ECF6",
                            "width": 0.5
                          },
                          "pattern": {
                            "fillmode": "overlay",
                            "size": 10,
                            "solidity": 0.2
                          }
                        },
                        "type": "bar"
                      }
                    ],
                    "barpolar": [
                      {
                        "marker": {
                          "line": {
                            "color": "#E5ECF6",
                            "width": 0.5
                          },
                          "pattern": {
                            "fillmode": "overlay",
                            "size": 10,
                            "solidity": 0.2
                          }
                        },
                        "type": "barpolar"
                      }
                    ],
                    "carpet": [
                      {
                        "aaxis": {
                          "endlinecolor": "#2a3f5f",
                          "gridcolor": "white",
                          "linecolor": "white",
                          "minorgridcolor": "white",
                          "startlinecolor": "#2a3f5f"
                        },
                        "baxis": {
                          "endlinecolor": "#2a3f5f",
                          "gridcolor": "white",
                          "linecolor": "white",
                          "minorgridcolor": "white",
                          "startlinecolor": "#2a3f5f"
                        },
                        "type": "carpet"
                      }
                    ],
                    "choropleth": [
                      {
                        "colorbar": {
                          "outlinewidth": 0,
                          "ticks": ""
                        },
                        "type": "choropleth"
                      }
                    ],
                    "contour": [
                      {
                        "colorbar": {
                          "outlinewidth": 0,
                          "ticks": ""
                        },
                        "colorscale": [
                          [
                            0,
                            "#0d0887"
                          ],
                          [
                            0.1111111111111111,
                            "#46039f"
                          ],
                          [
                            0.2222222222222222,
                            "#7201a8"
                          ],
                          [
                            0.3333333333333333,
                            "#9c179e"
                          ],
                          [
                            0.4444444444444444,
                            "#bd3786"
                          ],
                          [
                            0.5555555555555556,
                            "#d8576b"
                          ],
                          [
                            0.6666666666666666,
                            "#ed7953"
                          ],
                          [
                            0.7777777777777778,
                            "#fb9f3a"
                          ],
                          [
                            0.8888888888888888,
                            "#fdca26"
                          ],
                          [
                            1,
                            "#f0f921"
                          ]
                        ],
                        "type": "contour"
                      }
                    ],
                    "contourcarpet": [
                      {
                        "colorbar": {
                          "outlinewidth": 0,
                          "ticks": ""
                        },
                        "type": "contourcarpet"
                      }
                    ],
                    "heatmap": [
                      {
                        "colorbar": {
                          "outlinewidth": 0,
                          "ticks": ""
                        },
                        "colorscale": [
                          [
                            0,
                            "#0d0887"
                          ],
                          [
                            0.1111111111111111,
                            "#46039f"
                          ],
                          [
                            0.2222222222222222,
                            "#7201a8"
                          ],
                          [
                            0.3333333333333333,
                            "#9c179e"
                          ],
                          [
                            0.4444444444444444,
                            "#bd3786"
                          ],
                          [
                            0.5555555555555556,
                            "#d8576b"
                          ],
                          [
                            0.6666666666666666,
                            "#ed7953"
                          ],
                          [
                            0.7777777777777778,
                            "#fb9f3a"
                          ],
                          [
                            0.8888888888888888,
                            "#fdca26"
                          ],
                          [
                            1,
                            "#f0f921"
                          ]
                        ],
                        "type": "heatmap"
                      }
                    ],
                    "heatmapgl": [
                      {
                        "colorbar": {
                          "outlinewidth": 0,
                          "ticks": ""
                        },
                        "colorscale": [
                          [
                            0,
                            "#0d0887"
                          ],
                          [
                            0.1111111111111111,
                            "#46039f"
                          ],
                          [
                            0.2222222222222222,
                            "#7201a8"
                          ],
                          [
                            0.3333333333333333,
                            "#9c179e"
                          ],
                          [
                            0.4444444444444444,
                            "#bd3786"
                          ],
                          [
                            0.5555555555555556,
                            "#d8576b"
                          ],
                          [
                            0.6666666666666666,
                            "#ed7953"
                          ],
                          [
                            0.7777777777777778,
                            "#fb9f3a"
                          ],
                          [
                            0.8888888888888888,
                            "#fdca26"
                          ],
                          [
                            1,
                            "#f0f921"
                          ]
                        ],
                        "type": "heatmapgl"
                      }
                    ],
                    "histogram": [
                      {
                        "marker": {
                          "pattern": {
                            "fillmode": "overlay",
                            "size": 10,
                            "solidity": 0.2
                          }
                        },
                        "type": "histogram"
                      }
                    ],
                    "histogram2d": [
                      {
                        "colorbar": {
                          "outlinewidth": 0,
                          "ticks": ""
                        },
                        "colorscale": [
                          [
                            0,
                            "#0d0887"
                          ],
                          [
                            0.1111111111111111,
                            "#46039f"
                          ],
                          [
                            0.2222222222222222,
                            "#7201a8"
                          ],
                          [
                            0.3333333333333333,
                            "#9c179e"
                          ],
                          [
                            0.4444444444444444,
                            "#bd3786"
                          ],
                          [
                            0.5555555555555556,
                            "#d8576b"
                          ],
                          [
                            0.6666666666666666,
                            "#ed7953"
                          ],
                          [
                            0.7777777777777778,
                            "#fb9f3a"
                          ],
                          [
                            0.8888888888888888,
                            "#fdca26"
                          ],
                          [
                            1,
                            "#f0f921"
                          ]
                        ],
                        "type": "histogram2d"
                      }
                    ],
                    "histogram2dcontour": [
                      {
                        "colorbar": {
                          "outlinewidth": 0,
                          "ticks": ""
                        },
                        "colorscale": [
                          [
                            0,
                            "#0d0887"
                          ],
                          [
                            0.1111111111111111,
                            "#46039f"
                          ],
                          [
                            0.2222222222222222,
                            "#7201a8"
                          ],
                          [
                            0.3333333333333333,
                            "#9c179e"
                          ],
                          [
                            0.4444444444444444,
                            "#bd3786"
                          ],
                          [
                            0.5555555555555556,
                            "#d8576b"
                          ],
                          [
                            0.6666666666666666,
                            "#ed7953"
                          ],
                          [
                            0.7777777777777778,
                            "#fb9f3a"
                          ],
                          [
                            0.8888888888888888,
                            "#fdca26"
                          ],
                          [
                            1,
                            "#f0f921"
                          ]
                        ],
                        "type": "histogram2dcontour"
                      }
                    ],
                    "mesh3d": [
                      {
                        "colorbar": {
                          "outlinewidth": 0,
                          "ticks": ""
                        },
                        "type": "mesh3d"
                      }
                    ],
                    "parcoords": [
                      {
                        "line": {
                          "colorbar": {
                            "outlinewidth": 0,
                            "ticks": ""
                          }
                        },
                        "type": "parcoords"
                      }
                    ],
                    "pie": [
                      {
                        "automargin": true,
                        "type": "pie"
                      }
                    ],
                    "scatter": [
                      {
                        "fillpattern": {
                          "fillmode": "overlay",
                          "size": 10,
                          "solidity": 0.2
                        },
                        "type": "scatter"
                      }
                    ],
                    "scatter3d": [
                      {
                        "line": {
                          "colorbar": {
                            "outlinewidth": 0,
                            "ticks": ""
                          }
                        },
                        "marker": {
                          "colorbar": {
                            "outlinewidth": 0,
                            "ticks": ""
                          }
                        },
                        "type": "scatter3d"
                      }
                    ],
                    "scattercarpet": [
                      {
                        "marker": {
                          "colorbar": {
                            "outlinewidth": 0,
                            "ticks": ""
                          }
                        },
                        "type": "scattercarpet"
                      }
                    ],
                    "scattergeo": [
                      {
                        "marker": {
                          "colorbar": {
                            "outlinewidth": 0,
                            "ticks": ""
                          }
                        },
                        "type": "scattergeo"
                      }
                    ],
                    "scattergl": [
                      {
                        "marker": {
                          "colorbar": {
                            "outlinewidth": 0,
                            "ticks": ""
                          }
                        },
                        "type": "scattergl"
                      }
                    ],
                    "scattermapbox": [
                      {
                        "marker": {
                          "colorbar": {
                            "outlinewidth": 0,
                            "ticks": ""
                          }
                        },
                        "type": "scattermapbox"
                      }
                    ],
                    "scatterpolar": [
                      {
                        "marker": {
                          "colorbar": {
                            "outlinewidth": 0,
                            "ticks": ""
                          }
                        },
                        "type": "scatterpolar"
                      }
                    ],
                    "scatterpolargl": [
                      {
                        "marker": {
                          "colorbar": {
                            "outlinewidth": 0,
                            "ticks": ""
                          }
                        },
                        "type": "scatterpolargl"
                      }
                    ],
                    "scatterternary": [
                      {
                        "marker": {
                          "colorbar": {
                            "outlinewidth": 0,
                            "ticks": ""
                          }
                        },
                        "type": "scatterternary"
                      }
                    ],
                    "surface": [
                      {
                        "colorbar": {
                          "outlinewidth": 0,
                          "ticks": ""
                        },
                        "colorscale": [
                          [
                            0,
                            "#0d0887"
                          ],
                          [
                            0.1111111111111111,
                            "#46039f"
                          ],
                          [
                            0.2222222222222222,
                            "#7201a8"
                          ],
                          [
                            0.3333333333333333,
                            "#9c179e"
                          ],
                          [
                            0.4444444444444444,
                            "#bd3786"
                          ],
                          [
                            0.5555555555555556,
                            "#d8576b"
                          ],
                          [
                            0.6666666666666666,
                            "#ed7953"
                          ],
                          [
                            0.7777777777777778,
                            "#fb9f3a"
                          ],
                          [
                            0.8888888888888888,
                            "#fdca26"
                          ],
                          [
                            1,
                            "#f0f921"
                          ]
                        ],
                        "type": "surface"
                      }
                    ],
                    "table": [
                      {
                        "cells": {
                          "fill": {
                            "color": "#EBF0F8"
                          },
                          "line": {
                            "color": "white"
                          }
                        },
                        "header": {
                          "fill": {
                            "color": "#C8D4E3"
                          },
                          "line": {
                            "color": "white"
                          }
                        },
                        "type": "table"
                      }
                    ]
                  },
                  "layout": {
                    "annotationdefaults": {
                      "arrowcolor": "#2a3f5f",
                      "arrowhead": 0,
                      "arrowwidth": 1
                    },
                    "autotypenumbers": "strict",
                    "coloraxis": {
                      "colorbar": {
                        "outlinewidth": 0,
                        "ticks": ""
                      }
                    },
                    "colorscale": {
                      "diverging": [
                        [
                          0,
                          "#8e0152"
                        ],
                        [
                          0.1,
                          "#c51b7d"
                        ],
                        [
                          0.2,
                          "#de77ae"
                        ],
                        [
                          0.3,
                          "#f1b6da"
                        ],
                        [
                          0.4,
                          "#fde0ef"
                        ],
                        [
                          0.5,
                          "#f7f7f7"
                        ],
                        [
                          0.6,
                          "#e6f5d0"
                        ],
                        [
                          0.7,
                          "#b8e186"
                        ],
                        [
                          0.8,
                          "#7fbc41"
                        ],
                        [
                          0.9,
                          "#4d9221"
                        ],
                        [
                          1,
                          "#276419"
                        ]
                      ],
                      "sequential": [
                        [
                          0,
                          "#0d0887"
                        ],
                        [
                          0.1111111111111111,
                          "#46039f"
                        ],
                        [
                          0.2222222222222222,
                          "#7201a8"
                        ],
                        [
                          0.3333333333333333,
                          "#9c179e"
                        ],
                        [
                          0.4444444444444444,
                          "#bd3786"
                        ],
                        [
                          0.5555555555555556,
                          "#d8576b"
                        ],
                        [
                          0.6666666666666666,
                          "#ed7953"
                        ],
                        [
                          0.7777777777777778,
                          "#fb9f3a"
                        ],
                        [
                          0.8888888888888888,
                          "#fdca26"
                        ],
                        [
                          1,
                          "#f0f921"
                        ]
                      ],
                      "sequentialminus": [
                        [
                          0,
                          "#0d0887"
                        ],
                        [
                          0.1111111111111111,
                          "#46039f"
                        ],
                        [
                          0.2222222222222222,
                          "#7201a8"
                        ],
                        [
                          0.3333333333333333,
                          "#9c179e"
                        ],
                        [
                          0.4444444444444444,
                          "#bd3786"
                        ],
                        [
                          0.5555555555555556,
                          "#d8576b"
                        ],
                        [
                          0.6666666666666666,
                          "#ed7953"
                        ],
                        [
                          0.7777777777777778,
                          "#fb9f3a"
                        ],
                        [
                          0.8888888888888888,
                          "#fdca26"
                        ],
                        [
                          1,
                          "#f0f921"
                        ]
                      ]
                    },
                    "colorway": [
                      "#636efa",
                      "#EF553B",
                      "#00cc96",
                      "#ab63fa",
                      "#FFA15A",
                      "#19d3f3",
                      "#FF6692",
                      "#B6E880",
                      "#FF97FF",
                      "#FECB52"
                    ],
                    "font": {
                      "color": "#2a3f5f"
                    },
                    "geo": {
                      "bgcolor": "white",
                      "lakecolor": "white",
                      "landcolor": "#E5ECF6",
                      "showlakes": true,
                      "showland": true,
                      "subunitcolor": "white"
                    },
                    "hoverlabel": {
                      "align": "left"
                    },
                    "hovermode": "closest",
                    "mapbox": {
                      "style": "light"
                    },
                    "paper_bgcolor": "white",
                    "plot_bgcolor": "#E5ECF6",
                    "polar": {
                      "angularaxis": {
                        "gridcolor": "white",
                        "linecolor": "white",
                        "ticks": ""
                      },
                      "bgcolor": "#E5ECF6",
                      "radialaxis": {
                        "gridcolor": "white",
                        "linecolor": "white",
                        "ticks": ""
                      }
                    },
                    "scene": {
                      "xaxis": {
                        "backgroundcolor": "#E5ECF6",
                        "gridcolor": "white",
                        "gridwidth": 2,
                        "linecolor": "white",
                        "showbackground": true,
                        "ticks": "",
                        "zerolinecolor": "white"
                      },
                      "yaxis": {
                        "backgroundcolor": "#E5ECF6",
                        "gridcolor": "white",
                        "gridwidth": 2,
                        "linecolor": "white",
                        "showbackground": true,
                        "ticks": "",
                        "zerolinecolor": "white"
                      },
                      "zaxis": {
                        "backgroundcolor": "#E5ECF6",
                        "gridcolor": "white",
                        "gridwidth": 2,
                        "linecolor": "white",
                        "showbackground": true,
                        "ticks": "",
                        "zerolinecolor": "white"
                      }
                    },
                    "shapedefaults": {
                      "line": {
                        "color": "#2a3f5f"
                      }
                    },
                    "ternary": {
                      "aaxis": {
                        "gridcolor": "white",
                        "linecolor": "white",
                        "ticks": ""
                      },
                      "baxis": {
                        "gridcolor": "white",
                        "linecolor": "white",
                        "ticks": ""
                      },
                      "bgcolor": "#E5ECF6",
                      "caxis": {
                        "gridcolor": "white",
                        "linecolor": "white",
                        "ticks": ""
                      }
                    },
                    "title": {
                      "x": 0.05
                    },
                    "xaxis": {
                      "automargin": true,
                      "gridcolor": "white",
                      "linecolor": "white",
                      "ticks": "",
                      "title": {
                        "standoff": 15
                      },
                      "zerolinecolor": "white",
                      "zerolinewidth": 2
                    },
                    "yaxis": {
                      "automargin": true,
                      "gridcolor": "white",
                      "linecolor": "white",
                      "ticks": "",
                      "title": {
                        "standoff": 15
                      },
                      "zerolinecolor": "white",
                      "zerolinewidth": 2
                    }
                  }
                },
                "title": {
                  "text": "Change in logit diff when ablating L6 SAE features for all prompts at pos 10"
                },
                "xaxis": {
                  "anchor": "y",
                  "constrain": "domain",
                  "domain": [
                    0,
                    1
                  ],
                  "scaleanchor": "y",
                  "title": {
                    "text": "Feature Idx"
                  }
                },
                "yaxis": {
                  "anchor": "x",
                  "autorange": "reversed",
                  "constrain": "domain",
                  "domain": [
                    0,
                    1
                  ],
                  "title": {
                    "text": "Prompt Idx"
                  }
                }
              }
            }
          },
          "metadata": {},
          "output_type": "display_data"
        }
      ],
      "source": [
        "px.imshow(\n",
        "    causal_effects_with_error,\n",
        "    color_continuous_scale=\"RdBu\",\n",
        "    color_continuous_midpoint=0,\n",
        "    title=f\"Change in logit diff when ablating L{abl_layer} SAE features for all prompts at pos {abl_pos}\",\n",
        "    x=list(map(str, all_live_features.tolist()))+[\"error\"],\n",
        "    labels= {\"x\":\"Feature Idx\", \"y\":\"Prompt Idx\"}\n",
        ")"
      ]
    },
    {
      "cell_type": "markdown",
      "metadata": {
        "id": "Fdvwgd2sviiG"
      },
      "source": [
        "We can see that on some prompts, ablating the error term (right most column) does have a non trivial effect on the logit diff, although I don't see a clear pattern. It seems useful to include this term when doing causal interventions to get a sense of how much the SAE features are actually explaining."
      ]
    },
    {
      "cell_type": "markdown",
      "metadata": {
        "id": "YM4YgobuviiG"
      },
      "source": [
        "# Attribution patching"
      ]
    },
    {
      "cell_type": "markdown",
      "metadata": {
        "id": "gIXJ2sAbviiG"
      },
      "source": [
        "\n",
        "Both [Anthropic](https://transformer-circuits.pub/2024/march-update/index.html#feature-heads) and [Marks et al](https://arxiv.org/abs/2403.19647v2). also demonstrated the use of gradient based attribution techniques as a substitute for activation patching on SAE features. The key idea is that patching / ablations (as we did above) can be slow, as it requires a new forward pass for each patch. This seems especially problematic when dealing with SAEs with tens of thousands of features per activation.\n",
        "\n",
        "They find that gradient based attribution techniques like [attribution patching](https://www.neelnanda.io/mechanistic-interpretability/attribution-patching) are good approximations, allowing for more efficient and scalable circuit analysis with SAEs.\n",
        "\n",
        "Let's use `HookedSAETransformer` to implement attribution patching for every SAE feature in L5 to find causally relevant SAE features in just one forward and one backward pass."
      ]
    },
    {
      "cell_type": "code",
      "execution_count": 31,
      "metadata": {
        "id": "Q-d4Gf-cviiG",
        "outputId": "47c81af8-e375-4d28-c9fb-ad2ddae00c92"
      },
      "outputs": [
        {
          "data": {
            "text/plain": [
              "<torch.autograd.grad_mode.set_grad_enabled at 0x38e435dd0>"
            ]
          },
          "execution_count": 31,
          "metadata": {},
          "output_type": "execute_result"
        }
      ],
      "source": [
        "torch.set_grad_enabled(True)"
      ]
    },
    {
      "cell_type": "code",
      "execution_count": 46,
      "metadata": {
        "id": "TLfn9XytviiG",
        "outputId": "d2bd6273-6be4-4c0f-c3b5-5db2c2a0ec05"
      },
      "outputs": [
        {
          "data": {
            "text/plain": [
              "{'blocks.7.hook_resid_pre': False,\n",
              " 'blocks.0.hook_resid_pre': False,\n",
              " 'blocks.1.hook_resid_pre': False,\n",
              " 'blocks.2.hook_resid_pre': False,\n",
              " 'blocks.3.hook_resid_pre': False,\n",
              " 'blocks.4.hook_resid_pre': False,\n",
              " 'blocks.5.hook_resid_pre': False,\n",
              " 'blocks.6.hook_resid_pre': True,\n",
              " 'blocks.8.hook_resid_pre': False,\n",
              " 'blocks.9.hook_resid_pre': False,\n",
              " 'blocks.10.hook_resid_pre': False,\n",
              " 'blocks.11.hook_resid_pre': False,\n",
              " 'blocks.11.hook_resid_post': False}"
            ]
          },
          "execution_count": 46,
          "metadata": {},
          "output_type": "execute_result"
        }
      ],
      "source": [
        "act_name = utils.get_act_name('resid_pre', layer)\n",
        "model.turn_saes_on(act_name)\n",
        "model.acts_to_saes[act_name].use_error_term = False\n",
        "model.get_saes_status()"
      ]
    },
    {
      "cell_type": "code",
      "execution_count": 49,
      "metadata": {
        "id": "RsUnMlYnviiG",
        "outputId": "b86768e9-78b5-4d1a-8b46-13c708315c0c"
      },
      "outputs": [
        {
          "name": "stdout",
          "output_type": "stream",
          "text": [
            "tensor(-9.2088, device='mps:0', grad_fn=<SumBackward0>)\n",
            "Clean Value: -9.208788871765137\n",
            "Clean Activations Cached: 1\n",
            "Clean Gradients Cached: 1\n"
          ]
        }
      ],
      "source": [
        "from transformer_lens import ActivationCache\n",
        "filter_sae_acts = lambda name: (\"hook_sae_acts_post\" in name)\n",
        "def get_cache_fwd_and_bwd(model, tokens, metric):\n",
        "    model.reset_hooks()\n",
        "    cache = {}\n",
        "    def forward_cache_hook(act, hook):\n",
        "        cache[hook.name] = act.detach()\n",
        "    model.add_hook(filter_sae_acts, forward_cache_hook, \"fwd\")\n",
        "\n",
        "    grad_cache = {}\n",
        "    def backward_cache_hook(act, hook):\n",
        "        grad_cache[hook.name] = act.detach()\n",
        "    model.add_hook(filter_sae_acts, backward_cache_hook, \"bwd\")\n",
        "\n",
        "    value = metric(model(tokens))\n",
        "    print(value)\n",
        "    value.backward()\n",
        "    model.reset_hooks()\n",
        "    return value.item(), ActivationCache(cache, model), ActivationCache(grad_cache, model)\n",
        "\n",
        "\n",
        "BASELINE = original_per_prompt_logit_diff\n",
        "def ioi_metric(logits, answer_tokens=answer_tokens):\n",
        "    return (logits_to_ave_logit_diff(logits, answer_tokens, per_prompt=True) - BASELINE).sum()\n",
        "\n",
        "clean_tokens = tokens.clone()\n",
        "clean_value, clean_cache, clean_grad_cache = get_cache_fwd_and_bwd(model, clean_tokens, ioi_metric)\n",
        "print(\"Clean Value:\", clean_value)\n",
        "print(\"Clean Activations Cached:\", len(clean_cache)) # This should be\n",
        "print(\"Clean Gradients Cached:\", len(clean_grad_cache)) # This should be "
      ]
    },
    {
      "cell_type": "code",
      "execution_count": 50,
      "metadata": {
        "id": "Y-WFES0DviiG",
        "outputId": "ac2ed888-576a-431d-fd21-be6dfccc7925"
      },
      "outputs": [],
      "source": [
        "def attr_patch_sae_acts(\n",
        "        clean_cache: ActivationCache,\n",
        "        clean_grad_cache: ActivationCache,\n",
        "        site: str, layer: int\n",
        "    ):\n",
        "    clean_sae_acts_post = clean_cache[utils.get_act_name(site, layer) + \".hook_sae_acts_post\"]\n",
        "    clean_grad_sae_acts_post = clean_grad_cache[utils.get_act_name(site, layer) + \".hook_sae_acts_post\"]\n",
        "    sae_act_attr = clean_grad_sae_acts_post * (0 - clean_sae_acts_post)\n",
        "    return sae_act_attr\n",
        "\n",
        "site = \"resid_pre\"\n",
        "layer = 6\n",
        "sae_act_attr = attr_patch_sae_acts(clean_cache, clean_grad_cache, site, layer)"
      ]
    },
    {
      "cell_type": "code",
      "execution_count": 54,
      "metadata": {},
      "outputs": [
        {
          "data": {
            "application/vnd.plotly.v1+json": {
              "config": {
                "plotlyServerURL": "https://plotly.com"
              },
              "data": [
                {
                  "coloraxis": "coloraxis",
                  "hovertemplate": "Feature Idx: %{x}<br>Prompt Idx: %{y}<br>color: %{z}<extra></extra>",
                  "name": "0",
                  "type": "heatmap",
                  "x": [
                    "176",
                    "502",
                    "523",
                    "700",
                    "1309",
                    "1468",
                    "1634",
                    "1648",
                    "1691",
                    "1750",
                    "1756",
                    "1971",
                    "2125",
                    "2264",
                    "2552",
                    "2582",
                    "2902",
                    "3458",
                    "3639",
                    "3658",
                    "3693",
                    "3804",
                    "3948",
                    "4265",
                    "4456",
                    "4504",
                    "4752",
                    "4754",
                    "4819",
                    "5074",
                    "5160",
                    "5248",
                    "5271",
                    "5384",
                    "5658",
                    "5762",
                    "5971",
                    "6268",
                    "6421",
                    "6547",
                    "6593",
                    "7416",
                    "7539",
                    "7545",
                    "7963",
                    "8037",
                    "8109",
                    "8191",
                    "8387",
                    "8662",
                    "8895",
                    "8928",
                    "9119",
                    "9201",
                    "9238",
                    "9291",
                    "9346",
                    "9532",
                    "9821",
                    "9967",
                    "10045",
                    "10237",
                    "10372",
                    "10512",
                    "10524",
                    "10861",
                    "10905",
                    "11071",
                    "11414",
                    "11513",
                    "11549",
                    "11692",
                    "12128",
                    "12419",
                    "12528",
                    "12691",
                    "12736",
                    "12832",
                    "13066",
                    "13069",
                    "13089",
                    "13265",
                    "13403",
                    "13758",
                    "13838",
                    "13841",
                    "13921",
                    "14023",
                    "14171",
                    "14271",
                    "14485",
                    "14548",
                    "14603",
                    "14744",
                    "14910",
                    "15087",
                    "15194",
                    "15372",
                    "15376",
                    "15413",
                    "15561",
                    "16346",
                    "16381",
                    "16383",
                    "16504",
                    "16683",
                    "16758",
                    "16878",
                    "17081",
                    "17282",
                    "17462",
                    "17941",
                    "18157",
                    "18197",
                    "18335",
                    "18342",
                    "18425",
                    "18525",
                    "18547",
                    "18621",
                    "18801",
                    "18863",
                    "19133",
                    "19888",
                    "20122",
                    "20331",
                    "20714",
                    "20957",
                    "21105",
                    "21189",
                    "21514",
                    "21631",
                    "21732",
                    "21891",
                    "21974",
                    "22037",
                    "22088",
                    "22301",
                    "22371",
                    "22387",
                    "22395",
                    "22464",
                    "22520",
                    "23175",
                    "23301",
                    "23363",
                    "23691",
                    "23817",
                    "23964",
                    "24179",
                    "24373"
                  ],
                  "xaxis": "x",
                  "yaxis": "y",
                  "z": [
                    [
                      0,
                      0,
                      0,
                      0.0824991911649704,
                      0,
                      0,
                      0.16346850991249084,
                      -0.003686835989356041,
                      0,
                      0,
                      0.46269482374191284,
                      0,
                      0,
                      0.019261080771684647,
                      -0.002877929713577032,
                      0,
                      0,
                      0,
                      0.39822980761528015,
                      0.006853521801531315,
                      0.35071706771850586,
                      -0.004885397851467133,
                      0,
                      0,
                      0,
                      0,
                      0,
                      0,
                      0,
                      0,
                      0,
                      0.10226557403802872,
                      0,
                      0,
                      0,
                      0,
                      0,
                      0.013390542939305305,
                      0,
                      0.03311559557914734,
                      0,
                      0,
                      0,
                      0,
                      0,
                      0,
                      0,
                      0,
                      -0.04219800978899002,
                      0,
                      0,
                      -0.6452542543411255,
                      0.02401265688240528,
                      0.1332961767911911,
                      0,
                      0,
                      0,
                      -0.09519577771425247,
                      -0.11847320199012756,
                      0,
                      0.12436912953853607,
                      -0.3537864685058594,
                      0,
                      0.10549899935722351,
                      0,
                      0,
                      -0.019378911703824997,
                      -0.024425458163022995,
                      0,
                      0,
                      0,
                      0,
                      0.1509832739830017,
                      0,
                      0,
                      -0.958196222782135,
                      0.1278487890958786,
                      0,
                      -0.120358906686306,
                      0,
                      0,
                      0.004858559463173151,
                      -0.04731253534555435,
                      0.1324847936630249,
                      0.05242886021733284,
                      -0.025028802454471588,
                      0,
                      0.2783823311328888,
                      0.15312035381793976,
                      0,
                      0,
                      -0.03532980754971504,
                      0,
                      -0.04013069346547127,
                      0,
                      0.006723540369421244,
                      0,
                      0.05959032103419304,
                      0.01846257969737053,
                      0.08955264836549759,
                      0,
                      0,
                      0,
                      0.2322385311126709,
                      0,
                      0,
                      0,
                      0,
                      0,
                      0,
                      0,
                      0,
                      0,
                      0.045677121728658676,
                      0,
                      0,
                      0,
                      0,
                      0.012766268104314804,
                      0.15334613621234894,
                      -0.019699642434716225,
                      0.00048403156688436866,
                      0,
                      0,
                      0,
                      0,
                      0,
                      0.09047757834196091,
                      0,
                      0,
                      0,
                      0.007405520416796207,
                      0,
                      0.08048346638679504,
                      0,
                      0,
                      0,
                      0.03745371475815773,
                      0,
                      -0.004657891113311052,
                      0.24025173485279083,
                      0,
                      0.015391831286251545,
                      0,
                      -0.010849865153431892,
                      0.005173200741410255,
                      0,
                      0,
                      0,
                      0,
                      0
                    ],
                    [
                      0,
                      0,
                      0,
                      -0.07577890157699585,
                      0,
                      -0.09713954478502274,
                      0.12052816152572632,
                      0.0013584720436483622,
                      0,
                      0,
                      0.5497131943702698,
                      0,
                      0,
                      0,
                      0,
                      0,
                      0,
                      0,
                      0.2427162528038025,
                      0,
                      0.3534749746322632,
                      0.03256016969680786,
                      0,
                      0,
                      0,
                      0,
                      0.09120333194732666,
                      0.004919653758406639,
                      0,
                      0,
                      0,
                      0.05382654815912247,
                      0,
                      0,
                      0,
                      0,
                      0,
                      0.07858460396528244,
                      0,
                      0,
                      0,
                      0,
                      0,
                      0,
                      0,
                      0,
                      0,
                      0,
                      0.021152561530470848,
                      0,
                      0,
                      0,
                      0.15693789720535278,
                      0.01725807599723339,
                      0,
                      0,
                      0,
                      -0.12778796255588531,
                      0.13734601438045502,
                      0,
                      0,
                      -0.2626492381095886,
                      0,
                      0.02506471425294876,
                      0,
                      0,
                      -0.02451135590672493,
                      -0.0012645471142604947,
                      0,
                      0,
                      0,
                      0,
                      0.04351381957530975,
                      0,
                      -0.004623441491276026,
                      0.06768790632486343,
                      0,
                      0,
                      0,
                      0,
                      -1.693529725074768,
                      -0.025505755096673965,
                      -0.2056986540555954,
                      0,
                      0.06292855739593506,
                      0,
                      0,
                      0.4562610387802124,
                      0.05131861940026283,
                      0,
                      0,
                      0,
                      0,
                      0,
                      0,
                      0.00025298158288933337,
                      0,
                      0.02359836921095848,
                      0,
                      0.11767975240945816,
                      0.0038619276601821184,
                      0,
                      0,
                      0.21569429337978363,
                      0,
                      0,
                      0.015321584418416023,
                      0,
                      0.008321010507643223,
                      -0.06188911199569702,
                      0,
                      0,
                      0,
                      0.09055911749601364,
                      0,
                      -0.04117564484477043,
                      0,
                      0,
                      0,
                      0.15535317361354828,
                      0.0017094600480049849,
                      0,
                      0,
                      0,
                      0,
                      0,
                      0,
                      0.0876399576663971,
                      0,
                      0,
                      0,
                      0.01195529755204916,
                      0,
                      0.09514030069112778,
                      0,
                      0,
                      0,
                      0.00393842114135623,
                      0,
                      0,
                      0.03750840947031975,
                      -0.3842933475971222,
                      0,
                      0,
                      0,
                      0.0018438914557918906,
                      0,
                      -0.07845953851938248,
                      0,
                      0,
                      0
                    ],
                    [
                      0,
                      0.029235905036330223,
                      -0.003195882309228182,
                      0,
                      0,
                      -0.009984789416193962,
                      0.06941699236631393,
                      0.006251897197216749,
                      0,
                      0,
                      0.3888489007949829,
                      0,
                      0,
                      0,
                      0,
                      0,
                      0,
                      0,
                      0.07692928612232208,
                      0,
                      0.16098354756832123,
                      -0.006629406474530697,
                      -0.019726380705833435,
                      0,
                      0,
                      -0.008128207176923752,
                      0,
                      0,
                      0,
                      0,
                      0,
                      0.11587915569543839,
                      0,
                      0,
                      0,
                      0,
                      -0.02159009501338005,
                      0.05014466866850853,
                      0,
                      0.030364016070961952,
                      0,
                      0,
                      0,
                      0,
                      -0.01988242194056511,
                      0,
                      0,
                      0,
                      -0.011400753632187843,
                      0,
                      0,
                      0,
                      0.08814084529876709,
                      0.056142084300518036,
                      0.046838827431201935,
                      0,
                      0,
                      -0.04246307536959648,
                      -0.4018995761871338,
                      0,
                      0.06321024149656296,
                      -0.5023536682128906,
                      0,
                      0.043403588235378265,
                      0,
                      -0.002632404211908579,
                      -0.010486394166946411,
                      -0.007063691969960928,
                      0,
                      0,
                      0,
                      -0.003674266394227743,
                      0.23767144978046417,
                      0,
                      0,
                      -1.129129409790039,
                      0,
                      0,
                      0,
                      0,
                      0,
                      0,
                      -0.03235293924808502,
                      0.04559055715799332,
                      0.1490308940410614,
                      -0.0018548808293417096,
                      0,
                      0.37652894854545593,
                      0.013759246096014977,
                      0.06833285838365555,
                      0,
                      0,
                      0,
                      0,
                      0,
                      0,
                      0,
                      0.16409249603748322,
                      0.003830532543361187,
                      0.04495104029774666,
                      0,
                      0.06555512547492981,
                      0.004014021251350641,
                      0.09282922744750977,
                      0,
                      0,
                      0.05117759108543396,
                      0,
                      0,
                      0,
                      0.0024905153550207615,
                      0,
                      0,
                      0,
                      0,
                      0,
                      0,
                      0,
                      0,
                      0.09224089235067368,
                      -0.007593591697514057,
                      0,
                      0,
                      0,
                      0.00025206967256963253,
                      0,
                      -0.0105575080960989,
                      0.12780112028121948,
                      0,
                      0,
                      0,
                      0.0891239270567894,
                      0,
                      0.12198307365179062,
                      0,
                      0,
                      0,
                      0,
                      0,
                      -0.02624380588531494,
                      0.015569085255265236,
                      0,
                      0,
                      -0.0018329197773709893,
                      -0.03035176545381546,
                      -0.0013809003867208958,
                      0,
                      0,
                      0,
                      0,
                      0.04217727109789848
                    ],
                    [
                      0,
                      0.019532585516572,
                      0,
                      0,
                      0,
                      0,
                      -0.0773853287100792,
                      0,
                      0,
                      0,
                      0.4831238389015198,
                      0,
                      0,
                      0,
                      0,
                      0,
                      0,
                      0,
                      0.24448466300964355,
                      0,
                      0.3644762337207794,
                      0.01521566603332758,
                      0,
                      0,
                      0,
                      0,
                      0,
                      0,
                      0,
                      0,
                      0,
                      0,
                      0,
                      0,
                      0,
                      0,
                      0,
                      0.19514082372188568,
                      0,
                      0,
                      0.030624693259596825,
                      0,
                      0,
                      0,
                      -0.026052476838231087,
                      -3.6499125957489014,
                      0,
                      0,
                      0,
                      0,
                      0,
                      0,
                      0,
                      0,
                      0,
                      0,
                      0,
                      -0.14966735243797302,
                      0.6132245063781738,
                      0,
                      0,
                      -0.5194705724716187,
                      0,
                      0,
                      0,
                      0,
                      -0.0430416502058506,
                      0,
                      0,
                      -0.008162003010511398,
                      0,
                      0,
                      0.08642783761024475,
                      0,
                      0,
                      0,
                      0,
                      0,
                      0,
                      0,
                      0,
                      0,
                      -0.12862932682037354,
                      0,
                      0,
                      -0.01706075854599476,
                      0,
                      0.3806878626346588,
                      0.17786644399166107,
                      0.0631512776017189,
                      0,
                      0,
                      0,
                      -0.07738696783781052,
                      0,
                      0,
                      0,
                      0.07942342013120651,
                      0,
                      0,
                      0,
                      0,
                      0,
                      0,
                      0,
                      0,
                      0.1508280485868454,
                      0,
                      0,
                      -0.16098588705062866,
                      0,
                      0,
                      0,
                      0,
                      0,
                      -0.017609454691410065,
                      0,
                      0,
                      0,
                      0.14294390380382538,
                      0,
                      0,
                      0,
                      0,
                      0,
                      0,
                      0,
                      0,
                      0,
                      0,
                      0,
                      0.14211030304431915,
                      0,
                      0.24315227568149567,
                      0,
                      0.01940983347594738,
                      0,
                      0.00914992205798626,
                      0,
                      -0.034292664378881454,
                      0,
                      -0.7469980120658875,
                      0,
                      0,
                      0,
                      -0.0027024648152291775,
                      0,
                      -0.099861741065979,
                      -0.023273004218935966,
                      0,
                      0
                    ],
                    [
                      -0.1328008770942688,
                      0,
                      -0.0037129188422113657,
                      0,
                      0,
                      0,
                      0.23850302398204803,
                      0,
                      0,
                      -0.004773028194904327,
                      0.3200008273124695,
                      -0.02787661924958229,
                      0,
                      0,
                      0,
                      -0.018312619999051094,
                      -0.03804737329483032,
                      -0.007692956365644932,
                      0.1913241595029831,
                      0,
                      0.22556760907173157,
                      0,
                      0,
                      -0.0011069892207160592,
                      0,
                      0,
                      0,
                      0,
                      -0.00019768373749684542,
                      -0.0007624209392815828,
                      0,
                      0.06684320420026779,
                      0,
                      0,
                      0,
                      -0.058946698904037476,
                      0,
                      0.18552130460739136,
                      0,
                      0.000608716334681958,
                      0,
                      0,
                      -0.03699866309762001,
                      0,
                      0,
                      0,
                      -0.08624852448701859,
                      0.014316586777567863,
                      0,
                      0,
                      -0.04558853805065155,
                      0,
                      0.07721132785081863,
                      0,
                      0,
                      0.004302543587982655,
                      0,
                      -0.0780753493309021,
                      -0.3219253122806549,
                      0,
                      0,
                      -0.2932894229888916,
                      0,
                      0.07301197201013565,
                      0,
                      0,
                      -0.000043079817260149866,
                      -0.002688024891540408,
                      -0.21355374157428741,
                      0,
                      0,
                      0,
                      0.21441511809825897,
                      -0.05537420138716698,
                      0,
                      -0.7057098150253296,
                      0,
                      0,
                      0,
                      0.0004881827044300735,
                      0,
                      0,
                      -0.00594764668494463,
                      0,
                      0,
                      0.0021817898377776146,
                      -0.01913433149456978,
                      0.20080915093421936,
                      0.09544580429792404,
                      0,
                      0,
                      0,
                      0,
                      -0.05019799619913101,
                      0.0007403809577226639,
                      0.004461920820176601,
                      0,
                      0,
                      0,
                      0.08788666874170303,
                      0,
                      0.014786112122237682,
                      0,
                      0.19413337111473083,
                      0.006998015567660332,
                      0.02901652827858925,
                      0,
                      -0.10416621714830399,
                      0,
                      0,
                      0,
                      0,
                      0.012498065829277039,
                      0,
                      -0.008300596848130226,
                      0,
                      0,
                      0,
                      0,
                      0.15824097394943237,
                      0,
                      0,
                      0.003579747397452593,
                      -0.04814529046416283,
                      0,
                      -0.004027521703392267,
                      0,
                      0.0772206112742424,
                      -0.004457379225641489,
                      -0.007876276038587093,
                      0,
                      0,
                      0.009548117406666279,
                      0.4064636528491974,
                      -0.3488391041755676,
                      0.16599635779857635,
                      -0.002685891930013895,
                      0,
                      0,
                      -0.004489832557737827,
                      0,
                      0,
                      0,
                      0,
                      0,
                      0,
                      0,
                      0,
                      0,
                      -0.0032288513612002134,
                      0
                    ],
                    [
                      0,
                      0,
                      0,
                      0,
                      0,
                      0,
                      0.15633276104927063,
                      0,
                      0,
                      0,
                      0.8412667512893677,
                      0.03371940553188324,
                      0,
                      0,
                      0,
                      0,
                      0,
                      0,
                      0.441436767578125,
                      0,
                      0.6072715520858765,
                      0.02843879722058773,
                      0,
                      0,
                      0,
                      0,
                      0,
                      0,
                      0,
                      0,
                      -0.06067393347620964,
                      0,
                      0,
                      0,
                      0.002627989510074258,
                      0,
                      0.05385001748800278,
                      0.26296496391296387,
                      0,
                      0,
                      0,
                      0,
                      0,
                      0,
                      0,
                      0,
                      0,
                      0,
                      0,
                      0,
                      0,
                      0,
                      0.09465082734823227,
                      0,
                      0,
                      0,
                      0,
                      -0.12734775245189667,
                      1.1480276584625244,
                      0,
                      0,
                      -0.4922231435775757,
                      0,
                      0.06193838641047478,
                      0,
                      0,
                      -0.09508299082517624,
                      0,
                      0,
                      -0.010777363553643227,
                      -0.007871723733842373,
                      0,
                      0.17714984714984894,
                      0,
                      0,
                      0,
                      0,
                      0,
                      0,
                      0,
                      0,
                      0,
                      -0.2962990403175354,
                      0,
                      0.002989859553053975,
                      -0.055366091430187225,
                      0,
                      0.7413766384124756,
                      0.16075171530246735,
                      0.17017091810703278,
                      0,
                      0,
                      0,
                      -0.0982864573597908,
                      0,
                      0,
                      0.016112666577100754,
                      0,
                      0,
                      0,
                      0,
                      0,
                      0,
                      0.258243590593338,
                      0,
                      0,
                      0.1056290715932846,
                      0,
                      0,
                      -0.14847096800804138,
                      0,
                      0,
                      0,
                      0,
                      0,
                      -0.0096356812864542,
                      0,
                      0,
                      0,
                      0.2640049159526825,
                      0,
                      0,
                      0,
                      -0.25095024704933167,
                      0,
                      0,
                      0,
                      0.05971333011984825,
                      0,
                      0,
                      -1.1732052564620972,
                      0,
                      0,
                      0.3865102231502533,
                      0,
                      0,
                      0,
                      0,
                      0,
                      -0.00037682344554923475,
                      0,
                      -1.6979303359985352,
                      0,
                      0,
                      0,
                      0,
                      0,
                      0,
                      0,
                      0,
                      0
                    ],
                    [
                      0,
                      0,
                      0,
                      0,
                      0,
                      0,
                      0.1774766743183136,
                      0.0014904054114595056,
                      0.0071158683858811855,
                      0,
                      0.603282630443573,
                      0,
                      0.00042466472950764,
                      0,
                      0,
                      0,
                      0,
                      0,
                      0.4927082061767578,
                      0,
                      0.36233553290367126,
                      0.0005564598250202835,
                      0,
                      0,
                      -0.0013509852578863502,
                      0,
                      0,
                      0,
                      0,
                      0,
                      0,
                      0.12895743548870087,
                      0.0075814262963831425,
                      0,
                      0,
                      0,
                      -0.04175352677702904,
                      0.03057192824780941,
                      0.0008183155441656709,
                      0,
                      0,
                      0,
                      0,
                      -0.7474642992019653,
                      0,
                      0,
                      0,
                      0,
                      0,
                      0.10986067354679108,
                      0,
                      0,
                      0.02239631675183773,
                      0.3257019519805908,
                      0,
                      0,
                      0,
                      -0.08329460024833679,
                      -0.1301734894514084,
                      -0.007632181979715824,
                      0,
                      -0.6530570983886719,
                      0,
                      0.19059965014457703,
                      0.019458157941699028,
                      0,
                      -0.009507064707577229,
                      -0.02116844244301319,
                      0,
                      0,
                      0,
                      0,
                      0.3347288966178894,
                      0.002195745939388871,
                      0,
                      -1.3856467008590698,
                      0,
                      -0.0011153093073517084,
                      -0.0345180407166481,
                      0,
                      0,
                      0,
                      -0.10994269698858261,
                      0.1136208102107048,
                      0.16044528782367706,
                      -0.012100649066269398,
                      0,
                      0.4356381297111511,
                      0.20925495028495789,
                      0.09876468777656555,
                      -0.03368933126330376,
                      0,
                      -0.003880203701555729,
                      0,
                      0,
                      0,
                      0,
                      0.14789269864559174,
                      0,
                      0.12717680633068085,
                      0.025492610409855843,
                      0.031152253970503807,
                      0,
                      0.2978954315185547,
                      0,
                      0,
                      0,
                      0,
                      0,
                      0,
                      0,
                      -0.002568839816376567,
                      0,
                      0,
                      0,
                      0,
                      0,
                      0,
                      0,
                      0.1896226704120636,
                      -0.008259107358753681,
                      0,
                      0,
                      0,
                      0,
                      0,
                      0,
                      0.1367320865392685,
                      0,
                      0,
                      0,
                      0.14234209060668945,
                      0,
                      0.1923125982284546,
                      0,
                      0,
                      0,
                      0,
                      0.04748091846704483,
                      0,
                      0,
                      0,
                      0,
                      0,
                      -0.000004651805284083821,
                      -0.0013465348165482283,
                      0.030814435333013535,
                      0,
                      0,
                      0,
                      0
                    ],
                    [
                      0,
                      0,
                      0,
                      0,
                      0.5228421688079834,
                      0,
                      0.2868010997772217,
                      -0.00028228265000507236,
                      0,
                      0,
                      1.2146575450897217,
                      0,
                      0,
                      0,
                      0,
                      0,
                      0,
                      0,
                      0.8045452237129211,
                      0,
                      0.6336597800254822,
                      0,
                      0,
                      0,
                      0,
                      0,
                      0,
                      0,
                      0,
                      0,
                      0,
                      0,
                      0,
                      -0.0033851880580186844,
                      0,
                      0,
                      0,
                      0,
                      0,
                      0,
                      0,
                      0.009303292259573936,
                      0,
                      0,
                      0,
                      0,
                      0,
                      0,
                      0,
                      0,
                      0,
                      0,
                      0.09192036092281342,
                      0.09595151245594025,
                      0,
                      0,
                      0.001680545276030898,
                      -0.2979384660720825,
                      0.40316149592399597,
                      0,
                      0,
                      -1.4899810552597046,
                      -0.00119017472025007,
                      0.2771192789077759,
                      0.16988736391067505,
                      0,
                      -0.05771113187074661,
                      0,
                      0,
                      0,
                      0,
                      0,
                      0.07558929920196533,
                      0,
                      0,
                      0,
                      0,
                      0,
                      0,
                      0,
                      0,
                      0,
                      -0.46503540873527527,
                      0,
                      0,
                      -0.19253169000148773,
                      0,
                      1.2028478384017944,
                      0.08788477629423141,
                      0.7111148238182068,
                      0,
                      0,
                      0,
                      0,
                      0.001083316165022552,
                      0,
                      0,
                      0.363186776638031,
                      0,
                      0,
                      0.02186528965830803,
                      0,
                      0,
                      0.3201766312122345,
                      0,
                      0,
                      0.2421378642320633,
                      0,
                      0,
                      0,
                      0,
                      0,
                      0,
                      0,
                      0,
                      -0.46221673488616943,
                      -0.1066255271434784,
                      -0.003629702376201749,
                      0,
                      0.2913205325603485,
                      0,
                      0,
                      0,
                      0,
                      0,
                      0,
                      0,
                      0.14044465124607086,
                      0,
                      0,
                      0,
                      0.06464381515979767,
                      0,
                      0.6324959397315979,
                      0,
                      0,
                      0,
                      0,
                      0.1697515845298767,
                      0,
                      0,
                      -2.1080968379974365,
                      0,
                      0,
                      0,
                      -0.0003802903229370713,
                      0,
                      -0.053393784910440445,
                      0,
                      0,
                      0
                    ]
                  ]
                }
              ],
              "layout": {
                "coloraxis": {
                  "cmid": 0,
                  "colorscale": [
                    [
                      0,
                      "rgb(103,0,31)"
                    ],
                    [
                      0.1,
                      "rgb(178,24,43)"
                    ],
                    [
                      0.2,
                      "rgb(214,96,77)"
                    ],
                    [
                      0.3,
                      "rgb(244,165,130)"
                    ],
                    [
                      0.4,
                      "rgb(253,219,199)"
                    ],
                    [
                      0.5,
                      "rgb(247,247,247)"
                    ],
                    [
                      0.6,
                      "rgb(209,229,240)"
                    ],
                    [
                      0.7,
                      "rgb(146,197,222)"
                    ],
                    [
                      0.8,
                      "rgb(67,147,195)"
                    ],
                    [
                      0.9,
                      "rgb(33,102,172)"
                    ],
                    [
                      1,
                      "rgb(5,48,97)"
                    ]
                  ]
                },
                "template": {
                  "data": {
                    "bar": [
                      {
                        "error_x": {
                          "color": "#2a3f5f"
                        },
                        "error_y": {
                          "color": "#2a3f5f"
                        },
                        "marker": {
                          "line": {
                            "color": "#E5ECF6",
                            "width": 0.5
                          },
                          "pattern": {
                            "fillmode": "overlay",
                            "size": 10,
                            "solidity": 0.2
                          }
                        },
                        "type": "bar"
                      }
                    ],
                    "barpolar": [
                      {
                        "marker": {
                          "line": {
                            "color": "#E5ECF6",
                            "width": 0.5
                          },
                          "pattern": {
                            "fillmode": "overlay",
                            "size": 10,
                            "solidity": 0.2
                          }
                        },
                        "type": "barpolar"
                      }
                    ],
                    "carpet": [
                      {
                        "aaxis": {
                          "endlinecolor": "#2a3f5f",
                          "gridcolor": "white",
                          "linecolor": "white",
                          "minorgridcolor": "white",
                          "startlinecolor": "#2a3f5f"
                        },
                        "baxis": {
                          "endlinecolor": "#2a3f5f",
                          "gridcolor": "white",
                          "linecolor": "white",
                          "minorgridcolor": "white",
                          "startlinecolor": "#2a3f5f"
                        },
                        "type": "carpet"
                      }
                    ],
                    "choropleth": [
                      {
                        "colorbar": {
                          "outlinewidth": 0,
                          "ticks": ""
                        },
                        "type": "choropleth"
                      }
                    ],
                    "contour": [
                      {
                        "colorbar": {
                          "outlinewidth": 0,
                          "ticks": ""
                        },
                        "colorscale": [
                          [
                            0,
                            "#0d0887"
                          ],
                          [
                            0.1111111111111111,
                            "#46039f"
                          ],
                          [
                            0.2222222222222222,
                            "#7201a8"
                          ],
                          [
                            0.3333333333333333,
                            "#9c179e"
                          ],
                          [
                            0.4444444444444444,
                            "#bd3786"
                          ],
                          [
                            0.5555555555555556,
                            "#d8576b"
                          ],
                          [
                            0.6666666666666666,
                            "#ed7953"
                          ],
                          [
                            0.7777777777777778,
                            "#fb9f3a"
                          ],
                          [
                            0.8888888888888888,
                            "#fdca26"
                          ],
                          [
                            1,
                            "#f0f921"
                          ]
                        ],
                        "type": "contour"
                      }
                    ],
                    "contourcarpet": [
                      {
                        "colorbar": {
                          "outlinewidth": 0,
                          "ticks": ""
                        },
                        "type": "contourcarpet"
                      }
                    ],
                    "heatmap": [
                      {
                        "colorbar": {
                          "outlinewidth": 0,
                          "ticks": ""
                        },
                        "colorscale": [
                          [
                            0,
                            "#0d0887"
                          ],
                          [
                            0.1111111111111111,
                            "#46039f"
                          ],
                          [
                            0.2222222222222222,
                            "#7201a8"
                          ],
                          [
                            0.3333333333333333,
                            "#9c179e"
                          ],
                          [
                            0.4444444444444444,
                            "#bd3786"
                          ],
                          [
                            0.5555555555555556,
                            "#d8576b"
                          ],
                          [
                            0.6666666666666666,
                            "#ed7953"
                          ],
                          [
                            0.7777777777777778,
                            "#fb9f3a"
                          ],
                          [
                            0.8888888888888888,
                            "#fdca26"
                          ],
                          [
                            1,
                            "#f0f921"
                          ]
                        ],
                        "type": "heatmap"
                      }
                    ],
                    "heatmapgl": [
                      {
                        "colorbar": {
                          "outlinewidth": 0,
                          "ticks": ""
                        },
                        "colorscale": [
                          [
                            0,
                            "#0d0887"
                          ],
                          [
                            0.1111111111111111,
                            "#46039f"
                          ],
                          [
                            0.2222222222222222,
                            "#7201a8"
                          ],
                          [
                            0.3333333333333333,
                            "#9c179e"
                          ],
                          [
                            0.4444444444444444,
                            "#bd3786"
                          ],
                          [
                            0.5555555555555556,
                            "#d8576b"
                          ],
                          [
                            0.6666666666666666,
                            "#ed7953"
                          ],
                          [
                            0.7777777777777778,
                            "#fb9f3a"
                          ],
                          [
                            0.8888888888888888,
                            "#fdca26"
                          ],
                          [
                            1,
                            "#f0f921"
                          ]
                        ],
                        "type": "heatmapgl"
                      }
                    ],
                    "histogram": [
                      {
                        "marker": {
                          "pattern": {
                            "fillmode": "overlay",
                            "size": 10,
                            "solidity": 0.2
                          }
                        },
                        "type": "histogram"
                      }
                    ],
                    "histogram2d": [
                      {
                        "colorbar": {
                          "outlinewidth": 0,
                          "ticks": ""
                        },
                        "colorscale": [
                          [
                            0,
                            "#0d0887"
                          ],
                          [
                            0.1111111111111111,
                            "#46039f"
                          ],
                          [
                            0.2222222222222222,
                            "#7201a8"
                          ],
                          [
                            0.3333333333333333,
                            "#9c179e"
                          ],
                          [
                            0.4444444444444444,
                            "#bd3786"
                          ],
                          [
                            0.5555555555555556,
                            "#d8576b"
                          ],
                          [
                            0.6666666666666666,
                            "#ed7953"
                          ],
                          [
                            0.7777777777777778,
                            "#fb9f3a"
                          ],
                          [
                            0.8888888888888888,
                            "#fdca26"
                          ],
                          [
                            1,
                            "#f0f921"
                          ]
                        ],
                        "type": "histogram2d"
                      }
                    ],
                    "histogram2dcontour": [
                      {
                        "colorbar": {
                          "outlinewidth": 0,
                          "ticks": ""
                        },
                        "colorscale": [
                          [
                            0,
                            "#0d0887"
                          ],
                          [
                            0.1111111111111111,
                            "#46039f"
                          ],
                          [
                            0.2222222222222222,
                            "#7201a8"
                          ],
                          [
                            0.3333333333333333,
                            "#9c179e"
                          ],
                          [
                            0.4444444444444444,
                            "#bd3786"
                          ],
                          [
                            0.5555555555555556,
                            "#d8576b"
                          ],
                          [
                            0.6666666666666666,
                            "#ed7953"
                          ],
                          [
                            0.7777777777777778,
                            "#fb9f3a"
                          ],
                          [
                            0.8888888888888888,
                            "#fdca26"
                          ],
                          [
                            1,
                            "#f0f921"
                          ]
                        ],
                        "type": "histogram2dcontour"
                      }
                    ],
                    "mesh3d": [
                      {
                        "colorbar": {
                          "outlinewidth": 0,
                          "ticks": ""
                        },
                        "type": "mesh3d"
                      }
                    ],
                    "parcoords": [
                      {
                        "line": {
                          "colorbar": {
                            "outlinewidth": 0,
                            "ticks": ""
                          }
                        },
                        "type": "parcoords"
                      }
                    ],
                    "pie": [
                      {
                        "automargin": true,
                        "type": "pie"
                      }
                    ],
                    "scatter": [
                      {
                        "fillpattern": {
                          "fillmode": "overlay",
                          "size": 10,
                          "solidity": 0.2
                        },
                        "type": "scatter"
                      }
                    ],
                    "scatter3d": [
                      {
                        "line": {
                          "colorbar": {
                            "outlinewidth": 0,
                            "ticks": ""
                          }
                        },
                        "marker": {
                          "colorbar": {
                            "outlinewidth": 0,
                            "ticks": ""
                          }
                        },
                        "type": "scatter3d"
                      }
                    ],
                    "scattercarpet": [
                      {
                        "marker": {
                          "colorbar": {
                            "outlinewidth": 0,
                            "ticks": ""
                          }
                        },
                        "type": "scattercarpet"
                      }
                    ],
                    "scattergeo": [
                      {
                        "marker": {
                          "colorbar": {
                            "outlinewidth": 0,
                            "ticks": ""
                          }
                        },
                        "type": "scattergeo"
                      }
                    ],
                    "scattergl": [
                      {
                        "marker": {
                          "colorbar": {
                            "outlinewidth": 0,
                            "ticks": ""
                          }
                        },
                        "type": "scattergl"
                      }
                    ],
                    "scattermapbox": [
                      {
                        "marker": {
                          "colorbar": {
                            "outlinewidth": 0,
                            "ticks": ""
                          }
                        },
                        "type": "scattermapbox"
                      }
                    ],
                    "scatterpolar": [
                      {
                        "marker": {
                          "colorbar": {
                            "outlinewidth": 0,
                            "ticks": ""
                          }
                        },
                        "type": "scatterpolar"
                      }
                    ],
                    "scatterpolargl": [
                      {
                        "marker": {
                          "colorbar": {
                            "outlinewidth": 0,
                            "ticks": ""
                          }
                        },
                        "type": "scatterpolargl"
                      }
                    ],
                    "scatterternary": [
                      {
                        "marker": {
                          "colorbar": {
                            "outlinewidth": 0,
                            "ticks": ""
                          }
                        },
                        "type": "scatterternary"
                      }
                    ],
                    "surface": [
                      {
                        "colorbar": {
                          "outlinewidth": 0,
                          "ticks": ""
                        },
                        "colorscale": [
                          [
                            0,
                            "#0d0887"
                          ],
                          [
                            0.1111111111111111,
                            "#46039f"
                          ],
                          [
                            0.2222222222222222,
                            "#7201a8"
                          ],
                          [
                            0.3333333333333333,
                            "#9c179e"
                          ],
                          [
                            0.4444444444444444,
                            "#bd3786"
                          ],
                          [
                            0.5555555555555556,
                            "#d8576b"
                          ],
                          [
                            0.6666666666666666,
                            "#ed7953"
                          ],
                          [
                            0.7777777777777778,
                            "#fb9f3a"
                          ],
                          [
                            0.8888888888888888,
                            "#fdca26"
                          ],
                          [
                            1,
                            "#f0f921"
                          ]
                        ],
                        "type": "surface"
                      }
                    ],
                    "table": [
                      {
                        "cells": {
                          "fill": {
                            "color": "#EBF0F8"
                          },
                          "line": {
                            "color": "white"
                          }
                        },
                        "header": {
                          "fill": {
                            "color": "#C8D4E3"
                          },
                          "line": {
                            "color": "white"
                          }
                        },
                        "type": "table"
                      }
                    ]
                  },
                  "layout": {
                    "annotationdefaults": {
                      "arrowcolor": "#2a3f5f",
                      "arrowhead": 0,
                      "arrowwidth": 1
                    },
                    "autotypenumbers": "strict",
                    "coloraxis": {
                      "colorbar": {
                        "outlinewidth": 0,
                        "ticks": ""
                      }
                    },
                    "colorscale": {
                      "diverging": [
                        [
                          0,
                          "#8e0152"
                        ],
                        [
                          0.1,
                          "#c51b7d"
                        ],
                        [
                          0.2,
                          "#de77ae"
                        ],
                        [
                          0.3,
                          "#f1b6da"
                        ],
                        [
                          0.4,
                          "#fde0ef"
                        ],
                        [
                          0.5,
                          "#f7f7f7"
                        ],
                        [
                          0.6,
                          "#e6f5d0"
                        ],
                        [
                          0.7,
                          "#b8e186"
                        ],
                        [
                          0.8,
                          "#7fbc41"
                        ],
                        [
                          0.9,
                          "#4d9221"
                        ],
                        [
                          1,
                          "#276419"
                        ]
                      ],
                      "sequential": [
                        [
                          0,
                          "#0d0887"
                        ],
                        [
                          0.1111111111111111,
                          "#46039f"
                        ],
                        [
                          0.2222222222222222,
                          "#7201a8"
                        ],
                        [
                          0.3333333333333333,
                          "#9c179e"
                        ],
                        [
                          0.4444444444444444,
                          "#bd3786"
                        ],
                        [
                          0.5555555555555556,
                          "#d8576b"
                        ],
                        [
                          0.6666666666666666,
                          "#ed7953"
                        ],
                        [
                          0.7777777777777778,
                          "#fb9f3a"
                        ],
                        [
                          0.8888888888888888,
                          "#fdca26"
                        ],
                        [
                          1,
                          "#f0f921"
                        ]
                      ],
                      "sequentialminus": [
                        [
                          0,
                          "#0d0887"
                        ],
                        [
                          0.1111111111111111,
                          "#46039f"
                        ],
                        [
                          0.2222222222222222,
                          "#7201a8"
                        ],
                        [
                          0.3333333333333333,
                          "#9c179e"
                        ],
                        [
                          0.4444444444444444,
                          "#bd3786"
                        ],
                        [
                          0.5555555555555556,
                          "#d8576b"
                        ],
                        [
                          0.6666666666666666,
                          "#ed7953"
                        ],
                        [
                          0.7777777777777778,
                          "#fb9f3a"
                        ],
                        [
                          0.8888888888888888,
                          "#fdca26"
                        ],
                        [
                          1,
                          "#f0f921"
                        ]
                      ]
                    },
                    "colorway": [
                      "#636efa",
                      "#EF553B",
                      "#00cc96",
                      "#ab63fa",
                      "#FFA15A",
                      "#19d3f3",
                      "#FF6692",
                      "#B6E880",
                      "#FF97FF",
                      "#FECB52"
                    ],
                    "font": {
                      "color": "#2a3f5f"
                    },
                    "geo": {
                      "bgcolor": "white",
                      "lakecolor": "white",
                      "landcolor": "#E5ECF6",
                      "showlakes": true,
                      "showland": true,
                      "subunitcolor": "white"
                    },
                    "hoverlabel": {
                      "align": "left"
                    },
                    "hovermode": "closest",
                    "mapbox": {
                      "style": "light"
                    },
                    "paper_bgcolor": "white",
                    "plot_bgcolor": "#E5ECF6",
                    "polar": {
                      "angularaxis": {
                        "gridcolor": "white",
                        "linecolor": "white",
                        "ticks": ""
                      },
                      "bgcolor": "#E5ECF6",
                      "radialaxis": {
                        "gridcolor": "white",
                        "linecolor": "white",
                        "ticks": ""
                      }
                    },
                    "scene": {
                      "xaxis": {
                        "backgroundcolor": "#E5ECF6",
                        "gridcolor": "white",
                        "gridwidth": 2,
                        "linecolor": "white",
                        "showbackground": true,
                        "ticks": "",
                        "zerolinecolor": "white"
                      },
                      "yaxis": {
                        "backgroundcolor": "#E5ECF6",
                        "gridcolor": "white",
                        "gridwidth": 2,
                        "linecolor": "white",
                        "showbackground": true,
                        "ticks": "",
                        "zerolinecolor": "white"
                      },
                      "zaxis": {
                        "backgroundcolor": "#E5ECF6",
                        "gridcolor": "white",
                        "gridwidth": 2,
                        "linecolor": "white",
                        "showbackground": true,
                        "ticks": "",
                        "zerolinecolor": "white"
                      }
                    },
                    "shapedefaults": {
                      "line": {
                        "color": "#2a3f5f"
                      }
                    },
                    "ternary": {
                      "aaxis": {
                        "gridcolor": "white",
                        "linecolor": "white",
                        "ticks": ""
                      },
                      "baxis": {
                        "gridcolor": "white",
                        "linecolor": "white",
                        "ticks": ""
                      },
                      "bgcolor": "#E5ECF6",
                      "caxis": {
                        "gridcolor": "white",
                        "linecolor": "white",
                        "ticks": ""
                      }
                    },
                    "title": {
                      "x": 0.05
                    },
                    "xaxis": {
                      "automargin": true,
                      "gridcolor": "white",
                      "linecolor": "white",
                      "ticks": "",
                      "title": {
                        "standoff": 15
                      },
                      "zerolinecolor": "white",
                      "zerolinewidth": 2
                    },
                    "yaxis": {
                      "automargin": true,
                      "gridcolor": "white",
                      "linecolor": "white",
                      "ticks": "",
                      "title": {
                        "standoff": 15
                      },
                      "zerolinecolor": "white",
                      "zerolinewidth": 2
                    }
                  }
                },
                "title": {
                  "text": "attribution patching"
                },
                "xaxis": {
                  "anchor": "y",
                  "constrain": "domain",
                  "domain": [
                    0,
                    1
                  ],
                  "scaleanchor": "y",
                  "title": {
                    "text": "Feature Idx"
                  }
                },
                "yaxis": {
                  "anchor": "x",
                  "autorange": "reversed",
                  "constrain": "domain",
                  "domain": [
                    0,
                    1
                  ],
                  "title": {
                    "text": "Prompt Idx"
                  }
                }
              }
            }
          },
          "metadata": {},
          "output_type": "display_data"
        }
      ],
      "source": [
        "px.imshow(\n",
        "    sae_act_attr[:, s2_pos, all_live_features].cpu(),\n",
        "    color_continuous_midpoint=0,\n",
        "    color_continuous_scale='RdBu',\n",
        "    title=\"attribution patching\",\n",
        "    labels = {\"x\":\"Feature Idx\", \"y\":\"Prompt Idx\"},\n",
        "    x=list(map(str, all_live_features.tolist()))\n",
        ")"
      ]
    },
    {
      "cell_type": "code",
      "execution_count": 57,
      "metadata": {
        "id": "w0mjg_EDviiG",
        "outputId": "9ef584f0-2a37-4308-c80b-e7a6cb6f6b36"
      },
      "outputs": [
        {
          "data": {
            "application/vnd.plotly.v1+json": {
              "config": {
                "plotlyServerURL": "https://plotly.com"
              },
              "data": [
                {
                  "hovertemplate": "Activation Patch=%{x}<br>Attribution Patch=%{y}<extra></extra>",
                  "legendgroup": "",
                  "marker": {
                    "color": "#636efa",
                    "symbol": "circle"
                  },
                  "mode": "markers",
                  "name": "",
                  "showlegend": false,
                  "type": "scattergl",
                  "x": [
                    0.000003814697265625,
                    0.000003814697265625,
                    0.000003814697265625,
                    0.06219196319580078,
                    0.000003814697265625,
                    0.000003814697265625,
                    0.18638324737548828,
                    -0.002384185791015625,
                    0.000003814697265625,
                    0.000003814697265625,
                    0.4629383087158203,
                    0.000003814697265625,
                    0.000003814697265625,
                    0.02152252197265625,
                    -0.0006532669067382812,
                    0.000003814697265625,
                    0.000003814697265625,
                    0.000003814697265625,
                    0.48917484283447266,
                    0.009825706481933594,
                    0.4491910934448242,
                    -0.010259628295898438,
                    0.000003814697265625,
                    0.000003814697265625,
                    0.000003814697265625,
                    0.000003814697265625,
                    0.000003814697265625,
                    0.000003814697265625,
                    0.000003814697265625,
                    0.000003814697265625,
                    0.000003814697265625,
                    0.12126445770263672,
                    0.000003814697265625,
                    0.000003814697265625,
                    0.000003814697265625,
                    0.000003814697265625,
                    0.000003814697265625,
                    0.016615867614746094,
                    0.000003814697265625,
                    0.03840446472167969,
                    0.000003814697265625,
                    0.000003814697265625,
                    0.000003814697265625,
                    0.000003814697265625,
                    0.000003814697265625,
                    0.000003814697265625,
                    0.000003814697265625,
                    0.000003814697265625,
                    -0.0342864990234375,
                    0.000003814697265625,
                    0.000003814697265625,
                    -1.0834932327270508,
                    0.02311420440673828,
                    0.1613779067993164,
                    0.000003814697265625,
                    0.000003814697265625,
                    0.000003814697265625,
                    -0.13176727294921875,
                    -0.37799549102783203,
                    0.000003814697265625,
                    0.1570892333984375,
                    -0.45723819732666016,
                    0.000003814697265625,
                    0.13063621520996094,
                    0.000003814697265625,
                    0.000003814697265625,
                    -0.025300025939941406,
                    -0.021450042724609375,
                    0.000003814697265625,
                    0.000003814697265625,
                    0.000003814697265625,
                    0.000003814697265625,
                    0.185760498046875,
                    0.000003814697265625,
                    0.000003814697265625,
                    -0.9867677688598633,
                    0.15603256225585938,
                    0.000003814697265625,
                    -0.12619972229003906,
                    0.000003814697265625,
                    0.000003814697265625,
                    0.024396896362304688,
                    -0.060009002685546875,
                    0.1433238983154297,
                    0.056613922119140625,
                    -0.03995513916015625,
                    0.000003814697265625,
                    0.3011808395385742,
                    0.1862964630126953,
                    0.000003814697265625,
                    0.000003814697265625,
                    -0.043422698974609375,
                    0.000003814697265625,
                    -0.0439910888671875,
                    0.000003814697265625,
                    0.0076427459716796875,
                    0.000003814697265625,
                    0.07160472869873047,
                    0.023023605346679688,
                    0.1076364517211914,
                    0.000003814697265625,
                    0.000003814697265625,
                    0.000003814697265625,
                    0.2919578552246094,
                    0.000003814697265625,
                    0.000003814697265625,
                    0.000003814697265625,
                    0.000003814697265625,
                    0.000003814697265625,
                    0.000003814697265625,
                    0.000003814697265625,
                    0.000003814697265625,
                    0.000003814697265625,
                    0.05567741394042969,
                    0.000003814697265625,
                    0.000003814697265625,
                    0.000003814697265625,
                    0.000003814697265625,
                    0.015536308288574219,
                    0.19452953338623047,
                    -0.046268463134765625,
                    0.00144195556640625,
                    0.000003814697265625,
                    0.000003814697265625,
                    0.000003814697265625,
                    0.000003814697265625,
                    0.000003814697265625,
                    0.11237239837646484,
                    0.000003814697265625,
                    0.000003814697265625,
                    0.000003814697265625,
                    0.008963584899902344,
                    0.000003814697265625,
                    0.09052658081054688,
                    0.000003814697265625,
                    0.000003814697265625,
                    0.000003814697265625,
                    0.03756904602050781,
                    0.000003814697265625,
                    -0.009874343872070312,
                    0.2938556671142578,
                    0.000003814697265625,
                    0.018228530883789062,
                    0.000003814697265625,
                    -0.017955780029296875,
                    0.010313034057617188,
                    0.000003814697265625,
                    0.000003814697265625,
                    0.000003814697265625,
                    0.000003814697265625,
                    0.000003814697265625,
                    0.00000762939453125,
                    0.00000762939453125,
                    0.00000762939453125,
                    -0.02685546875,
                    0.00000762939453125,
                    -0.16701507568359375,
                    0.15632057189941406,
                    0.011854171752929688,
                    0.00000762939453125,
                    0.00000762939453125,
                    0.6089706420898438,
                    0.00000762939453125,
                    0.00000762939453125,
                    0.00000762939453125,
                    0.00000762939453125,
                    0.00000762939453125,
                    0.00000762939453125,
                    0.00000762939453125,
                    0.2545433044433594,
                    0.00000762939453125,
                    0.40605926513671875,
                    0.035953521728515625,
                    0.00000762939453125,
                    0.00000762939453125,
                    0.00000762939453125,
                    0.00000762939453125,
                    0.09966659545898438,
                    0.012540817260742188,
                    0.00000762939453125,
                    0.00000762939453125,
                    0.00000762939453125,
                    0.058811187744140625,
                    0.00000762939453125,
                    0.00000762939453125,
                    0.00000762939453125,
                    0.00000762939453125,
                    0.00000762939453125,
                    0.08737754821777344,
                    0.00000762939453125,
                    0.00000762939453125,
                    0.00000762939453125,
                    0.00000762939453125,
                    0.00000762939453125,
                    0.00000762939453125,
                    0.00000762939453125,
                    0.00000762939453125,
                    0.00000762939453125,
                    0.00000762939453125,
                    0.03859710693359375,
                    0.00000762939453125,
                    0.00000762939453125,
                    0.00000762939453125,
                    0.15721511840820312,
                    0.019147872924804688,
                    0.00000762939453125,
                    0.00000762939453125,
                    0.00000762939453125,
                    -0.1321735382080078,
                    -0.03897666931152344,
                    0.00000762939453125,
                    0.00000762939453125,
                    -0.2582378387451172,
                    0.00000762939453125,
                    0.028417587280273438,
                    0.00000762939453125,
                    0.00000762939453125,
                    -0.025760650634765625,
                    -0.001415252685546875,
                    0.00000762939453125,
                    0.00000762939453125,
                    0.00000762939453125,
                    0.00000762939453125,
                    0.04844474792480469,
                    0.00000762939453125,
                    -0.00380706787109375,
                    0.0984039306640625,
                    0.00000762939453125,
                    0.00000762939453125,
                    0.00000762939453125,
                    0.00000762939453125,
                    -2.5627365112304688,
                    0.03494834899902344,
                    -0.10680389404296875,
                    0.00000762939453125,
                    0.06961822509765625,
                    0.00000762939453125,
                    0.00000762939453125,
                    0.4580879211425781,
                    0.06684684753417969,
                    0.00000762939453125,
                    0.00000762939453125,
                    0.00000762939453125,
                    0.00000762939453125,
                    0.00000762939453125,
                    0.00000762939453125,
                    0.000286102294921875,
                    0.00000762939453125,
                    0.026628494262695312,
                    0.00000762939453125,
                    0.12370109558105469,
                    0.0062007904052734375,
                    0.00000762939453125,
                    0.00000762939453125,
                    0.2528362274169922,
                    0.00000762939453125,
                    0.00000762939453125,
                    0.016103744506835938,
                    0.00000762939453125,
                    0.008884429931640625,
                    -0.06573867797851562,
                    0.00000762939453125,
                    0.00000762939453125,
                    0.00000762939453125,
                    0.12064743041992188,
                    0.00000762939453125,
                    -0.04632759094238281,
                    0.00000762939453125,
                    0.00000762939453125,
                    0.00000762939453125,
                    0.20085716247558594,
                    0.009120941162109375,
                    0.00000762939453125,
                    0.00000762939453125,
                    0.00000762939453125,
                    0.00000762939453125,
                    0.00000762939453125,
                    0.00000762939453125,
                    0.10132217407226562,
                    0.00000762939453125,
                    0.00000762939453125,
                    0.00000762939453125,
                    0.013126373291015625,
                    0.00000762939453125,
                    0.09702110290527344,
                    0.00000762939453125,
                    0.00000762939453125,
                    0.00000762939453125,
                    0.00368499755859375,
                    0.00000762939453125,
                    0.00000762939453125,
                    0.041721343994140625,
                    -0.23358535766601562,
                    0.00000762939453125,
                    0.00000762939453125,
                    0.00000762939453125,
                    0.0028533935546875,
                    0.00000762939453125,
                    -0.08920097351074219,
                    0.00000762939453125,
                    0.00000762939453125,
                    0.00000762939453125,
                    0.0000019073486328125,
                    0.04628467559814453,
                    -0.004860877990722656,
                    0.0000019073486328125,
                    0.0000019073486328125,
                    -0.007544517517089844,
                    0.11227798461914062,
                    0.01680755615234375,
                    0.0000019073486328125,
                    0.0000019073486328125,
                    0.6189231872558594,
                    0.0000019073486328125,
                    0.0000019073486328125,
                    0.0000019073486328125,
                    0.0000019073486328125,
                    0.0000019073486328125,
                    0.0000019073486328125,
                    0.0000019073486328125,
                    0.12444686889648438,
                    0.0000019073486328125,
                    0.26934814453125,
                    0.012610435485839844,
                    -0.03045368194580078,
                    0.0000019073486328125,
                    0.0000019073486328125,
                    -0.022089004516601562,
                    0.0000019073486328125,
                    0.0000019073486328125,
                    0.0000019073486328125,
                    0.0000019073486328125,
                    0.0000019073486328125,
                    0.18587112426757812,
                    0.0000019073486328125,
                    0.0000019073486328125,
                    0.0000019073486328125,
                    0.0000019073486328125,
                    -0.036993980407714844,
                    0.08655452728271484,
                    0.0000019073486328125,
                    0.043801307678222656,
                    0.0000019073486328125,
                    0.0000019073486328125,
                    0.0000019073486328125,
                    0.0000019073486328125,
                    -0.027482032775878906,
                    0.0000019073486328125,
                    0.0000019073486328125,
                    0.0000019073486328125,
                    -0.0196380615234375,
                    0.0000019073486328125,
                    0.0000019073486328125,
                    0.0000019073486328125,
                    0.1364574432373047,
                    0.09352397918701172,
                    0.07212257385253906,
                    0.0000019073486328125,
                    0.0000019073486328125,
                    -0.07371330261230469,
                    -0.7202577590942383,
                    0.0000019073486328125,
                    0.10539054870605469,
                    -0.8295040130615234,
                    0.0000019073486328125,
                    0.07479476928710938,
                    0.0000019073486328125,
                    -0.0014448165893554688,
                    -0.012427330017089844,
                    -0.005169868469238281,
                    0.0000019073486328125,
                    0.0000019073486328125,
                    0.0000019073486328125,
                    -0.0027942657470703125,
                    0.37263011932373047,
                    0.0000019073486328125,
                    0.0000019073486328125,
                    -1.686777114868164,
                    0.0000019073486328125,
                    0.0000019073486328125,
                    0.0000019073486328125,
                    0.0000019073486328125,
                    0.0000019073486328125,
                    0.0000019073486328125,
                    -0.09201240539550781,
                    0.05781269073486328,
                    0.24144840240478516,
                    -0.0018510818481445312,
                    0.0000019073486328125,
                    0.5469264984130859,
                    -0.023087501525878906,
                    0.11675643920898438,
                    0.0000019073486328125,
                    0.0000019073486328125,
                    0.0000019073486328125,
                    0.0000019073486328125,
                    0.0000019073486328125,
                    0.0000019073486328125,
                    0.0000019073486328125,
                    0.2538738250732422,
                    0.0064029693603515625,
                    0.07348918914794922,
                    0.0000019073486328125,
                    0.10746383666992188,
                    0.006592750549316406,
                    0.1578216552734375,
                    0.0000019073486328125,
                    0.0000019073486328125,
                    0.07730293273925781,
                    0.0000019073486328125,
                    0.0000019073486328125,
                    0.0000019073486328125,
                    0.0045318603515625,
                    0.0000019073486328125,
                    0.0000019073486328125,
                    0.0000019073486328125,
                    0.0000019073486328125,
                    0.0000019073486328125,
                    0.0000019073486328125,
                    0.0000019073486328125,
                    0.0000019073486328125,
                    0.15830326080322266,
                    -0.0072689056396484375,
                    0.0000019073486328125,
                    0.0000019073486328125,
                    0.0000019073486328125,
                    0.000301361083984375,
                    0.0000019073486328125,
                    0.2461376190185547,
                    0.20286941528320312,
                    0.0000019073486328125,
                    0.0000019073486328125,
                    0.0000019073486328125,
                    0.14667987823486328,
                    0.0000019073486328125,
                    0.20287799835205078,
                    0.0000019073486328125,
                    0.0000019073486328125,
                    0.0000019073486328125,
                    0.0000019073486328125,
                    0.0000019073486328125,
                    -0.06650447845458984,
                    0.02658557891845703,
                    0.0000019073486328125,
                    0.0000019073486328125,
                    -0.0043468475341796875,
                    -0.10391807556152344,
                    -0.005864143371582031,
                    0.0000019073486328125,
                    0.0000019073486328125,
                    0.0000019073486328125,
                    0.0000019073486328125,
                    0.07328414916992188,
                    -0.0000019073486328125,
                    0.01802539825439453,
                    -0.0000019073486328125,
                    -0.0000019073486328125,
                    -0.0000019073486328125,
                    -0.0000019073486328125,
                    0.045304298400878906,
                    -0.0000019073486328125,
                    -0.0000019073486328125,
                    -0.0000019073486328125,
                    0.46239471435546875,
                    -0.0000019073486328125,
                    -0.0000019073486328125,
                    -0.0000019073486328125,
                    -0.0000019073486328125,
                    -0.0000019073486328125,
                    -0.0000019073486328125,
                    -0.0000019073486328125,
                    0.2299642562866211,
                    -0.0000019073486328125,
                    0.36560630798339844,
                    0.022719383239746094,
                    -0.0000019073486328125,
                    -0.0000019073486328125,
                    -0.0000019073486328125,
                    -0.0000019073486328125,
                    -0.0000019073486328125,
                    -0.0000019073486328125,
                    -0.0000019073486328125,
                    -0.0000019073486328125,
                    -0.0000019073486328125,
                    -0.0000019073486328125,
                    -0.0000019073486328125,
                    -0.0000019073486328125,
                    -0.0000019073486328125,
                    -0.0000019073486328125,
                    -0.0000019073486328125,
                    0.1878070831298828,
                    -0.0000019073486328125,
                    -0.0000019073486328125,
                    0.03290748596191406,
                    -0.0000019073486328125,
                    -0.0000019073486328125,
                    -0.0000019073486328125,
                    -0.04579639434814453,
                    -2.5043554306030273,
                    -0.0000019073486328125,
                    -0.0000019073486328125,
                    -0.0000019073486328125,
                    -0.0000019073486328125,
                    -0.0000019073486328125,
                    -0.0000019073486328125,
                    -0.0000019073486328125,
                    -0.0000019073486328125,
                    -0.0000019073486328125,
                    -0.0000019073486328125,
                    -0.0000019073486328125,
                    -0.1492757797241211,
                    0.20794963836669922,
                    -0.0000019073486328125,
                    -0.0000019073486328125,
                    -0.4420480728149414,
                    -0.0000019073486328125,
                    -0.0000019073486328125,
                    -0.0000019073486328125,
                    -0.0000019073486328125,
                    -0.036357879638671875,
                    -0.0000019073486328125,
                    -0.0000019073486328125,
                    -0.0010280609130859375,
                    -0.0000019073486328125,
                    -0.0000019073486328125,
                    0.08220386505126953,
                    -0.0000019073486328125,
                    -0.0000019073486328125,
                    -0.0000019073486328125,
                    -0.0000019073486328125,
                    -0.0000019073486328125,
                    -0.0000019073486328125,
                    -0.0000019073486328125,
                    -0.0000019073486328125,
                    -0.0000019073486328125,
                    -0.06905746459960938,
                    -0.0000019073486328125,
                    -0.0000019073486328125,
                    -0.013476371765136719,
                    -0.0000019073486328125,
                    0.3585329055786133,
                    0.1654987335205078,
                    0.06252098083496094,
                    -0.0000019073486328125,
                    -0.0000019073486328125,
                    -0.0000019073486328125,
                    -0.09265804290771484,
                    -0.0000019073486328125,
                    -0.0000019073486328125,
                    -0.0000019073486328125,
                    0.08502769470214844,
                    -0.0000019073486328125,
                    -0.0000019073486328125,
                    -0.0000019073486328125,
                    -0.0000019073486328125,
                    -0.0000019073486328125,
                    -0.0000019073486328125,
                    -0.0000019073486328125,
                    -0.0000019073486328125,
                    0.13251304626464844,
                    -0.0000019073486328125,
                    -0.0000019073486328125,
                    -0.10399723052978516,
                    -0.0000019073486328125,
                    -0.0000019073486328125,
                    -0.0000019073486328125,
                    -0.0000019073486328125,
                    -0.0000019073486328125,
                    -0.013325691223144531,
                    -0.0000019073486328125,
                    -0.0000019073486328125,
                    -0.0000019073486328125,
                    0.16429615020751953,
                    -0.0000019073486328125,
                    -0.0000019073486328125,
                    -0.0000019073486328125,
                    -0.0000019073486328125,
                    -0.0000019073486328125,
                    -0.0000019073486328125,
                    -0.0000019073486328125,
                    -0.0000019073486328125,
                    -0.0000019073486328125,
                    -0.0000019073486328125,
                    -0.0000019073486328125,
                    0.13036537170410156,
                    -0.0000019073486328125,
                    0.19038677215576172,
                    -0.0000019073486328125,
                    0.017185211181640625,
                    -0.0000019073486328125,
                    0.009409904479980469,
                    -0.0000019073486328125,
                    -0.022335052490234375,
                    -0.0000019073486328125,
                    -0.5751352310180664,
                    -0.0000019073486328125,
                    -0.0000019073486328125,
                    -0.0000019073486328125,
                    0.0015497207641601562,
                    -0.0000019073486328125,
                    -0.0818939208984375,
                    -0.02527904510498047,
                    -0.0000019073486328125,
                    -0.0000019073486328125,
                    -0.1460428237915039,
                    -0.0000019073486328125,
                    -0.009538650512695312,
                    -0.0000019073486328125,
                    -0.0000019073486328125,
                    -0.0000019073486328125,
                    0.32062244415283203,
                    -0.0000019073486328125,
                    -0.0000019073486328125,
                    -0.0018138885498046875,
                    0.5917558670043945,
                    -0.05107402801513672,
                    -0.0000019073486328125,
                    -0.0000019073486328125,
                    -0.0000019073486328125,
                    -0.01882171630859375,
                    -0.012936592102050781,
                    -0.008539199829101562,
                    0.33266448974609375,
                    -0.0000019073486328125,
                    0.39891624450683594,
                    -0.0000019073486328125,
                    -0.0000019073486328125,
                    -0.0006113052368164062,
                    -0.0000019073486328125,
                    -0.0000019073486328125,
                    -0.0000019073486328125,
                    -0.0000019073486328125,
                    -0.0005273818969726562,
                    -0.001354217529296875,
                    -0.0000019073486328125,
                    0.11136722564697266,
                    -0.0000019073486328125,
                    -0.0000019073486328125,
                    -0.0000019073486328125,
                    -0.09599781036376953,
                    -0.0000019073486328125,
                    0.3288078308105469,
                    -0.0000019073486328125,
                    0.0007619857788085938,
                    -0.0000019073486328125,
                    -0.0000019073486328125,
                    -0.09167766571044922,
                    -0.0000019073486328125,
                    -0.0000019073486328125,
                    -0.0000019073486328125,
                    -0.1165456771850586,
                    0.08430767059326172,
                    -0.0000019073486328125,
                    -0.0000019073486328125,
                    -0.07518386840820312,
                    -0.0000019073486328125,
                    0.10505962371826172,
                    -0.0000019073486328125,
                    -0.0000019073486328125,
                    -0.0200347900390625,
                    -0.0000019073486328125,
                    -0.10428333282470703,
                    -0.7361412048339844,
                    -0.0000019073486328125,
                    -0.0000019073486328125,
                    -0.7259578704833984,
                    -0.0000019073486328125,
                    0.11589717864990234,
                    -0.0000019073486328125,
                    -0.0000019073486328125,
                    -0.0005397796630859375,
                    -0.011551856994628906,
                    -0.22110557556152344,
                    -0.0000019073486328125,
                    -0.0000019073486328125,
                    -0.0000019073486328125,
                    0.36485767364501953,
                    -0.13214492797851562,
                    -0.0000019073486328125,
                    -1.0709028244018555,
                    -0.0000019073486328125,
                    -0.0000019073486328125,
                    -0.0000019073486328125,
                    0.0007829666137695312,
                    -0.0000019073486328125,
                    -0.0000019073486328125,
                    -0.011826515197753906,
                    -0.0000019073486328125,
                    -0.0000019073486328125,
                    0.009185791015625,
                    0.0021429061889648438,
                    0.28792381286621094,
                    -0.012146949768066406,
                    -0.0000019073486328125,
                    -0.0000019073486328125,
                    -0.0000019073486328125,
                    -0.0000019073486328125,
                    -0.0689239501953125,
                    0.0019769668579101562,
                    0.0070018768310546875,
                    -0.0000019073486328125,
                    -0.0000019073486328125,
                    -0.0000019073486328125,
                    0.14781570434570312,
                    -0.0000019073486328125,
                    0.02388477325439453,
                    -0.0000019073486328125,
                    0.34143543243408203,
                    0.0794229507446289,
                    0.0107574462890625,
                    -0.0000019073486328125,
                    -0.10117912292480469,
                    -0.0000019073486328125,
                    -0.0000019073486328125,
                    -0.0000019073486328125,
                    -0.0000019073486328125,
                    0.008723258972167969,
                    -0.0000019073486328125,
                    -0.0102691650390625,
                    -0.0000019073486328125,
                    -0.0000019073486328125,
                    -0.0000019073486328125,
                    -0.0000019073486328125,
                    0.24133968353271484,
                    -0.0000019073486328125,
                    -0.0000019073486328125,
                    0.0033960342407226562,
                    -0.10147857666015625,
                    -0.0000019073486328125,
                    -0.013170242309570312,
                    -0.0000019073486328125,
                    0.12518596649169922,
                    0.00018310546875,
                    -0.01972484588623047,
                    -0.0000019073486328125,
                    -0.0000019073486328125,
                    0.04071331024169922,
                    0.6454524993896484,
                    0.16443729400634766,
                    0.2697792053222656,
                    -0.0021486282348632812,
                    -0.0000019073486328125,
                    -0.0000019073486328125,
                    -0.020877838134765625,
                    -0.0000019073486328125,
                    -0.0000019073486328125,
                    -0.0000019073486328125,
                    -0.0000019073486328125,
                    -0.0000019073486328125,
                    -0.0000019073486328125,
                    -0.0000019073486328125,
                    -0.0000019073486328125,
                    -0.0000019073486328125,
                    -0.005797386169433594,
                    -0.0000019073486328125,
                    0.00000476837158203125,
                    0.00000476837158203125,
                    0.00000476837158203125,
                    0.00000476837158203125,
                    0.00000476837158203125,
                    0.00000476837158203125,
                    0.03802204132080078,
                    0.00000476837158203125,
                    0.00000476837158203125,
                    0.00000476837158203125,
                    0.8278303146362305,
                    -0.002376556396484375,
                    0.00000476837158203125,
                    0.00000476837158203125,
                    0.00000476837158203125,
                    0.00000476837158203125,
                    0.00000476837158203125,
                    0.00000476837158203125,
                    0.41495418548583984,
                    0.00000476837158203125,
                    0.463104248046875,
                    0.027510643005371094,
                    0.00000476837158203125,
                    0.00000476837158203125,
                    0.00000476837158203125,
                    0.00000476837158203125,
                    0.00000476837158203125,
                    0.00000476837158203125,
                    0.00000476837158203125,
                    0.00000476837158203125,
                    -0.047715187072753906,
                    0.00000476837158203125,
                    0.00000476837158203125,
                    0.00000476837158203125,
                    -0.013802528381347656,
                    0.00000476837158203125,
                    0.017719268798828125,
                    0.26462841033935547,
                    0.00000476837158203125,
                    0.00000476837158203125,
                    0.00000476837158203125,
                    0.00000476837158203125,
                    0.00000476837158203125,
                    0.00000476837158203125,
                    0.00000476837158203125,
                    0.00000476837158203125,
                    0.00000476837158203125,
                    0.00000476837158203125,
                    0.00000476837158203125,
                    0.00000476837158203125,
                    0.00000476837158203125,
                    0.00000476837158203125,
                    0.08305549621582031,
                    0.00000476837158203125,
                    0.00000476837158203125,
                    0.00000476837158203125,
                    0.00000476837158203125,
                    -0.14006328582763672,
                    0.1502857208251953,
                    0.00000476837158203125,
                    0.00000476837158203125,
                    -0.7184724807739258,
                    0.00000476837158203125,
                    0.058750152587890625,
                    0.00000476837158203125,
                    0.00000476837158203125,
                    -0.1087188720703125,
                    0.00000476837158203125,
                    0.00000476837158203125,
                    -0.011391639709472656,
                    -0.008767127990722656,
                    0.00000476837158203125,
                    0.17744827270507812,
                    0.00000476837158203125,
                    0.00000476837158203125,
                    0.00000476837158203125,
                    0.00000476837158203125,
                    0.00000476837158203125,
                    0.00000476837158203125,
                    0.00000476837158203125,
                    0.00000476837158203125,
                    0.00000476837158203125,
                    -0.17568111419677734,
                    0.00000476837158203125,
                    0.0030345916748046875,
                    -0.0840597152709961,
                    0.00000476837158203125,
                    0.5826311111450195,
                    0.11745262145996094,
                    0.14705371856689453,
                    0.00000476837158203125,
                    0.00000476837158203125,
                    0.00000476837158203125,
                    -0.12376022338867188,
                    0.00000476837158203125,
                    0.00000476837158203125,
                    -0.027660369873046875,
                    0.00000476837158203125,
                    0.00000476837158203125,
                    0.00000476837158203125,
                    0.00000476837158203125,
                    0.00000476837158203125,
                    0.00000476837158203125,
                    0.2689495086669922,
                    0.00000476837158203125,
                    0.00000476837158203125,
                    0.1106119155883789,
                    0.00000476837158203125,
                    0.00000476837158203125,
                    -0.22202205657958984,
                    0.00000476837158203125,
                    0.00000476837158203125,
                    0.00000476837158203125,
                    0.00000476837158203125,
                    0.00000476837158203125,
                    -0.007596015930175781,
                    0.00000476837158203125,
                    0.00000476837158203125,
                    0.00000476837158203125,
                    0.19268417358398438,
                    0.00000476837158203125,
                    0.00000476837158203125,
                    0.00000476837158203125,
                    -0.28527259826660156,
                    0.00000476837158203125,
                    0.00000476837158203125,
                    0.00000476837158203125,
                    0.0608062744140625,
                    0.00000476837158203125,
                    0.00000476837158203125,
                    -1.8821439743041992,
                    0.00000476837158203125,
                    0.00000476837158203125,
                    0.2927827835083008,
                    0.00000476837158203125,
                    0.00000476837158203125,
                    0.00000476837158203125,
                    0.00000476837158203125,
                    0.00000476837158203125,
                    -0.0008363723754882812,
                    0.00000476837158203125,
                    -0.8450784683227539,
                    0.00000476837158203125,
                    0.00000476837158203125,
                    0.00000476837158203125,
                    0.00000476837158203125,
                    0.00000476837158203125,
                    0.00000476837158203125,
                    0.00000476837158203125,
                    0.00000476837158203125,
                    0.00000476837158203125,
                    -0.00001239776611328125,
                    -0.00001239776611328125,
                    -0.00001239776611328125,
                    -0.00001239776611328125,
                    -0.00001239776611328125,
                    -0.00001239776611328125,
                    0.18758869171142578,
                    0.0019435882568359375,
                    0.004817008972167969,
                    -0.00001239776611328125,
                    0.5277843475341797,
                    -0.00001239776611328125,
                    -0.015438079833984375,
                    -0.00001239776611328125,
                    -0.00001239776611328125,
                    -0.00001239776611328125,
                    -0.00001239776611328125,
                    -0.00001239776611328125,
                    0.4428071975708008,
                    -0.00001239776611328125,
                    0.36574554443359375,
                    0.00018405914306640625,
                    -0.00001239776611328125,
                    -0.00001239776611328125,
                    -0.0036640167236328125,
                    -0.00001239776611328125,
                    -0.00001239776611328125,
                    -0.00001239776611328125,
                    -0.00001239776611328125,
                    -0.00001239776611328125,
                    -0.00001239776611328125,
                    0.1093740463256836,
                    0.006348609924316406,
                    -0.00001239776611328125,
                    -0.00001239776611328125,
                    -0.00001239776611328125,
                    -0.05899524688720703,
                    0.02704143524169922,
                    0.009674072265625,
                    -0.00001239776611328125,
                    -0.00001239776611328125,
                    -0.00001239776611328125,
                    -0.00001239776611328125,
                    -1.369786262512207,
                    -0.00001239776611328125,
                    -0.00001239776611328125,
                    -0.00001239776611328125,
                    -0.00001239776611328125,
                    -0.00001239776611328125,
                    0.09409332275390625,
                    -0.00001239776611328125,
                    -0.00001239776611328125,
                    0.018323898315429688,
                    0.26091766357421875,
                    -0.00001239776611328125,
                    -0.00001239776611328125,
                    -0.00001239776611328125,
                    -0.12709903717041016,
                    -0.15242862701416016,
                    -0.0072040557861328125,
                    -0.00001239776611328125,
                    -0.44463634490966797,
                    -0.00001239776611328125,
                    0.1788930892944336,
                    0.015226364135742188,
                    -0.00001239776611328125,
                    -0.0044689178466796875,
                    -0.012372016906738281,
                    -0.00001239776611328125,
                    -0.00001239776611328125,
                    -0.00001239776611328125,
                    -0.00001239776611328125,
                    0.3189973831176758,
                    -0.0016736984252929688,
                    -0.00001239776611328125,
                    -1.4678688049316406,
                    -0.00001239776611328125,
                    -0.001926422119140625,
                    -0.046619415283203125,
                    -0.00001239776611328125,
                    -0.00001239776611328125,
                    -0.00001239776611328125,
                    -0.05796623229980469,
                    0.09934711456298828,
                    0.13934040069580078,
                    -0.010216712951660156,
                    -0.00001239776611328125,
                    0.39983463287353516,
                    0.2925987243652344,
                    0.08632087707519531,
                    -0.041106224060058594,
                    -0.00001239776611328125,
                    -0.001220703125,
                    -0.00001239776611328125,
                    -0.00001239776611328125,
                    -0.00001239776611328125,
                    -0.00001239776611328125,
                    0.13341426849365234,
                    -0.00001239776611328125,
                    0.11526775360107422,
                    0.017620086669921875,
                    0.029356956481933594,
                    -0.00001239776611328125,
                    0.2668876647949219,
                    -0.00001239776611328125,
                    -0.00001239776611328125,
                    -0.00001239776611328125,
                    -0.00001239776611328125,
                    -0.00001239776611328125,
                    -0.00001239776611328125,
                    -0.00001239776611328125,
                    -0.0012025833129882812,
                    -0.00001239776611328125,
                    -0.00001239776611328125,
                    -0.00001239776611328125,
                    -0.00001239776611328125,
                    -0.00001239776611328125,
                    -0.00001239776611328125,
                    -0.00001239776611328125,
                    0.21044254302978516,
                    -0.033364295959472656,
                    -0.00001239776611328125,
                    -0.00001239776611328125,
                    -0.00001239776611328125,
                    -0.00001239776611328125,
                    -0.00001239776611328125,
                    -0.00001239776611328125,
                    0.12529468536376953,
                    -0.00001239776611328125,
                    -0.00001239776611328125,
                    -0.00001239776611328125,
                    0.13319110870361328,
                    -0.00001239776611328125,
                    0.1595916748046875,
                    -0.00001239776611328125,
                    -0.00001239776611328125,
                    -0.00001239776611328125,
                    -0.00001239776611328125,
                    0.04334831237792969,
                    -0.00001239776611328125,
                    -0.00001239776611328125,
                    -0.00001239776611328125,
                    -0.00001239776611328125,
                    -0.00001239776611328125,
                    -0.00000476837158203125,
                    0.0029582977294921875,
                    0.03506946563720703,
                    -0.00001239776611328125,
                    -0.00001239776611328125,
                    -0.00001239776611328125,
                    -0.00001239776611328125,
                    -0.00000667572021484375,
                    -0.00000667572021484375,
                    -0.00000667572021484375,
                    -0.00000667572021484375,
                    -1.461350440979004,
                    -0.00000667572021484375,
                    0.4581766128540039,
                    0.0015316009521484375,
                    -0.00000667572021484375,
                    -0.00000667572021484375,
                    1.2619514465332031,
                    -0.00000667572021484375,
                    -0.00000667572021484375,
                    -0.00000667572021484375,
                    -0.00000667572021484375,
                    -0.00000667572021484375,
                    -0.00000667572021484375,
                    -0.00000667572021484375,
                    0.7492752075195312,
                    -0.00000667572021484375,
                    0.6650495529174805,
                    -0.00000667572021484375,
                    -0.00000667572021484375,
                    -0.00000667572021484375,
                    -0.00000667572021484375,
                    -0.00000667572021484375,
                    -0.00000667572021484375,
                    -0.00000667572021484375,
                    -0.00000667572021484375,
                    -0.00000667572021484375,
                    -0.00000667572021484375,
                    -0.00000667572021484375,
                    -0.00000667572021484375,
                    -0.00025463104248046875,
                    -0.00000667572021484375,
                    -0.00000667572021484375,
                    -0.00000667572021484375,
                    -0.00000667572021484375,
                    -0.00000667572021484375,
                    -0.00000667572021484375,
                    -0.00000667572021484375,
                    0.007122993469238281,
                    -0.00000667572021484375,
                    -0.00000667572021484375,
                    -0.00000667572021484375,
                    -0.00000667572021484375,
                    -0.00000667572021484375,
                    -0.00000667572021484375,
                    -0.00000667572021484375,
                    -0.00000667572021484375,
                    -0.00000667572021484375,
                    -0.00000667572021484375,
                    0.0873117446899414,
                    0.07990264892578125,
                    -0.00000667572021484375,
                    -0.00000667572021484375,
                    0.0014362335205078125,
                    -0.35053348541259766,
                    0.060858726501464844,
                    -0.00000667572021484375,
                    -0.00000667572021484375,
                    -1.4249258041381836,
                    -0.0006113052368164062,
                    0.2700796127319336,
                    0.136199951171875,
                    -0.00000667572021484375,
                    -0.048851966857910156,
                    -0.00000667572021484375,
                    -0.00000667572021484375,
                    -0.00000667572021484375,
                    -0.00000667572021484375,
                    -0.00000667572021484375,
                    0.07477855682373047,
                    -0.00000667572021484375,
                    -0.00000667572021484375,
                    -0.00000667572021484375,
                    -0.00000667572021484375,
                    -0.00000667572021484375,
                    -0.00000667572021484375,
                    -0.00000667572021484375,
                    -0.00000667572021484375,
                    -0.00000667572021484375,
                    -0.2599773406982422,
                    -0.00000667572021484375,
                    -0.00000667572021484375,
                    -0.07086563110351562,
                    -0.00000667572021484375,
                    1.0328645706176758,
                    0.0752115249633789,
                    0.6256570816040039,
                    -0.00000667572021484375,
                    -0.00000667572021484375,
                    -0.00000667572021484375,
                    -0.00000667572021484375,
                    0.0027780532836914062,
                    -0.00000667572021484375,
                    -0.00000667572021484375,
                    0.35411834716796875,
                    -0.00000667572021484375,
                    -0.00000667572021484375,
                    0.029863357543945312,
                    -0.00000667572021484375,
                    -0.00000667572021484375,
                    0.3066120147705078,
                    -0.00000667572021484375,
                    -0.00000667572021484375,
                    0.22669410705566406,
                    -0.00000667572021484375,
                    -0.00000667572021484375,
                    -0.00000667572021484375,
                    -0.00000667572021484375,
                    -0.00000667572021484375,
                    -0.00000667572021484375,
                    -0.00000667572021484375,
                    -0.00000667572021484375,
                    -0.31525135040283203,
                    -0.05554485321044922,
                    -0.0036220550537109375,
                    -0.00000667572021484375,
                    0.3354930877685547,
                    -0.00000667572021484375,
                    -0.00000667572021484375,
                    -0.00000667572021484375,
                    -0.00000667572021484375,
                    -0.00000667572021484375,
                    -0.00000667572021484375,
                    -0.00000667572021484375,
                    0.12795352935791016,
                    -0.00000667572021484375,
                    -0.00000667572021484375,
                    -0.00000667572021484375,
                    0.0632162094116211,
                    -0.00000667572021484375,
                    0.5471019744873047,
                    -0.00000667572021484375,
                    -0.00000667572021484375,
                    -0.00000667572021484375,
                    -0.00000667572021484375,
                    0.1663341522216797,
                    -0.00000667572021484375,
                    -0.00000667572021484375,
                    -0.8685703277587891,
                    -0.00000667572021484375,
                    -0.00000667572021484375,
                    -0.00000667572021484375,
                    0.006747245788574219,
                    -0.00000667572021484375,
                    -0.05159473419189453,
                    -0.00000667572021484375,
                    -0.00000667572021484375,
                    -0.00000667572021484375
                  ],
                  "xaxis": "x",
                  "y": [
                    0,
                    0,
                    0,
                    0.0824991911649704,
                    0,
                    0,
                    0.16346850991249084,
                    -0.003686835989356041,
                    0,
                    0,
                    0.46269482374191284,
                    0,
                    0,
                    0.019261080771684647,
                    -0.002877929713577032,
                    0,
                    0,
                    0,
                    0.39822980761528015,
                    0.006853521801531315,
                    0.35071706771850586,
                    -0.004885397851467133,
                    0,
                    0,
                    0,
                    0,
                    0,
                    0,
                    0,
                    0,
                    0,
                    0.10226557403802872,
                    0,
                    0,
                    0,
                    0,
                    0,
                    0.013390542939305305,
                    0,
                    0.03311559557914734,
                    0,
                    0,
                    0,
                    0,
                    0,
                    0,
                    0,
                    0,
                    -0.04219800978899002,
                    0,
                    0,
                    -0.6452542543411255,
                    0.02401265688240528,
                    0.1332961767911911,
                    0,
                    0,
                    0,
                    -0.09519577771425247,
                    -0.11847320199012756,
                    0,
                    0.12436912953853607,
                    -0.3537864685058594,
                    0,
                    0.10549899935722351,
                    0,
                    0,
                    -0.019378911703824997,
                    -0.024425458163022995,
                    0,
                    0,
                    0,
                    0,
                    0.1509832739830017,
                    0,
                    0,
                    -0.958196222782135,
                    0.1278487890958786,
                    0,
                    -0.120358906686306,
                    0,
                    0,
                    0.004858559463173151,
                    -0.04731253534555435,
                    0.1324847936630249,
                    0.05242886021733284,
                    -0.025028802454471588,
                    0,
                    0.2783823311328888,
                    0.15312035381793976,
                    0,
                    0,
                    -0.03532980754971504,
                    0,
                    -0.04013069346547127,
                    0,
                    0.006723540369421244,
                    0,
                    0.05959032103419304,
                    0.01846257969737053,
                    0.08955264836549759,
                    0,
                    0,
                    0,
                    0.2322385311126709,
                    0,
                    0,
                    0,
                    0,
                    0,
                    0,
                    0,
                    0,
                    0,
                    0.045677121728658676,
                    0,
                    0,
                    0,
                    0,
                    0.012766268104314804,
                    0.15334613621234894,
                    -0.019699642434716225,
                    0.00048403156688436866,
                    0,
                    0,
                    0,
                    0,
                    0,
                    0.09047757834196091,
                    0,
                    0,
                    0,
                    0.007405520416796207,
                    0,
                    0.08048346638679504,
                    0,
                    0,
                    0,
                    0.03745371475815773,
                    0,
                    -0.004657891113311052,
                    0.24025173485279083,
                    0,
                    0.015391831286251545,
                    0,
                    -0.010849865153431892,
                    0.005173200741410255,
                    0,
                    0,
                    0,
                    0,
                    0,
                    0,
                    0,
                    0,
                    -0.07577890157699585,
                    0,
                    -0.09713954478502274,
                    0.12052816152572632,
                    0.0013584720436483622,
                    0,
                    0,
                    0.5497131943702698,
                    0,
                    0,
                    0,
                    0,
                    0,
                    0,
                    0,
                    0.2427162528038025,
                    0,
                    0.3534749746322632,
                    0.03256016969680786,
                    0,
                    0,
                    0,
                    0,
                    0.09120333194732666,
                    0.004919653758406639,
                    0,
                    0,
                    0,
                    0.05382654815912247,
                    0,
                    0,
                    0,
                    0,
                    0,
                    0.07858460396528244,
                    0,
                    0,
                    0,
                    0,
                    0,
                    0,
                    0,
                    0,
                    0,
                    0,
                    0.021152561530470848,
                    0,
                    0,
                    0,
                    0.15693789720535278,
                    0.01725807599723339,
                    0,
                    0,
                    0,
                    -0.12778796255588531,
                    0.13734601438045502,
                    0,
                    0,
                    -0.2626492381095886,
                    0,
                    0.02506471425294876,
                    0,
                    0,
                    -0.02451135590672493,
                    -0.0012645471142604947,
                    0,
                    0,
                    0,
                    0,
                    0.04351381957530975,
                    0,
                    -0.004623441491276026,
                    0.06768790632486343,
                    0,
                    0,
                    0,
                    0,
                    -1.693529725074768,
                    -0.025505755096673965,
                    -0.2056986540555954,
                    0,
                    0.06292855739593506,
                    0,
                    0,
                    0.4562610387802124,
                    0.05131861940026283,
                    0,
                    0,
                    0,
                    0,
                    0,
                    0,
                    0.00025298158288933337,
                    0,
                    0.02359836921095848,
                    0,
                    0.11767975240945816,
                    0.0038619276601821184,
                    0,
                    0,
                    0.21569429337978363,
                    0,
                    0,
                    0.015321584418416023,
                    0,
                    0.008321010507643223,
                    -0.06188911199569702,
                    0,
                    0,
                    0,
                    0.09055911749601364,
                    0,
                    -0.04117564484477043,
                    0,
                    0,
                    0,
                    0.15535317361354828,
                    0.0017094600480049849,
                    0,
                    0,
                    0,
                    0,
                    0,
                    0,
                    0.0876399576663971,
                    0,
                    0,
                    0,
                    0.01195529755204916,
                    0,
                    0.09514030069112778,
                    0,
                    0,
                    0,
                    0.00393842114135623,
                    0,
                    0,
                    0.03750840947031975,
                    -0.3842933475971222,
                    0,
                    0,
                    0,
                    0.0018438914557918906,
                    0,
                    -0.07845953851938248,
                    0,
                    0,
                    0,
                    0,
                    0.029235905036330223,
                    -0.003195882309228182,
                    0,
                    0,
                    -0.009984789416193962,
                    0.06941699236631393,
                    0.006251897197216749,
                    0,
                    0,
                    0.3888489007949829,
                    0,
                    0,
                    0,
                    0,
                    0,
                    0,
                    0,
                    0.07692928612232208,
                    0,
                    0.16098354756832123,
                    -0.006629406474530697,
                    -0.019726380705833435,
                    0,
                    0,
                    -0.008128207176923752,
                    0,
                    0,
                    0,
                    0,
                    0,
                    0.11587915569543839,
                    0,
                    0,
                    0,
                    0,
                    -0.02159009501338005,
                    0.05014466866850853,
                    0,
                    0.030364016070961952,
                    0,
                    0,
                    0,
                    0,
                    -0.01988242194056511,
                    0,
                    0,
                    0,
                    -0.011400753632187843,
                    0,
                    0,
                    0,
                    0.08814084529876709,
                    0.056142084300518036,
                    0.046838827431201935,
                    0,
                    0,
                    -0.04246307536959648,
                    -0.4018995761871338,
                    0,
                    0.06321024149656296,
                    -0.5023536682128906,
                    0,
                    0.043403588235378265,
                    0,
                    -0.002632404211908579,
                    -0.010486394166946411,
                    -0.007063691969960928,
                    0,
                    0,
                    0,
                    -0.003674266394227743,
                    0.23767144978046417,
                    0,
                    0,
                    -1.129129409790039,
                    0,
                    0,
                    0,
                    0,
                    0,
                    0,
                    -0.03235293924808502,
                    0.04559055715799332,
                    0.1490308940410614,
                    -0.0018548808293417096,
                    0,
                    0.37652894854545593,
                    0.013759246096014977,
                    0.06833285838365555,
                    0,
                    0,
                    0,
                    0,
                    0,
                    0,
                    0,
                    0.16409249603748322,
                    0.003830532543361187,
                    0.04495104029774666,
                    0,
                    0.06555512547492981,
                    0.004014021251350641,
                    0.09282922744750977,
                    0,
                    0,
                    0.05117759108543396,
                    0,
                    0,
                    0,
                    0.0024905153550207615,
                    0,
                    0,
                    0,
                    0,
                    0,
                    0,
                    0,
                    0,
                    0.09224089235067368,
                    -0.007593591697514057,
                    0,
                    0,
                    0,
                    0.00025206967256963253,
                    0,
                    -0.0105575080960989,
                    0.12780112028121948,
                    0,
                    0,
                    0,
                    0.0891239270567894,
                    0,
                    0.12198307365179062,
                    0,
                    0,
                    0,
                    0,
                    0,
                    -0.02624380588531494,
                    0.015569085255265236,
                    0,
                    0,
                    -0.0018329197773709893,
                    -0.03035176545381546,
                    -0.0013809003867208958,
                    0,
                    0,
                    0,
                    0,
                    0.04217727109789848,
                    0,
                    0.019532585516572,
                    0,
                    0,
                    0,
                    0,
                    -0.0773853287100792,
                    0,
                    0,
                    0,
                    0.4831238389015198,
                    0,
                    0,
                    0,
                    0,
                    0,
                    0,
                    0,
                    0.24448466300964355,
                    0,
                    0.3644762337207794,
                    0.01521566603332758,
                    0,
                    0,
                    0,
                    0,
                    0,
                    0,
                    0,
                    0,
                    0,
                    0,
                    0,
                    0,
                    0,
                    0,
                    0,
                    0.19514082372188568,
                    0,
                    0,
                    0.030624693259596825,
                    0,
                    0,
                    0,
                    -0.026052476838231087,
                    -3.6499125957489014,
                    0,
                    0,
                    0,
                    0,
                    0,
                    0,
                    0,
                    0,
                    0,
                    0,
                    0,
                    -0.14966735243797302,
                    0.6132245063781738,
                    0,
                    0,
                    -0.5194705724716187,
                    0,
                    0,
                    0,
                    0,
                    -0.0430416502058506,
                    0,
                    0,
                    -0.008162003010511398,
                    0,
                    0,
                    0.08642783761024475,
                    0,
                    0,
                    0,
                    0,
                    0,
                    0,
                    0,
                    0,
                    0,
                    -0.12862932682037354,
                    0,
                    0,
                    -0.01706075854599476,
                    0,
                    0.3806878626346588,
                    0.17786644399166107,
                    0.0631512776017189,
                    0,
                    0,
                    0,
                    -0.07738696783781052,
                    0,
                    0,
                    0,
                    0.07942342013120651,
                    0,
                    0,
                    0,
                    0,
                    0,
                    0,
                    0,
                    0,
                    0.1508280485868454,
                    0,
                    0,
                    -0.16098588705062866,
                    0,
                    0,
                    0,
                    0,
                    0,
                    -0.017609454691410065,
                    0,
                    0,
                    0,
                    0.14294390380382538,
                    0,
                    0,
                    0,
                    0,
                    0,
                    0,
                    0,
                    0,
                    0,
                    0,
                    0,
                    0.14211030304431915,
                    0,
                    0.24315227568149567,
                    0,
                    0.01940983347594738,
                    0,
                    0.00914992205798626,
                    0,
                    -0.034292664378881454,
                    0,
                    -0.7469980120658875,
                    0,
                    0,
                    0,
                    -0.0027024648152291775,
                    0,
                    -0.099861741065979,
                    -0.023273004218935966,
                    0,
                    0,
                    -0.1328008770942688,
                    0,
                    -0.0037129188422113657,
                    0,
                    0,
                    0,
                    0.23850302398204803,
                    0,
                    0,
                    -0.004773028194904327,
                    0.3200008273124695,
                    -0.02787661924958229,
                    0,
                    0,
                    0,
                    -0.018312619999051094,
                    -0.03804737329483032,
                    -0.007692956365644932,
                    0.1913241595029831,
                    0,
                    0.22556760907173157,
                    0,
                    0,
                    -0.0011069892207160592,
                    0,
                    0,
                    0,
                    0,
                    -0.00019768373749684542,
                    -0.0007624209392815828,
                    0,
                    0.06684320420026779,
                    0,
                    0,
                    0,
                    -0.058946698904037476,
                    0,
                    0.18552130460739136,
                    0,
                    0.000608716334681958,
                    0,
                    0,
                    -0.03699866309762001,
                    0,
                    0,
                    0,
                    -0.08624852448701859,
                    0.014316586777567863,
                    0,
                    0,
                    -0.04558853805065155,
                    0,
                    0.07721132785081863,
                    0,
                    0,
                    0.004302543587982655,
                    0,
                    -0.0780753493309021,
                    -0.3219253122806549,
                    0,
                    0,
                    -0.2932894229888916,
                    0,
                    0.07301197201013565,
                    0,
                    0,
                    -0.000043079817260149866,
                    -0.002688024891540408,
                    -0.21355374157428741,
                    0,
                    0,
                    0,
                    0.21441511809825897,
                    -0.05537420138716698,
                    0,
                    -0.7057098150253296,
                    0,
                    0,
                    0,
                    0.0004881827044300735,
                    0,
                    0,
                    -0.00594764668494463,
                    0,
                    0,
                    0.0021817898377776146,
                    -0.01913433149456978,
                    0.20080915093421936,
                    0.09544580429792404,
                    0,
                    0,
                    0,
                    0,
                    -0.05019799619913101,
                    0.0007403809577226639,
                    0.004461920820176601,
                    0,
                    0,
                    0,
                    0.08788666874170303,
                    0,
                    0.014786112122237682,
                    0,
                    0.19413337111473083,
                    0.006998015567660332,
                    0.02901652827858925,
                    0,
                    -0.10416621714830399,
                    0,
                    0,
                    0,
                    0,
                    0.012498065829277039,
                    0,
                    -0.008300596848130226,
                    0,
                    0,
                    0,
                    0,
                    0.15824097394943237,
                    0,
                    0,
                    0.003579747397452593,
                    -0.04814529046416283,
                    0,
                    -0.004027521703392267,
                    0,
                    0.0772206112742424,
                    -0.004457379225641489,
                    -0.007876276038587093,
                    0,
                    0,
                    0.009548117406666279,
                    0.4064636528491974,
                    -0.3488391041755676,
                    0.16599635779857635,
                    -0.002685891930013895,
                    0,
                    0,
                    -0.004489832557737827,
                    0,
                    0,
                    0,
                    0,
                    0,
                    0,
                    0,
                    0,
                    0,
                    -0.0032288513612002134,
                    0,
                    0,
                    0,
                    0,
                    0,
                    0,
                    0,
                    0.15633276104927063,
                    0,
                    0,
                    0,
                    0.8412667512893677,
                    0.03371940553188324,
                    0,
                    0,
                    0,
                    0,
                    0,
                    0,
                    0.441436767578125,
                    0,
                    0.6072715520858765,
                    0.02843879722058773,
                    0,
                    0,
                    0,
                    0,
                    0,
                    0,
                    0,
                    0,
                    -0.06067393347620964,
                    0,
                    0,
                    0,
                    0.002627989510074258,
                    0,
                    0.05385001748800278,
                    0.26296496391296387,
                    0,
                    0,
                    0,
                    0,
                    0,
                    0,
                    0,
                    0,
                    0,
                    0,
                    0,
                    0,
                    0,
                    0,
                    0.09465082734823227,
                    0,
                    0,
                    0,
                    0,
                    -0.12734775245189667,
                    1.1480276584625244,
                    0,
                    0,
                    -0.4922231435775757,
                    0,
                    0.06193838641047478,
                    0,
                    0,
                    -0.09508299082517624,
                    0,
                    0,
                    -0.010777363553643227,
                    -0.007871723733842373,
                    0,
                    0.17714984714984894,
                    0,
                    0,
                    0,
                    0,
                    0,
                    0,
                    0,
                    0,
                    0,
                    -0.2962990403175354,
                    0,
                    0.002989859553053975,
                    -0.055366091430187225,
                    0,
                    0.7413766384124756,
                    0.16075171530246735,
                    0.17017091810703278,
                    0,
                    0,
                    0,
                    -0.0982864573597908,
                    0,
                    0,
                    0.016112666577100754,
                    0,
                    0,
                    0,
                    0,
                    0,
                    0,
                    0.258243590593338,
                    0,
                    0,
                    0.1056290715932846,
                    0,
                    0,
                    -0.14847096800804138,
                    0,
                    0,
                    0,
                    0,
                    0,
                    -0.0096356812864542,
                    0,
                    0,
                    0,
                    0.2640049159526825,
                    0,
                    0,
                    0,
                    -0.25095024704933167,
                    0,
                    0,
                    0,
                    0.05971333011984825,
                    0,
                    0,
                    -1.1732052564620972,
                    0,
                    0,
                    0.3865102231502533,
                    0,
                    0,
                    0,
                    0,
                    0,
                    -0.00037682344554923475,
                    0,
                    -1.6979303359985352,
                    0,
                    0,
                    0,
                    0,
                    0,
                    0,
                    0,
                    0,
                    0,
                    0,
                    0,
                    0,
                    0,
                    0,
                    0,
                    0.1774766743183136,
                    0.0014904054114595056,
                    0.0071158683858811855,
                    0,
                    0.603282630443573,
                    0,
                    0.00042466472950764,
                    0,
                    0,
                    0,
                    0,
                    0,
                    0.4927082061767578,
                    0,
                    0.36233553290367126,
                    0.0005564598250202835,
                    0,
                    0,
                    -0.0013509852578863502,
                    0,
                    0,
                    0,
                    0,
                    0,
                    0,
                    0.12895743548870087,
                    0.0075814262963831425,
                    0,
                    0,
                    0,
                    -0.04175352677702904,
                    0.03057192824780941,
                    0.0008183155441656709,
                    0,
                    0,
                    0,
                    0,
                    -0.7474642992019653,
                    0,
                    0,
                    0,
                    0,
                    0,
                    0.10986067354679108,
                    0,
                    0,
                    0.02239631675183773,
                    0.3257019519805908,
                    0,
                    0,
                    0,
                    -0.08329460024833679,
                    -0.1301734894514084,
                    -0.007632181979715824,
                    0,
                    -0.6530570983886719,
                    0,
                    0.19059965014457703,
                    0.019458157941699028,
                    0,
                    -0.009507064707577229,
                    -0.02116844244301319,
                    0,
                    0,
                    0,
                    0,
                    0.3347288966178894,
                    0.002195745939388871,
                    0,
                    -1.3856467008590698,
                    0,
                    -0.0011153093073517084,
                    -0.0345180407166481,
                    0,
                    0,
                    0,
                    -0.10994269698858261,
                    0.1136208102107048,
                    0.16044528782367706,
                    -0.012100649066269398,
                    0,
                    0.4356381297111511,
                    0.20925495028495789,
                    0.09876468777656555,
                    -0.03368933126330376,
                    0,
                    -0.003880203701555729,
                    0,
                    0,
                    0,
                    0,
                    0.14789269864559174,
                    0,
                    0.12717680633068085,
                    0.025492610409855843,
                    0.031152253970503807,
                    0,
                    0.2978954315185547,
                    0,
                    0,
                    0,
                    0,
                    0,
                    0,
                    0,
                    -0.002568839816376567,
                    0,
                    0,
                    0,
                    0,
                    0,
                    0,
                    0,
                    0.1896226704120636,
                    -0.008259107358753681,
                    0,
                    0,
                    0,
                    0,
                    0,
                    0,
                    0.1367320865392685,
                    0,
                    0,
                    0,
                    0.14234209060668945,
                    0,
                    0.1923125982284546,
                    0,
                    0,
                    0,
                    0,
                    0.04748091846704483,
                    0,
                    0,
                    0,
                    0,
                    0,
                    -0.000004651805284083821,
                    -0.0013465348165482283,
                    0.030814435333013535,
                    0,
                    0,
                    0,
                    0,
                    0,
                    0,
                    0,
                    0,
                    0.5228421688079834,
                    0,
                    0.2868010997772217,
                    -0.00028228265000507236,
                    0,
                    0,
                    1.2146575450897217,
                    0,
                    0,
                    0,
                    0,
                    0,
                    0,
                    0,
                    0.8045452237129211,
                    0,
                    0.6336597800254822,
                    0,
                    0,
                    0,
                    0,
                    0,
                    0,
                    0,
                    0,
                    0,
                    0,
                    0,
                    0,
                    -0.0033851880580186844,
                    0,
                    0,
                    0,
                    0,
                    0,
                    0,
                    0,
                    0.009303292259573936,
                    0,
                    0,
                    0,
                    0,
                    0,
                    0,
                    0,
                    0,
                    0,
                    0,
                    0.09192036092281342,
                    0.09595151245594025,
                    0,
                    0,
                    0.001680545276030898,
                    -0.2979384660720825,
                    0.40316149592399597,
                    0,
                    0,
                    -1.4899810552597046,
                    -0.00119017472025007,
                    0.2771192789077759,
                    0.16988736391067505,
                    0,
                    -0.05771113187074661,
                    0,
                    0,
                    0,
                    0,
                    0,
                    0.07558929920196533,
                    0,
                    0,
                    0,
                    0,
                    0,
                    0,
                    0,
                    0,
                    0,
                    -0.46503540873527527,
                    0,
                    0,
                    -0.19253169000148773,
                    0,
                    1.2028478384017944,
                    0.08788477629423141,
                    0.7111148238182068,
                    0,
                    0,
                    0,
                    0,
                    0.001083316165022552,
                    0,
                    0,
                    0.363186776638031,
                    0,
                    0,
                    0.02186528965830803,
                    0,
                    0,
                    0.3201766312122345,
                    0,
                    0,
                    0.2421378642320633,
                    0,
                    0,
                    0,
                    0,
                    0,
                    0,
                    0,
                    0,
                    -0.46221673488616943,
                    -0.1066255271434784,
                    -0.003629702376201749,
                    0,
                    0.2913205325603485,
                    0,
                    0,
                    0,
                    0,
                    0,
                    0,
                    0,
                    0.14044465124607086,
                    0,
                    0,
                    0,
                    0.06464381515979767,
                    0,
                    0.6324959397315979,
                    0,
                    0,
                    0,
                    0,
                    0.1697515845298767,
                    0,
                    0,
                    -2.1080968379974365,
                    0,
                    0,
                    0,
                    -0.0003802903229370713,
                    0,
                    -0.053393784910440445,
                    0,
                    0,
                    0
                  ],
                  "yaxis": "y"
                }
              ],
              "layout": {
                "legend": {
                  "tracegroupgap": 0
                },
                "shapes": [
                  {
                    "line": {
                      "color": "gray",
                      "dash": "dot",
                      "width": 1
                    },
                    "type": "line",
                    "x0": -2.5627365112304688,
                    "x1": 1.2619514465332031,
                    "y0": -2.5627365112304688,
                    "y1": 1.2619514465332031
                  }
                ],
                "template": {
                  "data": {
                    "bar": [
                      {
                        "error_x": {
                          "color": "#2a3f5f"
                        },
                        "error_y": {
                          "color": "#2a3f5f"
                        },
                        "marker": {
                          "line": {
                            "color": "#E5ECF6",
                            "width": 0.5
                          },
                          "pattern": {
                            "fillmode": "overlay",
                            "size": 10,
                            "solidity": 0.2
                          }
                        },
                        "type": "bar"
                      }
                    ],
                    "barpolar": [
                      {
                        "marker": {
                          "line": {
                            "color": "#E5ECF6",
                            "width": 0.5
                          },
                          "pattern": {
                            "fillmode": "overlay",
                            "size": 10,
                            "solidity": 0.2
                          }
                        },
                        "type": "barpolar"
                      }
                    ],
                    "carpet": [
                      {
                        "aaxis": {
                          "endlinecolor": "#2a3f5f",
                          "gridcolor": "white",
                          "linecolor": "white",
                          "minorgridcolor": "white",
                          "startlinecolor": "#2a3f5f"
                        },
                        "baxis": {
                          "endlinecolor": "#2a3f5f",
                          "gridcolor": "white",
                          "linecolor": "white",
                          "minorgridcolor": "white",
                          "startlinecolor": "#2a3f5f"
                        },
                        "type": "carpet"
                      }
                    ],
                    "choropleth": [
                      {
                        "colorbar": {
                          "outlinewidth": 0,
                          "ticks": ""
                        },
                        "type": "choropleth"
                      }
                    ],
                    "contour": [
                      {
                        "colorbar": {
                          "outlinewidth": 0,
                          "ticks": ""
                        },
                        "colorscale": [
                          [
                            0,
                            "#0d0887"
                          ],
                          [
                            0.1111111111111111,
                            "#46039f"
                          ],
                          [
                            0.2222222222222222,
                            "#7201a8"
                          ],
                          [
                            0.3333333333333333,
                            "#9c179e"
                          ],
                          [
                            0.4444444444444444,
                            "#bd3786"
                          ],
                          [
                            0.5555555555555556,
                            "#d8576b"
                          ],
                          [
                            0.6666666666666666,
                            "#ed7953"
                          ],
                          [
                            0.7777777777777778,
                            "#fb9f3a"
                          ],
                          [
                            0.8888888888888888,
                            "#fdca26"
                          ],
                          [
                            1,
                            "#f0f921"
                          ]
                        ],
                        "type": "contour"
                      }
                    ],
                    "contourcarpet": [
                      {
                        "colorbar": {
                          "outlinewidth": 0,
                          "ticks": ""
                        },
                        "type": "contourcarpet"
                      }
                    ],
                    "heatmap": [
                      {
                        "colorbar": {
                          "outlinewidth": 0,
                          "ticks": ""
                        },
                        "colorscale": [
                          [
                            0,
                            "#0d0887"
                          ],
                          [
                            0.1111111111111111,
                            "#46039f"
                          ],
                          [
                            0.2222222222222222,
                            "#7201a8"
                          ],
                          [
                            0.3333333333333333,
                            "#9c179e"
                          ],
                          [
                            0.4444444444444444,
                            "#bd3786"
                          ],
                          [
                            0.5555555555555556,
                            "#d8576b"
                          ],
                          [
                            0.6666666666666666,
                            "#ed7953"
                          ],
                          [
                            0.7777777777777778,
                            "#fb9f3a"
                          ],
                          [
                            0.8888888888888888,
                            "#fdca26"
                          ],
                          [
                            1,
                            "#f0f921"
                          ]
                        ],
                        "type": "heatmap"
                      }
                    ],
                    "heatmapgl": [
                      {
                        "colorbar": {
                          "outlinewidth": 0,
                          "ticks": ""
                        },
                        "colorscale": [
                          [
                            0,
                            "#0d0887"
                          ],
                          [
                            0.1111111111111111,
                            "#46039f"
                          ],
                          [
                            0.2222222222222222,
                            "#7201a8"
                          ],
                          [
                            0.3333333333333333,
                            "#9c179e"
                          ],
                          [
                            0.4444444444444444,
                            "#bd3786"
                          ],
                          [
                            0.5555555555555556,
                            "#d8576b"
                          ],
                          [
                            0.6666666666666666,
                            "#ed7953"
                          ],
                          [
                            0.7777777777777778,
                            "#fb9f3a"
                          ],
                          [
                            0.8888888888888888,
                            "#fdca26"
                          ],
                          [
                            1,
                            "#f0f921"
                          ]
                        ],
                        "type": "heatmapgl"
                      }
                    ],
                    "histogram": [
                      {
                        "marker": {
                          "pattern": {
                            "fillmode": "overlay",
                            "size": 10,
                            "solidity": 0.2
                          }
                        },
                        "type": "histogram"
                      }
                    ],
                    "histogram2d": [
                      {
                        "colorbar": {
                          "outlinewidth": 0,
                          "ticks": ""
                        },
                        "colorscale": [
                          [
                            0,
                            "#0d0887"
                          ],
                          [
                            0.1111111111111111,
                            "#46039f"
                          ],
                          [
                            0.2222222222222222,
                            "#7201a8"
                          ],
                          [
                            0.3333333333333333,
                            "#9c179e"
                          ],
                          [
                            0.4444444444444444,
                            "#bd3786"
                          ],
                          [
                            0.5555555555555556,
                            "#d8576b"
                          ],
                          [
                            0.6666666666666666,
                            "#ed7953"
                          ],
                          [
                            0.7777777777777778,
                            "#fb9f3a"
                          ],
                          [
                            0.8888888888888888,
                            "#fdca26"
                          ],
                          [
                            1,
                            "#f0f921"
                          ]
                        ],
                        "type": "histogram2d"
                      }
                    ],
                    "histogram2dcontour": [
                      {
                        "colorbar": {
                          "outlinewidth": 0,
                          "ticks": ""
                        },
                        "colorscale": [
                          [
                            0,
                            "#0d0887"
                          ],
                          [
                            0.1111111111111111,
                            "#46039f"
                          ],
                          [
                            0.2222222222222222,
                            "#7201a8"
                          ],
                          [
                            0.3333333333333333,
                            "#9c179e"
                          ],
                          [
                            0.4444444444444444,
                            "#bd3786"
                          ],
                          [
                            0.5555555555555556,
                            "#d8576b"
                          ],
                          [
                            0.6666666666666666,
                            "#ed7953"
                          ],
                          [
                            0.7777777777777778,
                            "#fb9f3a"
                          ],
                          [
                            0.8888888888888888,
                            "#fdca26"
                          ],
                          [
                            1,
                            "#f0f921"
                          ]
                        ],
                        "type": "histogram2dcontour"
                      }
                    ],
                    "mesh3d": [
                      {
                        "colorbar": {
                          "outlinewidth": 0,
                          "ticks": ""
                        },
                        "type": "mesh3d"
                      }
                    ],
                    "parcoords": [
                      {
                        "line": {
                          "colorbar": {
                            "outlinewidth": 0,
                            "ticks": ""
                          }
                        },
                        "type": "parcoords"
                      }
                    ],
                    "pie": [
                      {
                        "automargin": true,
                        "type": "pie"
                      }
                    ],
                    "scatter": [
                      {
                        "fillpattern": {
                          "fillmode": "overlay",
                          "size": 10,
                          "solidity": 0.2
                        },
                        "type": "scatter"
                      }
                    ],
                    "scatter3d": [
                      {
                        "line": {
                          "colorbar": {
                            "outlinewidth": 0,
                            "ticks": ""
                          }
                        },
                        "marker": {
                          "colorbar": {
                            "outlinewidth": 0,
                            "ticks": ""
                          }
                        },
                        "type": "scatter3d"
                      }
                    ],
                    "scattercarpet": [
                      {
                        "marker": {
                          "colorbar": {
                            "outlinewidth": 0,
                            "ticks": ""
                          }
                        },
                        "type": "scattercarpet"
                      }
                    ],
                    "scattergeo": [
                      {
                        "marker": {
                          "colorbar": {
                            "outlinewidth": 0,
                            "ticks": ""
                          }
                        },
                        "type": "scattergeo"
                      }
                    ],
                    "scattergl": [
                      {
                        "marker": {
                          "colorbar": {
                            "outlinewidth": 0,
                            "ticks": ""
                          }
                        },
                        "type": "scattergl"
                      }
                    ],
                    "scattermapbox": [
                      {
                        "marker": {
                          "colorbar": {
                            "outlinewidth": 0,
                            "ticks": ""
                          }
                        },
                        "type": "scattermapbox"
                      }
                    ],
                    "scatterpolar": [
                      {
                        "marker": {
                          "colorbar": {
                            "outlinewidth": 0,
                            "ticks": ""
                          }
                        },
                        "type": "scatterpolar"
                      }
                    ],
                    "scatterpolargl": [
                      {
                        "marker": {
                          "colorbar": {
                            "outlinewidth": 0,
                            "ticks": ""
                          }
                        },
                        "type": "scatterpolargl"
                      }
                    ],
                    "scatterternary": [
                      {
                        "marker": {
                          "colorbar": {
                            "outlinewidth": 0,
                            "ticks": ""
                          }
                        },
                        "type": "scatterternary"
                      }
                    ],
                    "surface": [
                      {
                        "colorbar": {
                          "outlinewidth": 0,
                          "ticks": ""
                        },
                        "colorscale": [
                          [
                            0,
                            "#0d0887"
                          ],
                          [
                            0.1111111111111111,
                            "#46039f"
                          ],
                          [
                            0.2222222222222222,
                            "#7201a8"
                          ],
                          [
                            0.3333333333333333,
                            "#9c179e"
                          ],
                          [
                            0.4444444444444444,
                            "#bd3786"
                          ],
                          [
                            0.5555555555555556,
                            "#d8576b"
                          ],
                          [
                            0.6666666666666666,
                            "#ed7953"
                          ],
                          [
                            0.7777777777777778,
                            "#fb9f3a"
                          ],
                          [
                            0.8888888888888888,
                            "#fdca26"
                          ],
                          [
                            1,
                            "#f0f921"
                          ]
                        ],
                        "type": "surface"
                      }
                    ],
                    "table": [
                      {
                        "cells": {
                          "fill": {
                            "color": "#EBF0F8"
                          },
                          "line": {
                            "color": "white"
                          }
                        },
                        "header": {
                          "fill": {
                            "color": "#C8D4E3"
                          },
                          "line": {
                            "color": "white"
                          }
                        },
                        "type": "table"
                      }
                    ]
                  },
                  "layout": {
                    "annotationdefaults": {
                      "arrowcolor": "#2a3f5f",
                      "arrowhead": 0,
                      "arrowwidth": 1
                    },
                    "autotypenumbers": "strict",
                    "coloraxis": {
                      "colorbar": {
                        "outlinewidth": 0,
                        "ticks": ""
                      }
                    },
                    "colorscale": {
                      "diverging": [
                        [
                          0,
                          "#8e0152"
                        ],
                        [
                          0.1,
                          "#c51b7d"
                        ],
                        [
                          0.2,
                          "#de77ae"
                        ],
                        [
                          0.3,
                          "#f1b6da"
                        ],
                        [
                          0.4,
                          "#fde0ef"
                        ],
                        [
                          0.5,
                          "#f7f7f7"
                        ],
                        [
                          0.6,
                          "#e6f5d0"
                        ],
                        [
                          0.7,
                          "#b8e186"
                        ],
                        [
                          0.8,
                          "#7fbc41"
                        ],
                        [
                          0.9,
                          "#4d9221"
                        ],
                        [
                          1,
                          "#276419"
                        ]
                      ],
                      "sequential": [
                        [
                          0,
                          "#0d0887"
                        ],
                        [
                          0.1111111111111111,
                          "#46039f"
                        ],
                        [
                          0.2222222222222222,
                          "#7201a8"
                        ],
                        [
                          0.3333333333333333,
                          "#9c179e"
                        ],
                        [
                          0.4444444444444444,
                          "#bd3786"
                        ],
                        [
                          0.5555555555555556,
                          "#d8576b"
                        ],
                        [
                          0.6666666666666666,
                          "#ed7953"
                        ],
                        [
                          0.7777777777777778,
                          "#fb9f3a"
                        ],
                        [
                          0.8888888888888888,
                          "#fdca26"
                        ],
                        [
                          1,
                          "#f0f921"
                        ]
                      ],
                      "sequentialminus": [
                        [
                          0,
                          "#0d0887"
                        ],
                        [
                          0.1111111111111111,
                          "#46039f"
                        ],
                        [
                          0.2222222222222222,
                          "#7201a8"
                        ],
                        [
                          0.3333333333333333,
                          "#9c179e"
                        ],
                        [
                          0.4444444444444444,
                          "#bd3786"
                        ],
                        [
                          0.5555555555555556,
                          "#d8576b"
                        ],
                        [
                          0.6666666666666666,
                          "#ed7953"
                        ],
                        [
                          0.7777777777777778,
                          "#fb9f3a"
                        ],
                        [
                          0.8888888888888888,
                          "#fdca26"
                        ],
                        [
                          1,
                          "#f0f921"
                        ]
                      ]
                    },
                    "colorway": [
                      "#636efa",
                      "#EF553B",
                      "#00cc96",
                      "#ab63fa",
                      "#FFA15A",
                      "#19d3f3",
                      "#FF6692",
                      "#B6E880",
                      "#FF97FF",
                      "#FECB52"
                    ],
                    "font": {
                      "color": "#2a3f5f"
                    },
                    "geo": {
                      "bgcolor": "white",
                      "lakecolor": "white",
                      "landcolor": "#E5ECF6",
                      "showlakes": true,
                      "showland": true,
                      "subunitcolor": "white"
                    },
                    "hoverlabel": {
                      "align": "left"
                    },
                    "hovermode": "closest",
                    "mapbox": {
                      "style": "light"
                    },
                    "paper_bgcolor": "white",
                    "plot_bgcolor": "#E5ECF6",
                    "polar": {
                      "angularaxis": {
                        "gridcolor": "white",
                        "linecolor": "white",
                        "ticks": ""
                      },
                      "bgcolor": "#E5ECF6",
                      "radialaxis": {
                        "gridcolor": "white",
                        "linecolor": "white",
                        "ticks": ""
                      }
                    },
                    "scene": {
                      "xaxis": {
                        "backgroundcolor": "#E5ECF6",
                        "gridcolor": "white",
                        "gridwidth": 2,
                        "linecolor": "white",
                        "showbackground": true,
                        "ticks": "",
                        "zerolinecolor": "white"
                      },
                      "yaxis": {
                        "backgroundcolor": "#E5ECF6",
                        "gridcolor": "white",
                        "gridwidth": 2,
                        "linecolor": "white",
                        "showbackground": true,
                        "ticks": "",
                        "zerolinecolor": "white"
                      },
                      "zaxis": {
                        "backgroundcolor": "#E5ECF6",
                        "gridcolor": "white",
                        "gridwidth": 2,
                        "linecolor": "white",
                        "showbackground": true,
                        "ticks": "",
                        "zerolinecolor": "white"
                      }
                    },
                    "shapedefaults": {
                      "line": {
                        "color": "#2a3f5f"
                      }
                    },
                    "ternary": {
                      "aaxis": {
                        "gridcolor": "white",
                        "linecolor": "white",
                        "ticks": ""
                      },
                      "baxis": {
                        "gridcolor": "white",
                        "linecolor": "white",
                        "ticks": ""
                      },
                      "bgcolor": "#E5ECF6",
                      "caxis": {
                        "gridcolor": "white",
                        "linecolor": "white",
                        "ticks": ""
                      }
                    },
                    "title": {
                      "x": 0.05
                    },
                    "xaxis": {
                      "automargin": true,
                      "gridcolor": "white",
                      "linecolor": "white",
                      "ticks": "",
                      "title": {
                        "standoff": 15
                      },
                      "zerolinecolor": "white",
                      "zerolinewidth": 2
                    },
                    "yaxis": {
                      "automargin": true,
                      "gridcolor": "white",
                      "linecolor": "white",
                      "ticks": "",
                      "title": {
                        "standoff": 15
                      },
                      "zerolinecolor": "white",
                      "zerolinewidth": 2
                    }
                  }
                },
                "title": {
                  "text": "Attribution vs Activation Patching Per SAE feature (L6 S2 Pos, all prompts)"
                },
                "xaxis": {
                  "anchor": "y",
                  "domain": [
                    0,
                    1
                  ],
                  "title": {
                    "text": "Activation Patch"
                  }
                },
                "yaxis": {
                  "anchor": "x",
                  "domain": [
                    0,
                    1
                  ],
                  "title": {
                    "text": "Attribution Patch"
                  }
                }
              }
            }
          },
          "metadata": {},
          "output_type": "display_data"
        }
      ],
      "source": [
        "fig = px.scatter(\n",
        "    y=sae_act_attr[:, s2_pos, all_live_features].flatten().cpu(),\n",
        "    x=causal_effects.flatten().cpu(),\n",
        "    title=f\"Attribution vs Activation Patching Per SAE feature (L{layer} S2 Pos, all prompts)\",\n",
        "    labels = {\"x\":\"Activation Patch\", \"y\":\"Attribution Patch\"}\n",
        ")\n",
        "fig.add_shape(\n",
        "    type='line',\n",
        "    x0=causal_effects.min(),\n",
        "    y0=causal_effects.min(),\n",
        "    x1=causal_effects.max(),\n",
        "    y1=causal_effects.max(),\n",
        "    line=dict(\n",
        "        color='gray',\n",
        "        width=1,\n",
        "        dash='dot'\n",
        "    )\n",
        ")\n",
        "fig.show()"
      ]
    }
  ],
  "metadata": {
    "colab": {
      "provenance": []
    },
    "kernelspec": {
      "display_name": "base",
      "language": "python",
      "name": "python3"
    },
    "language_info": {
      "codemirror_mode": {
        "name": "ipython",
        "version": 3
      },
      "file_extension": ".py",
      "mimetype": "text/x-python",
      "name": "python",
      "nbconvert_exporter": "python",
      "pygments_lexer": "ipython3",
      "version": "3.11.6"
    }
  },
  "nbformat": 4,
  "nbformat_minor": 0
}
